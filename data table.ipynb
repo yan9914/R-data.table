{
 "cells": [
  {
   "cell_type": "code",
   "execution_count": 1,
   "metadata": {},
   "outputs": [
    {
     "name": "stderr",
     "output_type": "stream",
     "text": [
      "Warning message:\n",
      "\"package 'data.table' was built under R version 3.5.3\""
     ]
    }
   ],
   "source": [
    "# https://cran.r-project.org/web/packages/data.table/data.table.pdf\n",
    "# 載入套件\n",
    "library(\"data.table\")"
   ]
  },
  {
   "cell_type": "code",
   "execution_count": 2,
   "metadata": {},
   "outputs": [
    {
     "data": {
      "text/html": [
       "<table>\n",
       "<caption>A data.frame: 3 × 3</caption>\n",
       "<thead>\n",
       "\t<tr><th></th><th scope=col>name</th><th scope=col>age</th><th scope=col>gender</th></tr>\n",
       "\t<tr><th></th><th scope=col>&lt;fct&gt;</th><th scope=col>&lt;fct&gt;</th><th scope=col>&lt;fct&gt;</th></tr>\n",
       "</thead>\n",
       "<tbody>\n",
       "\t<tr><th scope=row>a</th><td>Joe  </td><td>28</td><td>Male  </td></tr>\n",
       "\t<tr><th scope=row>b</th><td>Bob  </td><td>26</td><td>Male  </td></tr>\n",
       "\t<tr><th scope=row>c</th><td>Vicky</td><td>34</td><td>Female</td></tr>\n",
       "</tbody>\n",
       "</table>\n"
      ],
      "text/latex": [
       "A data.frame: 3 × 3\n",
       "\\begin{tabular}{r|lll}\n",
       "  & name & age & gender\\\\\n",
       "  & <fct> & <fct> & <fct>\\\\\n",
       "\\hline\n",
       "\ta & Joe   & 28 & Male  \\\\\n",
       "\tb & Bob   & 26 & Male  \\\\\n",
       "\tc & Vicky & 34 & Female\\\\\n",
       "\\end{tabular}\n"
      ],
      "text/markdown": [
       "\n",
       "A data.frame: 3 × 3\n",
       "\n",
       "| <!--/--> | name &lt;fct&gt; | age &lt;fct&gt; | gender &lt;fct&gt; |\n",
       "|---|---|---|---|\n",
       "| a | Joe   | 28 | Male   |\n",
       "| b | Bob   | 26 | Male   |\n",
       "| c | Vicky | 34 | Female |\n",
       "\n"
      ],
      "text/plain": [
       "  name  age gender\n",
       "a Joe   28  Male  \n",
       "b Bob   26  Male  \n",
       "c Vicky 34  Female"
      ]
     },
     "metadata": {},
     "output_type": "display_data"
    }
   ],
   "source": [
    "# 建立一data.frame資料\n",
    "name <- c(\"Joe\", \"Bob\", \"Vicky\")\n",
    "age <- c(\"28\", \"26\", \"34\")\n",
    "gender <- c(\"Male\",\"Male\",\"Female\")\n",
    "(data <- data.frame(name, age, gender, row.names=c(\"a\",\"b\",\"c\")))"
   ]
  },
  {
   "cell_type": "code",
   "execution_count": 3,
   "metadata": {},
   "outputs": [
    {
     "data": {
      "text/html": [
       "<table>\n",
       "<caption>A data.table: 3 × 3</caption>\n",
       "<thead>\n",
       "\t<tr><th scope=col>name</th><th scope=col>age</th><th scope=col>gender</th></tr>\n",
       "\t<tr><th scope=col>&lt;fct&gt;</th><th scope=col>&lt;fct&gt;</th><th scope=col>&lt;fct&gt;</th></tr>\n",
       "</thead>\n",
       "<tbody>\n",
       "\t<tr><td>Joe  </td><td>28</td><td>Male  </td></tr>\n",
       "\t<tr><td>Bob  </td><td>26</td><td>Male  </td></tr>\n",
       "\t<tr><td>Vicky</td><td>34</td><td>Female</td></tr>\n",
       "</tbody>\n",
       "</table>\n"
      ],
      "text/latex": [
       "A data.table: 3 × 3\n",
       "\\begin{tabular}{r|lll}\n",
       " name & age & gender\\\\\n",
       " <fct> & <fct> & <fct>\\\\\n",
       "\\hline\n",
       "\t Joe   & 28 & Male  \\\\\n",
       "\t Bob   & 26 & Male  \\\\\n",
       "\t Vicky & 34 & Female\\\\\n",
       "\\end{tabular}\n"
      ],
      "text/markdown": [
       "\n",
       "A data.table: 3 × 3\n",
       "\n",
       "| name &lt;fct&gt; | age &lt;fct&gt; | gender &lt;fct&gt; |\n",
       "|---|---|---|\n",
       "| Joe   | 28 | Male   |\n",
       "| Bob   | 26 | Male   |\n",
       "| Vicky | 34 | Female |\n",
       "\n"
      ],
      "text/plain": [
       "  name  age gender\n",
       "1 Joe   28  Male  \n",
       "2 Bob   26  Male  \n",
       "3 Vicky 34  Female"
      ]
     },
     "metadata": {},
     "output_type": "display_data"
    },
    {
     "name": "stdout",
     "output_type": "stream",
     "text": [
      "\n"
     ]
    },
    {
     "data": {
      "text/html": [
       "<table>\n",
       "<caption>A data.table: 3 × 4</caption>\n",
       "<thead>\n",
       "\t<tr><th scope=col>rn</th><th scope=col>name</th><th scope=col>age</th><th scope=col>gender</th></tr>\n",
       "\t<tr><th scope=col>&lt;chr&gt;</th><th scope=col>&lt;fct&gt;</th><th scope=col>&lt;fct&gt;</th><th scope=col>&lt;fct&gt;</th></tr>\n",
       "</thead>\n",
       "<tbody>\n",
       "\t<tr><td>a</td><td>Joe  </td><td>28</td><td>Male  </td></tr>\n",
       "\t<tr><td>b</td><td>Bob  </td><td>26</td><td>Male  </td></tr>\n",
       "\t<tr><td>c</td><td>Vicky</td><td>34</td><td>Female</td></tr>\n",
       "</tbody>\n",
       "</table>\n"
      ],
      "text/latex": [
       "A data.table: 3 × 4\n",
       "\\begin{tabular}{r|llll}\n",
       " rn & name & age & gender\\\\\n",
       " <chr> & <fct> & <fct> & <fct>\\\\\n",
       "\\hline\n",
       "\t a & Joe   & 28 & Male  \\\\\n",
       "\t b & Bob   & 26 & Male  \\\\\n",
       "\t c & Vicky & 34 & Female\\\\\n",
       "\\end{tabular}\n"
      ],
      "text/markdown": [
       "\n",
       "A data.table: 3 × 4\n",
       "\n",
       "| rn &lt;chr&gt; | name &lt;fct&gt; | age &lt;fct&gt; | gender &lt;fct&gt; |\n",
       "|---|---|---|---|\n",
       "| a | Joe   | 28 | Male   |\n",
       "| b | Bob   | 26 | Male   |\n",
       "| c | Vicky | 34 | Female |\n",
       "\n"
      ],
      "text/plain": [
       "  rn name  age gender\n",
       "1 a  Joe   28  Male  \n",
       "2 b  Bob   26  Male  \n",
       "3 c  Vicky 34  Female"
      ]
     },
     "metadata": {},
     "output_type": "display_data"
    }
   ],
   "source": [
    "# data.table不包含rownames\n",
    "(x1 <- data.table(data))\n",
    "\n",
    "cat(\"\\n\")\n",
    "\n",
    "#可設置參數keep.rownames = TRUE, 新增一行rn來表示rownames\n",
    "(x1 <- data.table(data, keep.rownames = TRUE))"
   ]
  },
  {
   "cell_type": "code",
   "execution_count": 4,
   "metadata": {},
   "outputs": [
    {
     "data": {
      "text/html": [
       "'factor'"
      ],
      "text/latex": [
       "'factor'"
      ],
      "text/markdown": [
       "'factor'"
      ],
      "text/plain": [
       "[1] \"factor\""
      ]
     },
     "metadata": {},
     "output_type": "display_data"
    },
    {
     "data": {
      "text/html": [
       "'factor'"
      ],
      "text/latex": [
       "'factor'"
      ],
      "text/markdown": [
       "'factor'"
      ],
      "text/plain": [
       "[1] \"factor\""
      ]
     },
     "metadata": {},
     "output_type": "display_data"
    },
    {
     "data": {
      "text/html": [
       "'character'"
      ],
      "text/latex": [
       "'character'"
      ],
      "text/markdown": [
       "'character'"
      ],
      "text/plain": [
       "[1] \"character\""
      ]
     },
     "metadata": {},
     "output_type": "display_data"
    }
   ],
   "source": [
    "# data.table預設stringsAsFactors為FALSE, 但從data.frame轉換來的依然有Factor\n",
    "x2 <- data.table(name, age, gender)\n",
    "class(data$name)\n",
    "class(x1$name)\n",
    "class(x2$name)"
   ]
  },
  {
   "cell_type": "code",
   "execution_count": 5,
   "metadata": {},
   "outputs": [
    {
     "data": {
      "text/html": [
       "<table>\n",
       "<caption>A data.table: 3 × 4</caption>\n",
       "<thead>\n",
       "\t<tr><th scope=col>name</th><th scope=col>age</th><th scope=col>gender</th><th scope=col>stupid</th></tr>\n",
       "\t<tr><th scope=col>&lt;chr&gt;</th><th scope=col>&lt;dbl&gt;</th><th scope=col>&lt;chr&gt;</th><th scope=col>&lt;dbl&gt;</th></tr>\n",
       "</thead>\n",
       "<tbody>\n",
       "\t<tr><td>Joe  </td><td>28</td><td>Male  </td><td>87</td></tr>\n",
       "\t<tr><td>Bob  </td><td>26</td><td>Male  </td><td>87</td></tr>\n",
       "\t<tr><td>Vicky</td><td>34</td><td>Female</td><td>87</td></tr>\n",
       "</tbody>\n",
       "</table>\n"
      ],
      "text/latex": [
       "A data.table: 3 × 4\n",
       "\\begin{tabular}{r|llll}\n",
       " name & age & gender & stupid\\\\\n",
       " <chr> & <dbl> & <chr> & <dbl>\\\\\n",
       "\\hline\n",
       "\t Joe   & 28 & Male   & 87\\\\\n",
       "\t Bob   & 26 & Male   & 87\\\\\n",
       "\t Vicky & 34 & Female & 87\\\\\n",
       "\\end{tabular}\n"
      ],
      "text/markdown": [
       "\n",
       "A data.table: 3 × 4\n",
       "\n",
       "| name &lt;chr&gt; | age &lt;dbl&gt; | gender &lt;chr&gt; | stupid &lt;dbl&gt; |\n",
       "|---|---|---|---|\n",
       "| Joe   | 28 | Male   | 87 |\n",
       "| Bob   | 26 | Male   | 87 |\n",
       "| Vicky | 34 | Female | 87 |\n",
       "\n"
      ],
      "text/plain": [
       "  name  age gender stupid\n",
       "1 Joe   28  Male   87    \n",
       "2 Bob   26  Male   87    \n",
       "3 Vicky 34  Female 87    "
      ]
     },
     "metadata": {},
     "output_type": "display_data"
    },
    {
     "name": "stdout",
     "output_type": "stream",
     "text": [
      "\n"
     ]
    },
    {
     "data": {
      "text/html": [
       "<table>\n",
       "<caption>A data.table: 3 × 6</caption>\n",
       "<thead>\n",
       "\t<tr><th scope=col>name</th><th scope=col>age</th><th scope=col>gender</th><th scope=col>stupid</th><th scope=col>age.dev</th><th scope=col>age.sq</th></tr>\n",
       "\t<tr><th scope=col>&lt;chr&gt;</th><th scope=col>&lt;dbl&gt;</th><th scope=col>&lt;chr&gt;</th><th scope=col>&lt;dbl&gt;</th><th scope=col>&lt;dbl&gt;</th><th scope=col>&lt;dbl&gt;</th></tr>\n",
       "</thead>\n",
       "<tbody>\n",
       "\t<tr><td>Joe  </td><td>28</td><td>Male  </td><td>87</td><td>-1.333333</td><td> 1.777778</td></tr>\n",
       "\t<tr><td>Bob  </td><td>26</td><td>Male  </td><td>87</td><td>-3.333333</td><td>11.111111</td></tr>\n",
       "\t<tr><td>Vicky</td><td>34</td><td>Female</td><td>87</td><td> 4.666667</td><td>21.777778</td></tr>\n",
       "</tbody>\n",
       "</table>\n"
      ],
      "text/latex": [
       "A data.table: 3 × 6\n",
       "\\begin{tabular}{r|llllll}\n",
       " name & age & gender & stupid & age.dev & age.sq\\\\\n",
       " <chr> & <dbl> & <chr> & <dbl> & <dbl> & <dbl>\\\\\n",
       "\\hline\n",
       "\t Joe   & 28 & Male   & 87 & -1.333333 &  1.777778\\\\\n",
       "\t Bob   & 26 & Male   & 87 & -3.333333 & 11.111111\\\\\n",
       "\t Vicky & 34 & Female & 87 &  4.666667 & 21.777778\\\\\n",
       "\\end{tabular}\n"
      ],
      "text/markdown": [
       "\n",
       "A data.table: 3 × 6\n",
       "\n",
       "| name &lt;chr&gt; | age &lt;dbl&gt; | gender &lt;chr&gt; | stupid &lt;dbl&gt; | age.dev &lt;dbl&gt; | age.sq &lt;dbl&gt; |\n",
       "|---|---|---|---|---|---|\n",
       "| Joe   | 28 | Male   | 87 | -1.333333 |  1.777778 |\n",
       "| Bob   | 26 | Male   | 87 | -3.333333 | 11.111111 |\n",
       "| Vicky | 34 | Female | 87 |  4.666667 | 21.777778 |\n",
       "\n"
      ],
      "text/plain": [
       "  name  age gender stupid age.dev   age.sq   \n",
       "1 Joe   28  Male   87     -1.333333  1.777778\n",
       "2 Bob   26  Male   87     -3.333333 11.111111\n",
       "3 Vicky 34  Female 87      4.666667 21.777778"
      ]
     },
     "metadata": {},
     "output_type": "display_data"
    },
    {
     "name": "stdout",
     "output_type": "stream",
     "text": [
      "\n"
     ]
    },
    {
     "data": {
      "text/html": [
       "<table>\n",
       "<caption>A data.table: 3 × 3</caption>\n",
       "<thead>\n",
       "\t<tr><th scope=col>name</th><th scope=col>age</th><th scope=col>gender</th></tr>\n",
       "\t<tr><th scope=col>&lt;chr&gt;</th><th scope=col>&lt;dbl&gt;</th><th scope=col>&lt;chr&gt;</th></tr>\n",
       "</thead>\n",
       "<tbody>\n",
       "\t<tr><td>Joe  </td><td>28</td><td>Male  </td></tr>\n",
       "\t<tr><td>Bob  </td><td>26</td><td>Male  </td></tr>\n",
       "\t<tr><td>Vicky</td><td>34</td><td>Female</td></tr>\n",
       "</tbody>\n",
       "</table>\n"
      ],
      "text/latex": [
       "A data.table: 3 × 3\n",
       "\\begin{tabular}{r|lll}\n",
       " name & age & gender\\\\\n",
       " <chr> & <dbl> & <chr>\\\\\n",
       "\\hline\n",
       "\t Joe   & 28 & Male  \\\\\n",
       "\t Bob   & 26 & Male  \\\\\n",
       "\t Vicky & 34 & Female\\\\\n",
       "\\end{tabular}\n"
      ],
      "text/markdown": [
       "\n",
       "A data.table: 3 × 3\n",
       "\n",
       "| name &lt;chr&gt; | age &lt;dbl&gt; | gender &lt;chr&gt; |\n",
       "|---|---|---|\n",
       "| Joe   | 28 | Male   |\n",
       "| Bob   | 26 | Male   |\n",
       "| Vicky | 34 | Female |\n",
       "\n"
      ],
      "text/plain": [
       "  name  age gender\n",
       "1 Joe   28  Male  \n",
       "2 Bob   26  Male  \n",
       "3 Vicky 34  Female"
      ]
     },
     "metadata": {},
     "output_type": "display_data"
    }
   ],
   "source": [
    "# := 不產生副本的情況下, 增減column\n",
    "x2$age <- as.numeric(x2$age)\n",
    "x2[,stupid := 87]\n",
    "x2\n",
    "\n",
    "cat(\"\\n\")\n",
    "\n",
    "# x2[,c(\"age.dev\", \"age.sq\") := list(age-mean(age),(age.dev)^2)] \n",
    "# 會出現error,只能使用已賦值的變數\n",
    "\n",
    "x2[,c(\"age.dev\", \"age.sq\") := list(age-mean(age),(age-mean(age))^2)]\n",
    "x2\n",
    "\n",
    "cat(\"\\n\")\n",
    "\n",
    "# 復原\n",
    "x2[,c(\"stupid\", \"age.dev\",  \"age.sq\") := NULL]\n",
    "x2"
   ]
  },
  {
   "cell_type": "code",
   "execution_count": 6,
   "metadata": {},
   "outputs": [
    {
     "name": "stdout",
     "output_type": "stream",
     "text": [
      "[1] \"data.frame轉成data.table\"\n"
     ]
    },
    {
     "data": {
      "text/html": [
       "<ol class=list-inline>\n",
       "\t<li>'data.table'</li>\n",
       "\t<li>'data.frame'</li>\n",
       "</ol>\n"
      ],
      "text/latex": [
       "\\begin{enumerate*}\n",
       "\\item 'data.table'\n",
       "\\item 'data.frame'\n",
       "\\end{enumerate*}\n"
      ],
      "text/markdown": [
       "1. 'data.table'\n",
       "2. 'data.frame'\n",
       "\n",
       "\n"
      ],
      "text/plain": [
       "[1] \"data.table\" \"data.frame\""
      ]
     },
     "metadata": {},
     "output_type": "display_data"
    },
    {
     "name": "stdout",
     "output_type": "stream",
     "text": [
      "   rn  name age gender\n",
      "1:  a   Joe  28   Male\n",
      "2:  b   Bob  26   Male\n",
      "3:  c Vicky  34 Female\n",
      "\n",
      "[1] \"復原後\"\n"
     ]
    },
    {
     "data": {
      "text/html": [
       "'data.frame'"
      ],
      "text/latex": [
       "'data.frame'"
      ],
      "text/markdown": [
       "'data.frame'"
      ],
      "text/plain": [
       "[1] \"data.frame\""
      ]
     },
     "metadata": {},
     "output_type": "display_data"
    },
    {
     "data": {
      "text/html": [
       "<table>\n",
       "<caption>A data.frame: 3 × 3</caption>\n",
       "<thead>\n",
       "\t<tr><th></th><th scope=col>name</th><th scope=col>age</th><th scope=col>gender</th></tr>\n",
       "\t<tr><th></th><th scope=col>&lt;fct&gt;</th><th scope=col>&lt;fct&gt;</th><th scope=col>&lt;fct&gt;</th></tr>\n",
       "</thead>\n",
       "<tbody>\n",
       "\t<tr><th scope=row>a</th><td>Joe  </td><td>28</td><td>Male  </td></tr>\n",
       "\t<tr><th scope=row>b</th><td>Bob  </td><td>26</td><td>Male  </td></tr>\n",
       "\t<tr><th scope=row>c</th><td>Vicky</td><td>34</td><td>Female</td></tr>\n",
       "</tbody>\n",
       "</table>\n"
      ],
      "text/latex": [
       "A data.frame: 3 × 3\n",
       "\\begin{tabular}{r|lll}\n",
       "  & name & age & gender\\\\\n",
       "  & <fct> & <fct> & <fct>\\\\\n",
       "\\hline\n",
       "\ta & Joe   & 28 & Male  \\\\\n",
       "\tb & Bob   & 26 & Male  \\\\\n",
       "\tc & Vicky & 34 & Female\\\\\n",
       "\\end{tabular}\n"
      ],
      "text/markdown": [
       "\n",
       "A data.frame: 3 × 3\n",
       "\n",
       "| <!--/--> | name &lt;fct&gt; | age &lt;fct&gt; | gender &lt;fct&gt; |\n",
       "|---|---|---|---|\n",
       "| a | Joe   | 28 | Male   |\n",
       "| b | Bob   | 26 | Male   |\n",
       "| c | Vicky | 34 | Female |\n",
       "\n"
      ],
      "text/plain": [
       "  name  age gender\n",
       "a Joe   28  Male  \n",
       "b Bob   26  Male  \n",
       "c Vicky 34  Female"
      ]
     },
     "metadata": {},
     "output_type": "display_data"
    }
   ],
   "source": [
    "# setDT, setDF 不產生副本的情況下,相互轉換data.table跟data.frame\n",
    "print(\"data.frame轉成data.table\")\n",
    "setDT(data, keep.rownames = TRUE)\n",
    "class(data)\n",
    "show(data)\n",
    "\n",
    "cat(\"\\n\")\n",
    "\n",
    "print(\"復原後\")\n",
    "setDF(data, rownames = data$rn)\n",
    "data <- data[,-1]\n",
    "class(data)\n",
    "data"
   ]
  },
  {
   "cell_type": "code",
   "execution_count": 7,
   "metadata": {},
   "outputs": [
    {
     "data": {
      "text/html": [
       "<table>\n",
       "<caption>A data.table: 9 × 5</caption>\n",
       "<thead>\n",
       "\t<tr><th scope=col>x</th><th scope=col>v</th><th scope=col>y</th><th scope=col>a</th><th scope=col>b</th></tr>\n",
       "\t<tr><th scope=col>&lt;chr&gt;</th><th scope=col>&lt;dbl&gt;</th><th scope=col>&lt;dbl&gt;</th><th scope=col>&lt;int&gt;</th><th scope=col>&lt;int&gt;</th></tr>\n",
       "</thead>\n",
       "<tbody>\n",
       "\t<tr><td>b</td><td>1</td><td>1</td><td>1</td><td>9</td></tr>\n",
       "\t<tr><td>b</td><td>1</td><td>3</td><td>2</td><td>8</td></tr>\n",
       "\t<tr><td>b</td><td>1</td><td>6</td><td>3</td><td>7</td></tr>\n",
       "\t<tr><td>a</td><td>2</td><td>1</td><td>4</td><td>6</td></tr>\n",
       "\t<tr><td>a</td><td>2</td><td>3</td><td>5</td><td>5</td></tr>\n",
       "\t<tr><td>a</td><td>1</td><td>6</td><td>6</td><td>4</td></tr>\n",
       "\t<tr><td>c</td><td>1</td><td>1</td><td>7</td><td>3</td></tr>\n",
       "\t<tr><td>c</td><td>2</td><td>3</td><td>8</td><td>2</td></tr>\n",
       "\t<tr><td>c</td><td>2</td><td>6</td><td>9</td><td>1</td></tr>\n",
       "</tbody>\n",
       "</table>\n"
      ],
      "text/latex": [
       "A data.table: 9 × 5\n",
       "\\begin{tabular}{r|lllll}\n",
       " x & v & y & a & b\\\\\n",
       " <chr> & <dbl> & <dbl> & <int> & <int>\\\\\n",
       "\\hline\n",
       "\t b & 1 & 1 & 1 & 9\\\\\n",
       "\t b & 1 & 3 & 2 & 8\\\\\n",
       "\t b & 1 & 6 & 3 & 7\\\\\n",
       "\t a & 2 & 1 & 4 & 6\\\\\n",
       "\t a & 2 & 3 & 5 & 5\\\\\n",
       "\t a & 1 & 6 & 6 & 4\\\\\n",
       "\t c & 1 & 1 & 7 & 3\\\\\n",
       "\t c & 2 & 3 & 8 & 2\\\\\n",
       "\t c & 2 & 6 & 9 & 1\\\\\n",
       "\\end{tabular}\n"
      ],
      "text/markdown": [
       "\n",
       "A data.table: 9 × 5\n",
       "\n",
       "| x &lt;chr&gt; | v &lt;dbl&gt; | y &lt;dbl&gt; | a &lt;int&gt; | b &lt;int&gt; |\n",
       "|---|---|---|---|---|\n",
       "| b | 1 | 1 | 1 | 9 |\n",
       "| b | 1 | 3 | 2 | 8 |\n",
       "| b | 1 | 6 | 3 | 7 |\n",
       "| a | 2 | 1 | 4 | 6 |\n",
       "| a | 2 | 3 | 5 | 5 |\n",
       "| a | 1 | 6 | 6 | 4 |\n",
       "| c | 1 | 1 | 7 | 3 |\n",
       "| c | 2 | 3 | 8 | 2 |\n",
       "| c | 2 | 6 | 9 | 1 |\n",
       "\n"
      ],
      "text/plain": [
       "  x v y a b\n",
       "1 b 1 1 1 9\n",
       "2 b 1 3 2 8\n",
       "3 b 1 6 3 7\n",
       "4 a 2 1 4 6\n",
       "5 a 2 3 5 5\n",
       "6 a 1 6 6 4\n",
       "7 c 1 1 7 3\n",
       "8 c 2 3 8 2\n",
       "9 c 2 6 9 1"
      ]
     },
     "metadata": {},
     "output_type": "display_data"
    },
    {
     "data": {
      "text/html": [
       "<table>\n",
       "<caption>A data.table: 3 × 3</caption>\n",
       "<thead>\n",
       "\t<tr><th scope=col>x</th><th scope=col>v</th><th scope=col>foo</th></tr>\n",
       "\t<tr><th scope=col>&lt;chr&gt;</th><th scope=col>&lt;int&gt;</th><th scope=col>&lt;dbl&gt;</th></tr>\n",
       "</thead>\n",
       "<tbody>\n",
       "\t<tr><td>c</td><td>8</td><td>4</td></tr>\n",
       "\t<tr><td>b</td><td>7</td><td>2</td></tr>\n",
       "\t<tr><td>b</td><td>6</td><td>7</td></tr>\n",
       "</tbody>\n",
       "</table>\n"
      ],
      "text/latex": [
       "A data.table: 3 × 3\n",
       "\\begin{tabular}{r|lll}\n",
       " x & v & foo\\\\\n",
       " <chr> & <int> & <dbl>\\\\\n",
       "\\hline\n",
       "\t c & 8 & 4\\\\\n",
       "\t b & 7 & 2\\\\\n",
       "\t b & 6 & 7\\\\\n",
       "\\end{tabular}\n"
      ],
      "text/markdown": [
       "\n",
       "A data.table: 3 × 3\n",
       "\n",
       "| x &lt;chr&gt; | v &lt;int&gt; | foo &lt;dbl&gt; |\n",
       "|---|---|---|\n",
       "| c | 8 | 4 |\n",
       "| b | 7 | 2 |\n",
       "| b | 6 | 7 |\n",
       "\n"
      ],
      "text/plain": [
       "  x v foo\n",
       "1 c 8 4  \n",
       "2 b 7 2  \n",
       "3 b 6 7  "
      ]
     },
     "metadata": {},
     "output_type": "display_data"
    }
   ],
   "source": [
    "(DT = data.table(x = rep(c(\"b\",\"a\",\"c\"),each=3), v = c(1,1,1,2,2,1,1,2,2), y = c(1,3,6), a = 1:9, b = 9:1))\n",
    "(X = data.table(x = c(\"c\",\"b\",\"b\"), v = 8:6, foo = c(4,2,7)))"
   ]
  },
  {
   "cell_type": "code",
   "execution_count": 8,
   "metadata": {},
   "outputs": [
    {
     "data": {
      "text/html": [
       "<table>\n",
       "<caption>A data.table: 2 × 5</caption>\n",
       "<thead>\n",
       "\t<tr><th scope=col>x</th><th scope=col>v</th><th scope=col>y</th><th scope=col>a</th><th scope=col>b</th></tr>\n",
       "\t<tr><th scope=col>&lt;chr&gt;</th><th scope=col>&lt;dbl&gt;</th><th scope=col>&lt;dbl&gt;</th><th scope=col>&lt;int&gt;</th><th scope=col>&lt;int&gt;</th></tr>\n",
       "</thead>\n",
       "<tbody>\n",
       "\t<tr><td>b</td><td>1</td><td>6</td><td>3</td><td>7</td></tr>\n",
       "\t<tr><td>a</td><td>2</td><td>1</td><td>4</td><td>6</td></tr>\n",
       "</tbody>\n",
       "</table>\n"
      ],
      "text/latex": [
       "A data.table: 2 × 5\n",
       "\\begin{tabular}{r|lllll}\n",
       " x & v & y & a & b\\\\\n",
       " <chr> & <dbl> & <dbl> & <int> & <int>\\\\\n",
       "\\hline\n",
       "\t b & 1 & 6 & 3 & 7\\\\\n",
       "\t a & 2 & 1 & 4 & 6\\\\\n",
       "\\end{tabular}\n"
      ],
      "text/markdown": [
       "\n",
       "A data.table: 2 × 5\n",
       "\n",
       "| x &lt;chr&gt; | v &lt;dbl&gt; | y &lt;dbl&gt; | a &lt;int&gt; | b &lt;int&gt; |\n",
       "|---|---|---|---|---|\n",
       "| b | 1 | 6 | 3 | 7 |\n",
       "| a | 2 | 1 | 4 | 6 |\n",
       "\n"
      ],
      "text/plain": [
       "  x v y a b\n",
       "1 b 1 6 3 7\n",
       "2 a 2 1 4 6"
      ]
     },
     "metadata": {},
     "output_type": "display_data"
    },
    {
     "data": {
      "text/html": [
       "<table>\n",
       "<caption>A data.table: 7 × 5</caption>\n",
       "<thead>\n",
       "\t<tr><th scope=col>x</th><th scope=col>v</th><th scope=col>y</th><th scope=col>a</th><th scope=col>b</th></tr>\n",
       "\t<tr><th scope=col>&lt;chr&gt;</th><th scope=col>&lt;dbl&gt;</th><th scope=col>&lt;dbl&gt;</th><th scope=col>&lt;int&gt;</th><th scope=col>&lt;int&gt;</th></tr>\n",
       "</thead>\n",
       "<tbody>\n",
       "\t<tr><td>b</td><td>1</td><td>1</td><td>1</td><td>9</td></tr>\n",
       "\t<tr><td>b</td><td>1</td><td>3</td><td>2</td><td>8</td></tr>\n",
       "\t<tr><td>a</td><td>2</td><td>3</td><td>5</td><td>5</td></tr>\n",
       "\t<tr><td>a</td><td>1</td><td>6</td><td>6</td><td>4</td></tr>\n",
       "\t<tr><td>c</td><td>1</td><td>1</td><td>7</td><td>3</td></tr>\n",
       "\t<tr><td>c</td><td>2</td><td>3</td><td>8</td><td>2</td></tr>\n",
       "\t<tr><td>c</td><td>2</td><td>6</td><td>9</td><td>1</td></tr>\n",
       "</tbody>\n",
       "</table>\n"
      ],
      "text/latex": [
       "A data.table: 7 × 5\n",
       "\\begin{tabular}{r|lllll}\n",
       " x & v & y & a & b\\\\\n",
       " <chr> & <dbl> & <dbl> & <int> & <int>\\\\\n",
       "\\hline\n",
       "\t b & 1 & 1 & 1 & 9\\\\\n",
       "\t b & 1 & 3 & 2 & 8\\\\\n",
       "\t a & 2 & 3 & 5 & 5\\\\\n",
       "\t a & 1 & 6 & 6 & 4\\\\\n",
       "\t c & 1 & 1 & 7 & 3\\\\\n",
       "\t c & 2 & 3 & 8 & 2\\\\\n",
       "\t c & 2 & 6 & 9 & 1\\\\\n",
       "\\end{tabular}\n"
      ],
      "text/markdown": [
       "\n",
       "A data.table: 7 × 5\n",
       "\n",
       "| x &lt;chr&gt; | v &lt;dbl&gt; | y &lt;dbl&gt; | a &lt;int&gt; | b &lt;int&gt; |\n",
       "|---|---|---|---|---|\n",
       "| b | 1 | 1 | 1 | 9 |\n",
       "| b | 1 | 3 | 2 | 8 |\n",
       "| a | 2 | 3 | 5 | 5 |\n",
       "| a | 1 | 6 | 6 | 4 |\n",
       "| c | 1 | 1 | 7 | 3 |\n",
       "| c | 2 | 3 | 8 | 2 |\n",
       "| c | 2 | 6 | 9 | 1 |\n",
       "\n"
      ],
      "text/plain": [
       "  x v y a b\n",
       "1 b 1 1 1 9\n",
       "2 b 1 3 2 8\n",
       "3 a 2 3 5 5\n",
       "4 a 1 6 6 4\n",
       "5 c 1 1 7 3\n",
       "6 c 2 3 8 2\n",
       "7 c 2 6 9 1"
      ]
     },
     "metadata": {},
     "output_type": "display_data"
    },
    {
     "data": {
      "text/html": [
       "<table>\n",
       "<caption>A data.table: 9 × 5</caption>\n",
       "<thead>\n",
       "\t<tr><th scope=col>x</th><th scope=col>v</th><th scope=col>y</th><th scope=col>a</th><th scope=col>b</th></tr>\n",
       "\t<tr><th scope=col>&lt;chr&gt;</th><th scope=col>&lt;dbl&gt;</th><th scope=col>&lt;dbl&gt;</th><th scope=col>&lt;int&gt;</th><th scope=col>&lt;int&gt;</th></tr>\n",
       "</thead>\n",
       "<tbody>\n",
       "\t<tr><td>b</td><td>1</td><td>1</td><td>1</td><td>9</td></tr>\n",
       "\t<tr><td>a</td><td>2</td><td>1</td><td>4</td><td>6</td></tr>\n",
       "\t<tr><td>c</td><td>1</td><td>1</td><td>7</td><td>3</td></tr>\n",
       "\t<tr><td>b</td><td>1</td><td>3</td><td>2</td><td>8</td></tr>\n",
       "\t<tr><td>a</td><td>2</td><td>3</td><td>5</td><td>5</td></tr>\n",
       "\t<tr><td>c</td><td>2</td><td>3</td><td>8</td><td>2</td></tr>\n",
       "\t<tr><td>b</td><td>1</td><td>6</td><td>3</td><td>7</td></tr>\n",
       "\t<tr><td>a</td><td>1</td><td>6</td><td>6</td><td>4</td></tr>\n",
       "\t<tr><td>c</td><td>2</td><td>6</td><td>9</td><td>1</td></tr>\n",
       "</tbody>\n",
       "</table>\n"
      ],
      "text/latex": [
       "A data.table: 9 × 5\n",
       "\\begin{tabular}{r|lllll}\n",
       " x & v & y & a & b\\\\\n",
       " <chr> & <dbl> & <dbl> & <int> & <int>\\\\\n",
       "\\hline\n",
       "\t b & 1 & 1 & 1 & 9\\\\\n",
       "\t a & 2 & 1 & 4 & 6\\\\\n",
       "\t c & 1 & 1 & 7 & 3\\\\\n",
       "\t b & 1 & 3 & 2 & 8\\\\\n",
       "\t a & 2 & 3 & 5 & 5\\\\\n",
       "\t c & 2 & 3 & 8 & 2\\\\\n",
       "\t b & 1 & 6 & 3 & 7\\\\\n",
       "\t a & 1 & 6 & 6 & 4\\\\\n",
       "\t c & 2 & 6 & 9 & 1\\\\\n",
       "\\end{tabular}\n"
      ],
      "text/markdown": [
       "\n",
       "A data.table: 9 × 5\n",
       "\n",
       "| x &lt;chr&gt; | v &lt;dbl&gt; | y &lt;dbl&gt; | a &lt;int&gt; | b &lt;int&gt; |\n",
       "|---|---|---|---|---|\n",
       "| b | 1 | 1 | 1 | 9 |\n",
       "| a | 2 | 1 | 4 | 6 |\n",
       "| c | 1 | 1 | 7 | 3 |\n",
       "| b | 1 | 3 | 2 | 8 |\n",
       "| a | 2 | 3 | 5 | 5 |\n",
       "| c | 2 | 3 | 8 | 2 |\n",
       "| b | 1 | 6 | 3 | 7 |\n",
       "| a | 1 | 6 | 6 | 4 |\n",
       "| c | 2 | 6 | 9 | 1 |\n",
       "\n"
      ],
      "text/plain": [
       "  x v y a b\n",
       "1 b 1 1 1 9\n",
       "2 a 2 1 4 6\n",
       "3 c 1 1 7 3\n",
       "4 b 1 3 2 8\n",
       "5 a 2 3 5 5\n",
       "6 c 2 3 8 2\n",
       "7 b 1 6 3 7\n",
       "8 a 1 6 6 4\n",
       "9 c 2 6 9 1"
      ]
     },
     "metadata": {},
     "output_type": "display_data"
    },
    {
     "data": {
      "text/html": [
       "<table>\n",
       "<caption>A data.table: 2 × 5</caption>\n",
       "<thead>\n",
       "\t<tr><th scope=col>x</th><th scope=col>v</th><th scope=col>y</th><th scope=col>a</th><th scope=col>b</th></tr>\n",
       "\t<tr><th scope=col>&lt;chr&gt;</th><th scope=col>&lt;dbl&gt;</th><th scope=col>&lt;dbl&gt;</th><th scope=col>&lt;int&gt;</th><th scope=col>&lt;int&gt;</th></tr>\n",
       "</thead>\n",
       "<tbody>\n",
       "\t<tr><td>a</td><td>1</td><td>6</td><td>6</td><td>4</td></tr>\n",
       "\t<tr><td>c</td><td>2</td><td>6</td><td>9</td><td>1</td></tr>\n",
       "</tbody>\n",
       "</table>\n"
      ],
      "text/latex": [
       "A data.table: 2 × 5\n",
       "\\begin{tabular}{r|lllll}\n",
       " x & v & y & a & b\\\\\n",
       " <chr> & <dbl> & <dbl> & <int> & <int>\\\\\n",
       "\\hline\n",
       "\t a & 1 & 6 & 6 & 4\\\\\n",
       "\t c & 2 & 6 & 9 & 1\\\\\n",
       "\\end{tabular}\n"
      ],
      "text/markdown": [
       "\n",
       "A data.table: 2 × 5\n",
       "\n",
       "| x &lt;chr&gt; | v &lt;dbl&gt; | y &lt;dbl&gt; | a &lt;int&gt; | b &lt;int&gt; |\n",
       "|---|---|---|---|---|\n",
       "| a | 1 | 6 | 6 | 4 |\n",
       "| c | 2 | 6 | 9 | 1 |\n",
       "\n"
      ],
      "text/plain": [
       "  x v y a b\n",
       "1 a 1 6 6 4\n",
       "2 c 2 6 9 1"
      ]
     },
     "metadata": {},
     "output_type": "display_data"
    }
   ],
   "source": [
    "# 取列子集\n",
    "\n",
    "DT[3:4]\n",
    "DT[-(3:4)]            # 同 DT[!3:4]            \n",
    "DT[order(y)]\n",
    "DT[a > 3 & y == 6]"
   ]
  },
  {
   "cell_type": "code",
   "execution_count": 9,
   "metadata": {},
   "outputs": [
    {
     "data": {
      "text/html": [
       "<ol class=list-inline>\n",
       "\t<li>'b'</li>\n",
       "\t<li>'b'</li>\n",
       "\t<li>'b'</li>\n",
       "\t<li>'a'</li>\n",
       "\t<li>'a'</li>\n",
       "\t<li>'a'</li>\n",
       "\t<li>'c'</li>\n",
       "\t<li>'c'</li>\n",
       "\t<li>'c'</li>\n",
       "</ol>\n"
      ],
      "text/latex": [
       "\\begin{enumerate*}\n",
       "\\item 'b'\n",
       "\\item 'b'\n",
       "\\item 'b'\n",
       "\\item 'a'\n",
       "\\item 'a'\n",
       "\\item 'a'\n",
       "\\item 'c'\n",
       "\\item 'c'\n",
       "\\item 'c'\n",
       "\\end{enumerate*}\n"
      ],
      "text/markdown": [
       "1. 'b'\n",
       "2. 'b'\n",
       "3. 'b'\n",
       "4. 'a'\n",
       "5. 'a'\n",
       "6. 'a'\n",
       "7. 'c'\n",
       "8. 'c'\n",
       "9. 'c'\n",
       "\n",
       "\n"
      ],
      "text/plain": [
       "[1] \"b\" \"b\" \"b\" \"a\" \"a\" \"a\" \"c\" \"c\" \"c\""
      ]
     },
     "metadata": {},
     "output_type": "display_data"
    },
    {
     "data": {
      "text/html": [
       "<table>\n",
       "<caption>A data.table: 9 × 1</caption>\n",
       "<thead>\n",
       "\t<tr><th scope=col>x</th></tr>\n",
       "\t<tr><th scope=col>&lt;chr&gt;</th></tr>\n",
       "</thead>\n",
       "<tbody>\n",
       "\t<tr><td>b</td></tr>\n",
       "\t<tr><td>b</td></tr>\n",
       "\t<tr><td>b</td></tr>\n",
       "\t<tr><td>a</td></tr>\n",
       "\t<tr><td>a</td></tr>\n",
       "\t<tr><td>a</td></tr>\n",
       "\t<tr><td>c</td></tr>\n",
       "\t<tr><td>c</td></tr>\n",
       "\t<tr><td>c</td></tr>\n",
       "</tbody>\n",
       "</table>\n"
      ],
      "text/latex": [
       "A data.table: 9 × 1\n",
       "\\begin{tabular}{r|l}\n",
       " x\\\\\n",
       " <chr>\\\\\n",
       "\\hline\n",
       "\t b\\\\\n",
       "\t b\\\\\n",
       "\t b\\\\\n",
       "\t a\\\\\n",
       "\t a\\\\\n",
       "\t a\\\\\n",
       "\t c\\\\\n",
       "\t c\\\\\n",
       "\t c\\\\\n",
       "\\end{tabular}\n"
      ],
      "text/markdown": [
       "\n",
       "A data.table: 9 × 1\n",
       "\n",
       "| x &lt;chr&gt; |\n",
       "|---|\n",
       "| b |\n",
       "| b |\n",
       "| b |\n",
       "| a |\n",
       "| a |\n",
       "| a |\n",
       "| c |\n",
       "| c |\n",
       "| c |\n",
       "\n"
      ],
      "text/plain": [
       "  x\n",
       "1 b\n",
       "2 b\n",
       "3 b\n",
       "4 a\n",
       "5 a\n",
       "6 a\n",
       "7 c\n",
       "8 c\n",
       "9 c"
      ]
     },
     "metadata": {},
     "output_type": "display_data"
    }
   ],
   "source": [
    "DT[, x]         # 回傳為vector\n",
    "DT[, .(x)]      # 回傳為data.table"
   ]
  },
  {
   "cell_type": "code",
   "execution_count": 10,
   "metadata": {},
   "outputs": [
    {
     "data": {
      "text/html": [
       "<table>\n",
       "<caption>A data.table: 3 × 2</caption>\n",
       "<thead>\n",
       "\t<tr><th scope=col>x</th><th scope=col>V1</th></tr>\n",
       "\t<tr><th scope=col>&lt;chr&gt;</th><th scope=col>&lt;dbl&gt;</th></tr>\n",
       "</thead>\n",
       "<tbody>\n",
       "\t<tr><td>b</td><td>3</td></tr>\n",
       "\t<tr><td>a</td><td>5</td></tr>\n",
       "\t<tr><td>c</td><td>5</td></tr>\n",
       "</tbody>\n",
       "</table>\n"
      ],
      "text/latex": [
       "A data.table: 3 × 2\n",
       "\\begin{tabular}{r|ll}\n",
       " x & V1\\\\\n",
       " <chr> & <dbl>\\\\\n",
       "\\hline\n",
       "\t b & 3\\\\\n",
       "\t a & 5\\\\\n",
       "\t c & 5\\\\\n",
       "\\end{tabular}\n"
      ],
      "text/markdown": [
       "\n",
       "A data.table: 3 × 2\n",
       "\n",
       "| x &lt;chr&gt; | V1 &lt;dbl&gt; |\n",
       "|---|---|\n",
       "| b | 3 |\n",
       "| a | 5 |\n",
       "| c | 5 |\n",
       "\n"
      ],
      "text/plain": [
       "  x V1\n",
       "1 b 3 \n",
       "2 a 5 \n",
       "3 c 5 "
      ]
     },
     "metadata": {},
     "output_type": "display_data"
    },
    {
     "data": {
      "text/html": [
       "<table>\n",
       "<caption>A data.table: 3 × 2</caption>\n",
       "<thead>\n",
       "\t<tr><th scope=col>x</th><th scope=col>V1</th></tr>\n",
       "\t<tr><th scope=col>&lt;chr&gt;</th><th scope=col>&lt;dbl&gt;</th></tr>\n",
       "</thead>\n",
       "<tbody>\n",
       "\t<tr><td>a</td><td>5</td></tr>\n",
       "\t<tr><td>b</td><td>3</td></tr>\n",
       "\t<tr><td>c</td><td>5</td></tr>\n",
       "</tbody>\n",
       "</table>\n"
      ],
      "text/latex": [
       "A data.table: 3 × 2\n",
       "\\begin{tabular}{r|ll}\n",
       " x & V1\\\\\n",
       " <chr> & <dbl>\\\\\n",
       "\\hline\n",
       "\t a & 5\\\\\n",
       "\t b & 3\\\\\n",
       "\t c & 5\\\\\n",
       "\\end{tabular}\n"
      ],
      "text/markdown": [
       "\n",
       "A data.table: 3 × 2\n",
       "\n",
       "| x &lt;chr&gt; | V1 &lt;dbl&gt; |\n",
       "|---|---|\n",
       "| a | 5 |\n",
       "| b | 3 |\n",
       "| c | 5 |\n",
       "\n"
      ],
      "text/plain": [
       "  x V1\n",
       "1 a 5 \n",
       "2 b 3 \n",
       "3 c 5 "
      ]
     },
     "metadata": {},
     "output_type": "display_data"
    }
   ],
   "source": [
    "# by, keyby  分組運算\n",
    "DT[, sum(v), by = x]\n",
    "DT[, sum(v), keyby = x]   # 會將組別排序, 等同於DT[, sum(v), by = x][order(x)]"
   ]
  },
  {
   "cell_type": "code",
   "execution_count": 11,
   "metadata": {},
   "outputs": [
    {
     "data": {
      "text/html": [
       "<table>\n",
       "<caption>A data.table: 5 × 3</caption>\n",
       "<thead>\n",
       "\t<tr><th scope=col>x</th><th scope=col>v</th><th scope=col>V1</th></tr>\n",
       "\t<tr><th scope=col>&lt;chr&gt;</th><th scope=col>&lt;dbl&gt;</th><th scope=col>&lt;int&gt;</th></tr>\n",
       "</thead>\n",
       "<tbody>\n",
       "\t<tr><td>a</td><td>1</td><td> 6</td></tr>\n",
       "\t<tr><td>a</td><td>2</td><td> 9</td></tr>\n",
       "\t<tr><td>b</td><td>1</td><td> 6</td></tr>\n",
       "\t<tr><td>c</td><td>1</td><td> 7</td></tr>\n",
       "\t<tr><td>c</td><td>2</td><td>17</td></tr>\n",
       "</tbody>\n",
       "</table>\n"
      ],
      "text/latex": [
       "A data.table: 5 × 3\n",
       "\\begin{tabular}{r|lll}\n",
       " x & v & V1\\\\\n",
       " <chr> & <dbl> & <int>\\\\\n",
       "\\hline\n",
       "\t a & 1 &  6\\\\\n",
       "\t a & 2 &  9\\\\\n",
       "\t b & 1 &  6\\\\\n",
       "\t c & 1 &  7\\\\\n",
       "\t c & 2 & 17\\\\\n",
       "\\end{tabular}\n"
      ],
      "text/markdown": [
       "\n",
       "A data.table: 5 × 3\n",
       "\n",
       "| x &lt;chr&gt; | v &lt;dbl&gt; | V1 &lt;int&gt; |\n",
       "|---|---|---|\n",
       "| a | 1 |  6 |\n",
       "| a | 2 |  9 |\n",
       "| b | 1 |  6 |\n",
       "| c | 1 |  7 |\n",
       "| c | 2 | 17 |\n",
       "\n"
      ],
      "text/plain": [
       "  x v V1\n",
       "1 a 1  6\n",
       "2 a 2  9\n",
       "3 b 1  6\n",
       "4 c 1  7\n",
       "5 c 2 17"
      ]
     },
     "metadata": {},
     "output_type": "display_data"
    }
   ],
   "source": [
    "# keyby 多變數的情況\n",
    "DT[, sum(a), keyby = \"x,v\"]"
   ]
  },
  {
   "cell_type": "code",
   "execution_count": 12,
   "metadata": {},
   "outputs": [
    {
     "data": {
      "text/html": [
       "<table>\n",
       "<caption>A data.table: 2 × 2</caption>\n",
       "<thead>\n",
       "\t<tr><th scope=col>x</th><th scope=col>V1</th></tr>\n",
       "\t<tr><th scope=col>&lt;chr&gt;</th><th scope=col>&lt;dbl&gt;</th></tr>\n",
       "</thead>\n",
       "<tbody>\n",
       "\t<tr><td>b</td><td>10</td></tr>\n",
       "\t<tr><td>a</td><td> 4</td></tr>\n",
       "</tbody>\n",
       "</table>\n"
      ],
      "text/latex": [
       "A data.table: 2 × 2\n",
       "\\begin{tabular}{r|ll}\n",
       " x & V1\\\\\n",
       " <chr> & <dbl>\\\\\n",
       "\\hline\n",
       "\t b & 10\\\\\n",
       "\t a &  4\\\\\n",
       "\\end{tabular}\n"
      ],
      "text/markdown": [
       "\n",
       "A data.table: 2 × 2\n",
       "\n",
       "| x &lt;chr&gt; | V1 &lt;dbl&gt; |\n",
       "|---|---|\n",
       "| b | 10 |\n",
       "| a |  4 |\n",
       "\n"
      ],
      "text/plain": [
       "  x V1\n",
       "1 b 10\n",
       "2 a  4"
      ]
     },
     "metadata": {},
     "output_type": "display_data"
    }
   ],
   "source": [
    "# 先篩選列, 再根據組別做運算\n",
    "DT[a < 6, sum(y), by = x]   "
   ]
  },
  {
   "cell_type": "code",
   "execution_count": 13,
   "metadata": {},
   "outputs": [
    {
     "data": {
      "text/html": [
       "<table>\n",
       "<caption>A data.table: 9 × 2</caption>\n",
       "<thead>\n",
       "\t<tr><th scope=col>a</th><th scope=col>b</th></tr>\n",
       "\t<tr><th scope=col>&lt;int&gt;</th><th scope=col>&lt;int&gt;</th></tr>\n",
       "</thead>\n",
       "<tbody>\n",
       "\t<tr><td>7</td><td>3</td></tr>\n",
       "\t<tr><td>8</td><td>2</td></tr>\n",
       "\t<tr><td>9</td><td>1</td></tr>\n",
       "\t<tr><td>1</td><td>9</td></tr>\n",
       "\t<tr><td>2</td><td>8</td></tr>\n",
       "\t<tr><td>3</td><td>7</td></tr>\n",
       "\t<tr><td>1</td><td>9</td></tr>\n",
       "\t<tr><td>2</td><td>8</td></tr>\n",
       "\t<tr><td>3</td><td>7</td></tr>\n",
       "</tbody>\n",
       "</table>\n"
      ],
      "text/latex": [
       "A data.table: 9 × 2\n",
       "\\begin{tabular}{r|ll}\n",
       " a & b\\\\\n",
       " <int> & <int>\\\\\n",
       "\\hline\n",
       "\t 7 & 3\\\\\n",
       "\t 8 & 2\\\\\n",
       "\t 9 & 1\\\\\n",
       "\t 1 & 9\\\\\n",
       "\t 2 & 8\\\\\n",
       "\t 3 & 7\\\\\n",
       "\t 1 & 9\\\\\n",
       "\t 2 & 8\\\\\n",
       "\t 3 & 7\\\\\n",
       "\\end{tabular}\n"
      ],
      "text/markdown": [
       "\n",
       "A data.table: 9 × 2\n",
       "\n",
       "| a &lt;int&gt; | b &lt;int&gt; |\n",
       "|---|---|\n",
       "| 7 | 3 |\n",
       "| 8 | 2 |\n",
       "| 9 | 1 |\n",
       "| 1 | 9 |\n",
       "| 2 | 8 |\n",
       "| 3 | 7 |\n",
       "| 1 | 9 |\n",
       "| 2 | 8 |\n",
       "| 3 | 7 |\n",
       "\n"
      ],
      "text/plain": [
       "  a b\n",
       "1 7 3\n",
       "2 8 2\n",
       "3 9 1\n",
       "4 1 9\n",
       "5 2 8\n",
       "6 3 7\n",
       "7 1 9\n",
       "8 2 8\n",
       "9 3 7"
      ]
     },
     "metadata": {},
     "output_type": "display_data"
    },
    {
     "data": {
      "text/html": [
       "<table>\n",
       "<caption>A data.table: 3 × 2</caption>\n",
       "<thead>\n",
       "\t<tr><th scope=col>a</th><th scope=col>b</th></tr>\n",
       "\t<tr><th scope=col>&lt;int&gt;</th><th scope=col>&lt;int&gt;</th></tr>\n",
       "</thead>\n",
       "<tbody>\n",
       "\t<tr><td>4</td><td>6</td></tr>\n",
       "\t<tr><td>5</td><td>5</td></tr>\n",
       "\t<tr><td>6</td><td>4</td></tr>\n",
       "</tbody>\n",
       "</table>\n"
      ],
      "text/latex": [
       "A data.table: 3 × 2\n",
       "\\begin{tabular}{r|ll}\n",
       " a & b\\\\\n",
       " <int> & <int>\\\\\n",
       "\\hline\n",
       "\t 4 & 6\\\\\n",
       "\t 5 & 5\\\\\n",
       "\t 6 & 4\\\\\n",
       "\\end{tabular}\n"
      ],
      "text/markdown": [
       "\n",
       "A data.table: 3 × 2\n",
       "\n",
       "| a &lt;int&gt; | b &lt;int&gt; |\n",
       "|---|---|\n",
       "| 4 | 6 |\n",
       "| 5 | 5 |\n",
       "| 6 | 4 |\n",
       "\n"
      ],
      "text/plain": [
       "  a b\n",
       "1 4 6\n",
       "2 5 5\n",
       "3 6 4"
      ]
     },
     "metadata": {},
     "output_type": "display_data"
    },
    {
     "data": {
      "text/html": [
       "<table>\n",
       "<caption>A data.table: 9 × 3</caption>\n",
       "<thead>\n",
       "\t<tr><th scope=col>a</th><th scope=col>i.v</th><th scope=col>x</th></tr>\n",
       "\t<tr><th scope=col>&lt;int&gt;</th><th scope=col>&lt;int&gt;</th><th scope=col>&lt;chr&gt;</th></tr>\n",
       "</thead>\n",
       "<tbody>\n",
       "\t<tr><td>7</td><td>8</td><td>c</td></tr>\n",
       "\t<tr><td>8</td><td>8</td><td>c</td></tr>\n",
       "\t<tr><td>9</td><td>8</td><td>c</td></tr>\n",
       "\t<tr><td>1</td><td>7</td><td>b</td></tr>\n",
       "\t<tr><td>2</td><td>7</td><td>b</td></tr>\n",
       "\t<tr><td>3</td><td>7</td><td>b</td></tr>\n",
       "\t<tr><td>1</td><td>6</td><td>b</td></tr>\n",
       "\t<tr><td>2</td><td>6</td><td>b</td></tr>\n",
       "\t<tr><td>3</td><td>6</td><td>b</td></tr>\n",
       "</tbody>\n",
       "</table>\n"
      ],
      "text/latex": [
       "A data.table: 9 × 3\n",
       "\\begin{tabular}{r|lll}\n",
       " a & i.v & x\\\\\n",
       " <int> & <int> & <chr>\\\\\n",
       "\\hline\n",
       "\t 7 & 8 & c\\\\\n",
       "\t 8 & 8 & c\\\\\n",
       "\t 9 & 8 & c\\\\\n",
       "\t 1 & 7 & b\\\\\n",
       "\t 2 & 7 & b\\\\\n",
       "\t 3 & 7 & b\\\\\n",
       "\t 1 & 6 & b\\\\\n",
       "\t 2 & 6 & b\\\\\n",
       "\t 3 & 6 & b\\\\\n",
       "\\end{tabular}\n"
      ],
      "text/markdown": [
       "\n",
       "A data.table: 9 × 3\n",
       "\n",
       "| a &lt;int&gt; | i.v &lt;int&gt; | x &lt;chr&gt; |\n",
       "|---|---|---|\n",
       "| 7 | 8 | c |\n",
       "| 8 | 8 | c |\n",
       "| 9 | 8 | c |\n",
       "| 1 | 7 | b |\n",
       "| 2 | 7 | b |\n",
       "| 3 | 7 | b |\n",
       "| 1 | 6 | b |\n",
       "| 2 | 6 | b |\n",
       "| 3 | 6 | b |\n",
       "\n"
      ],
      "text/plain": [
       "  a i.v x\n",
       "1 7 8   c\n",
       "2 8 8   c\n",
       "3 9 8   c\n",
       "4 1 7   b\n",
       "5 2 7   b\n",
       "6 3 7   b\n",
       "7 1 6   b\n",
       "8 2 6   b\n",
       "9 3 6   b"
      ]
     },
     "metadata": {},
     "output_type": "display_data"
    },
    {
     "name": "stdout",
     "output_type": "stream",
     "text": [
      "\n",
      "\n",
      "\n",
      "\n"
     ]
    },
    {
     "data": {
      "text/html": [
       "<table>\n",
       "<caption>A data.table: 9 × 3</caption>\n",
       "<thead>\n",
       "\t<tr><th scope=col>v</th><th scope=col>i.v</th><th scope=col>x</th></tr>\n",
       "\t<tr><th scope=col>&lt;dbl&gt;</th><th scope=col>&lt;int&gt;</th><th scope=col>&lt;chr&gt;</th></tr>\n",
       "</thead>\n",
       "<tbody>\n",
       "\t<tr><td>1</td><td>8</td><td>c</td></tr>\n",
       "\t<tr><td>2</td><td>8</td><td>c</td></tr>\n",
       "\t<tr><td>2</td><td>8</td><td>c</td></tr>\n",
       "\t<tr><td>1</td><td>7</td><td>b</td></tr>\n",
       "\t<tr><td>1</td><td>7</td><td>b</td></tr>\n",
       "\t<tr><td>1</td><td>7</td><td>b</td></tr>\n",
       "\t<tr><td>1</td><td>6</td><td>b</td></tr>\n",
       "\t<tr><td>1</td><td>6</td><td>b</td></tr>\n",
       "\t<tr><td>1</td><td>6</td><td>b</td></tr>\n",
       "</tbody>\n",
       "</table>\n"
      ],
      "text/latex": [
       "A data.table: 9 × 3\n",
       "\\begin{tabular}{r|lll}\n",
       " v & i.v & x\\\\\n",
       " <dbl> & <int> & <chr>\\\\\n",
       "\\hline\n",
       "\t 1 & 8 & c\\\\\n",
       "\t 2 & 8 & c\\\\\n",
       "\t 2 & 8 & c\\\\\n",
       "\t 1 & 7 & b\\\\\n",
       "\t 1 & 7 & b\\\\\n",
       "\t 1 & 7 & b\\\\\n",
       "\t 1 & 6 & b\\\\\n",
       "\t 1 & 6 & b\\\\\n",
       "\t 1 & 6 & b\\\\\n",
       "\\end{tabular}\n"
      ],
      "text/markdown": [
       "\n",
       "A data.table: 9 × 3\n",
       "\n",
       "| v &lt;dbl&gt; | i.v &lt;int&gt; | x &lt;chr&gt; |\n",
       "|---|---|---|\n",
       "| 1 | 8 | c |\n",
       "| 2 | 8 | c |\n",
       "| 2 | 8 | c |\n",
       "| 1 | 7 | b |\n",
       "| 1 | 7 | b |\n",
       "| 1 | 7 | b |\n",
       "| 1 | 6 | b |\n",
       "| 1 | 6 | b |\n",
       "| 1 | 6 | b |\n",
       "\n"
      ],
      "text/plain": [
       "  v i.v x\n",
       "1 1 8   c\n",
       "2 2 8   c\n",
       "3 2 8   c\n",
       "4 1 7   b\n",
       "5 1 7   b\n",
       "6 1 7   b\n",
       "7 1 6   b\n",
       "8 1 6   b\n",
       "9 1 6   b"
      ]
     },
     "metadata": {},
     "output_type": "display_data"
    },
    {
     "name": "stdout",
     "output_type": "stream",
     "text": [
      "計算總和為:"
     ]
    },
    {
     "data": {
      "text/html": [
       "74"
      ],
      "text/latex": [
       "74"
      ],
      "text/markdown": [
       "74"
      ],
      "text/plain": [
       "[1] 74"
      ]
     },
     "metadata": {},
     "output_type": "display_data"
    },
    {
     "name": "stdout",
     "output_type": "stream",
     "text": [
      "\n",
      "\n",
      "根據X$x個別計算, 總合為:\n"
     ]
    },
    {
     "data": {
      "text/html": [
       "<table>\n",
       "<caption>A data.table: 3 × 2</caption>\n",
       "<thead>\n",
       "\t<tr><th scope=col>x</th><th scope=col>V1</th></tr>\n",
       "\t<tr><th scope=col>&lt;chr&gt;</th><th scope=col>&lt;dbl&gt;</th></tr>\n",
       "</thead>\n",
       "<tbody>\n",
       "\t<tr><td>c</td><td>13</td></tr>\n",
       "\t<tr><td>b</td><td>10</td></tr>\n",
       "\t<tr><td>b</td><td> 9</td></tr>\n",
       "</tbody>\n",
       "</table>\n"
      ],
      "text/latex": [
       "A data.table: 3 × 2\n",
       "\\begin{tabular}{r|ll}\n",
       " x & V1\\\\\n",
       " <chr> & <dbl>\\\\\n",
       "\\hline\n",
       "\t c & 13\\\\\n",
       "\t b & 10\\\\\n",
       "\t b &  9\\\\\n",
       "\\end{tabular}\n"
      ],
      "text/markdown": [
       "\n",
       "A data.table: 3 × 2\n",
       "\n",
       "| x &lt;chr&gt; | V1 &lt;dbl&gt; |\n",
       "|---|---|\n",
       "| c | 13 |\n",
       "| b | 10 |\n",
       "| b |  9 |\n",
       "\n"
      ],
      "text/plain": [
       "  x V1\n",
       "1 c 13\n",
       "2 b 10\n",
       "3 b  9"
      ]
     },
     "metadata": {},
     "output_type": "display_data"
    }
   ],
   "source": [
    "# match data\n",
    "# 若first arguement為另一個data, 則可用on作為match資料的依據\n",
    "\n",
    "DT[X, .(a, b), on = \"x\"]  # 取得DT$x == X$x的列, 再取其a,b的值\n",
    "DT[!X, .(a, b), on = \"x\"]  # 取得DT$x != X$x的列, 再取其a,b的值\n",
    "\n",
    "DT[X, .(a, i.v, x), on = \"x\"]    # 取得DT$x == X$x的列, 再取 DT$a, X$v, x 的值\n",
    "cat(\"\\n\\n\\n\\n\")\n",
    "\n",
    "DT[X, .(v, i.v, x), on = \"x\"]\n",
    "\n",
    "cat(\"計算總和為:\")\n",
    "DT[X, sum(v, i.v), on = \"x\"]\n",
    "cat(\"\\n\\n\")\n",
    "\n",
    "cat(\"根據X$x個別計算, 總合為:\n",
    "\")\n",
    "DT[X, sum(v, i.v), on = \"x\", by = .EACHI]    # 根據X$x個別做運算, 每個i.v只計算一次"
   ]
  },
  {
   "cell_type": "code",
   "execution_count": 14,
   "metadata": {},
   "outputs": [
    {
     "data": {
      "text/html": [
       "<table>\n",
       "<caption>A data.table: 9 × 5</caption>\n",
       "<thead>\n",
       "\t<tr><th scope=col>x</th><th scope=col>v</th><th scope=col>y</th><th scope=col>a</th><th scope=col>b</th></tr>\n",
       "\t<tr><th scope=col>&lt;chr&gt;</th><th scope=col>&lt;dbl&gt;</th><th scope=col>&lt;dbl&gt;</th><th scope=col>&lt;int&gt;</th><th scope=col>&lt;int&gt;</th></tr>\n",
       "</thead>\n",
       "<tbody>\n",
       "\t<tr><td>b</td><td>1</td><td>1</td><td>1</td><td>9</td></tr>\n",
       "\t<tr><td>b</td><td>1</td><td>3</td><td>2</td><td>8</td></tr>\n",
       "\t<tr><td>b</td><td>1</td><td>6</td><td>3</td><td>7</td></tr>\n",
       "\t<tr><td>a</td><td>2</td><td>1</td><td>4</td><td>6</td></tr>\n",
       "\t<tr><td>a</td><td>2</td><td>3</td><td>5</td><td>5</td></tr>\n",
       "\t<tr><td>a</td><td>1</td><td>6</td><td>6</td><td>4</td></tr>\n",
       "\t<tr><td>c</td><td>1</td><td>1</td><td>7</td><td>3</td></tr>\n",
       "\t<tr><td>c</td><td>2</td><td>3</td><td>8</td><td>2</td></tr>\n",
       "\t<tr><td>c</td><td>2</td><td>6</td><td>9</td><td>1</td></tr>\n",
       "</tbody>\n",
       "</table>\n"
      ],
      "text/latex": [
       "A data.table: 9 × 5\n",
       "\\begin{tabular}{r|lllll}\n",
       " x & v & y & a & b\\\\\n",
       " <chr> & <dbl> & <dbl> & <int> & <int>\\\\\n",
       "\\hline\n",
       "\t b & 1 & 1 & 1 & 9\\\\\n",
       "\t b & 1 & 3 & 2 & 8\\\\\n",
       "\t b & 1 & 6 & 3 & 7\\\\\n",
       "\t a & 2 & 1 & 4 & 6\\\\\n",
       "\t a & 2 & 3 & 5 & 5\\\\\n",
       "\t a & 1 & 6 & 6 & 4\\\\\n",
       "\t c & 1 & 1 & 7 & 3\\\\\n",
       "\t c & 2 & 3 & 8 & 2\\\\\n",
       "\t c & 2 & 6 & 9 & 1\\\\\n",
       "\\end{tabular}\n"
      ],
      "text/markdown": [
       "\n",
       "A data.table: 9 × 5\n",
       "\n",
       "| x &lt;chr&gt; | v &lt;dbl&gt; | y &lt;dbl&gt; | a &lt;int&gt; | b &lt;int&gt; |\n",
       "|---|---|---|---|---|\n",
       "| b | 1 | 1 | 1 | 9 |\n",
       "| b | 1 | 3 | 2 | 8 |\n",
       "| b | 1 | 6 | 3 | 7 |\n",
       "| a | 2 | 1 | 4 | 6 |\n",
       "| a | 2 | 3 | 5 | 5 |\n",
       "| a | 1 | 6 | 6 | 4 |\n",
       "| c | 1 | 1 | 7 | 3 |\n",
       "| c | 2 | 3 | 8 | 2 |\n",
       "| c | 2 | 6 | 9 | 1 |\n",
       "\n"
      ],
      "text/plain": [
       "  x v y a b\n",
       "1 b 1 1 1 9\n",
       "2 b 1 3 2 8\n",
       "3 b 1 6 3 7\n",
       "4 a 2 1 4 6\n",
       "5 a 2 3 5 5\n",
       "6 a 1 6 6 4\n",
       "7 c 1 1 7 3\n",
       "8 c 2 3 8 2\n",
       "9 c 2 6 9 1"
      ]
     },
     "metadata": {},
     "output_type": "display_data"
    },
    {
     "data": {
      "text/html": [
       "<table>\n",
       "<caption>A data.table: 3 × 5</caption>\n",
       "<thead>\n",
       "\t<tr><th scope=col>x</th><th scope=col>v</th><th scope=col>y</th><th scope=col>a</th><th scope=col>b</th></tr>\n",
       "\t<tr><th scope=col>&lt;chr&gt;</th><th scope=col>&lt;dbl&gt;</th><th scope=col>&lt;dbl&gt;</th><th scope=col>&lt;int&gt;</th><th scope=col>&lt;int&gt;</th></tr>\n",
       "</thead>\n",
       "<tbody>\n",
       "\t<tr><td>b</td><td>1</td><td>1</td><td>1</td><td>9</td></tr>\n",
       "\t<tr><td>b</td><td>1</td><td>3</td><td>2</td><td>8</td></tr>\n",
       "\t<tr><td>b</td><td>1</td><td>6</td><td>3</td><td>7</td></tr>\n",
       "</tbody>\n",
       "</table>\n"
      ],
      "text/latex": [
       "A data.table: 3 × 5\n",
       "\\begin{tabular}{r|lllll}\n",
       " x & v & y & a & b\\\\\n",
       " <chr> & <dbl> & <dbl> & <int> & <int>\\\\\n",
       "\\hline\n",
       "\t b & 1 & 1 & 1 & 9\\\\\n",
       "\t b & 1 & 3 & 2 & 8\\\\\n",
       "\t b & 1 & 6 & 3 & 7\\\\\n",
       "\\end{tabular}\n"
      ],
      "text/markdown": [
       "\n",
       "A data.table: 3 × 5\n",
       "\n",
       "| x &lt;chr&gt; | v &lt;dbl&gt; | y &lt;dbl&gt; | a &lt;int&gt; | b &lt;int&gt; |\n",
       "|---|---|---|---|---|\n",
       "| b | 1 | 1 | 1 | 9 |\n",
       "| b | 1 | 3 | 2 | 8 |\n",
       "| b | 1 | 6 | 3 | 7 |\n",
       "\n"
      ],
      "text/plain": [
       "  x v y a b\n",
       "1 b 1 1 1 9\n",
       "2 b 1 3 2 8\n",
       "3 b 1 6 3 7"
      ]
     },
     "metadata": {},
     "output_type": "display_data"
    },
    {
     "data": {
      "text/html": [
       "<table>\n",
       "<caption>A data.table: 4 × 5</caption>\n",
       "<thead>\n",
       "\t<tr><th scope=col>x</th><th scope=col>v</th><th scope=col>y</th><th scope=col>a</th><th scope=col>b</th></tr>\n",
       "\t<tr><th scope=col>&lt;chr&gt;</th><th scope=col>&lt;dbl&gt;</th><th scope=col>&lt;dbl&gt;</th><th scope=col>&lt;int&gt;</th><th scope=col>&lt;int&gt;</th></tr>\n",
       "</thead>\n",
       "<tbody>\n",
       "\t<tr><td>a</td><td>2</td><td>1</td><td>4</td><td>6</td></tr>\n",
       "\t<tr><td>a</td><td>2</td><td>3</td><td>5</td><td>5</td></tr>\n",
       "\t<tr><td>c</td><td>2</td><td>3</td><td>8</td><td>2</td></tr>\n",
       "\t<tr><td>c</td><td>2</td><td>6</td><td>9</td><td>1</td></tr>\n",
       "</tbody>\n",
       "</table>\n"
      ],
      "text/latex": [
       "A data.table: 4 × 5\n",
       "\\begin{tabular}{r|lllll}\n",
       " x & v & y & a & b\\\\\n",
       " <chr> & <dbl> & <dbl> & <int> & <int>\\\\\n",
       "\\hline\n",
       "\t a & 2 & 1 & 4 & 6\\\\\n",
       "\t a & 2 & 3 & 5 & 5\\\\\n",
       "\t c & 2 & 3 & 8 & 2\\\\\n",
       "\t c & 2 & 6 & 9 & 1\\\\\n",
       "\\end{tabular}\n"
      ],
      "text/markdown": [
       "\n",
       "A data.table: 4 × 5\n",
       "\n",
       "| x &lt;chr&gt; | v &lt;dbl&gt; | y &lt;dbl&gt; | a &lt;int&gt; | b &lt;int&gt; |\n",
       "|---|---|---|---|---|\n",
       "| a | 2 | 1 | 4 | 6 |\n",
       "| a | 2 | 3 | 5 | 5 |\n",
       "| c | 2 | 3 | 8 | 2 |\n",
       "| c | 2 | 6 | 9 | 1 |\n",
       "\n"
      ],
      "text/plain": [
       "  x v y a b\n",
       "1 a 2 1 4 6\n",
       "2 a 2 3 5 5\n",
       "3 c 2 3 8 2\n",
       "4 c 2 6 9 1"
      ]
     },
     "metadata": {},
     "output_type": "display_data"
    },
    {
     "data": {
      "text/html": [
       "<table>\n",
       "<caption>A data.table: 4 × 5</caption>\n",
       "<thead>\n",
       "\t<tr><th scope=col>x</th><th scope=col>v</th><th scope=col>y</th><th scope=col>a</th><th scope=col>b</th></tr>\n",
       "\t<tr><th scope=col>&lt;chr&gt;</th><th scope=col>&lt;dbl&gt;</th><th scope=col>&lt;dbl&gt;</th><th scope=col>&lt;int&gt;</th><th scope=col>&lt;int&gt;</th></tr>\n",
       "</thead>\n",
       "<tbody>\n",
       "\t<tr><td>b</td><td> 1</td><td>3</td><td> 2</td><td> 8</td></tr>\n",
       "\t<tr><td>b</td><td>NA</td><td>4</td><td>NA</td><td>NA</td></tr>\n",
       "\t<tr><td>b</td><td>NA</td><td>5</td><td>NA</td><td>NA</td></tr>\n",
       "\t<tr><td>b</td><td> 1</td><td>6</td><td> 3</td><td> 7</td></tr>\n",
       "</tbody>\n",
       "</table>\n"
      ],
      "text/latex": [
       "A data.table: 4 × 5\n",
       "\\begin{tabular}{r|lllll}\n",
       " x & v & y & a & b\\\\\n",
       " <chr> & <dbl> & <dbl> & <int> & <int>\\\\\n",
       "\\hline\n",
       "\t b &  1 & 3 &  2 &  8\\\\\n",
       "\t b & NA & 4 & NA & NA\\\\\n",
       "\t b & NA & 5 & NA & NA\\\\\n",
       "\t b &  1 & 6 &  3 &  7\\\\\n",
       "\\end{tabular}\n"
      ],
      "text/markdown": [
       "\n",
       "A data.table: 4 × 5\n",
       "\n",
       "| x &lt;chr&gt; | v &lt;dbl&gt; | y &lt;dbl&gt; | a &lt;int&gt; | b &lt;int&gt; |\n",
       "|---|---|---|---|---|\n",
       "| b |  1 | 3 |  2 |  8 |\n",
       "| b | NA | 4 | NA | NA |\n",
       "| b | NA | 5 | NA | NA |\n",
       "| b |  1 | 6 |  3 |  7 |\n",
       "\n"
      ],
      "text/plain": [
       "  x v  y a  b \n",
       "1 b  1 3  2  8\n",
       "2 b NA 4 NA NA\n",
       "3 b NA 5 NA NA\n",
       "4 b  1 6  3  7"
      ]
     },
     "metadata": {},
     "output_type": "display_data"
    },
    {
     "data": {
      "text/html": [
       "<table>\n",
       "<caption>A data.table: 7 × 5</caption>\n",
       "<thead>\n",
       "\t<tr><th scope=col>x</th><th scope=col>v</th><th scope=col>y</th><th scope=col>a</th><th scope=col>b</th></tr>\n",
       "\t<tr><th scope=col>&lt;chr&gt;</th><th scope=col>&lt;dbl&gt;</th><th scope=col>&lt;dbl&gt;</th><th scope=col>&lt;int&gt;</th><th scope=col>&lt;int&gt;</th></tr>\n",
       "</thead>\n",
       "<tbody>\n",
       "\t<tr><td>b</td><td>1</td><td>1</td><td>1</td><td>9</td></tr>\n",
       "\t<tr><td>a</td><td>2</td><td>1</td><td>4</td><td>6</td></tr>\n",
       "\t<tr><td>a</td><td>2</td><td>3</td><td>5</td><td>5</td></tr>\n",
       "\t<tr><td>a</td><td>1</td><td>6</td><td>6</td><td>4</td></tr>\n",
       "\t<tr><td>c</td><td>1</td><td>1</td><td>7</td><td>3</td></tr>\n",
       "\t<tr><td>c</td><td>2</td><td>3</td><td>8</td><td>2</td></tr>\n",
       "\t<tr><td>c</td><td>2</td><td>6</td><td>9</td><td>1</td></tr>\n",
       "</tbody>\n",
       "</table>\n"
      ],
      "text/latex": [
       "A data.table: 7 × 5\n",
       "\\begin{tabular}{r|lllll}\n",
       " x & v & y & a & b\\\\\n",
       " <chr> & <dbl> & <dbl> & <int> & <int>\\\\\n",
       "\\hline\n",
       "\t b & 1 & 1 & 1 & 9\\\\\n",
       "\t a & 2 & 1 & 4 & 6\\\\\n",
       "\t a & 2 & 3 & 5 & 5\\\\\n",
       "\t a & 1 & 6 & 6 & 4\\\\\n",
       "\t c & 1 & 1 & 7 & 3\\\\\n",
       "\t c & 2 & 3 & 8 & 2\\\\\n",
       "\t c & 2 & 6 & 9 & 1\\\\\n",
       "\\end{tabular}\n"
      ],
      "text/markdown": [
       "\n",
       "A data.table: 7 × 5\n",
       "\n",
       "| x &lt;chr&gt; | v &lt;dbl&gt; | y &lt;dbl&gt; | a &lt;int&gt; | b &lt;int&gt; |\n",
       "|---|---|---|---|---|\n",
       "| b | 1 | 1 | 1 | 9 |\n",
       "| a | 2 | 1 | 4 | 6 |\n",
       "| a | 2 | 3 | 5 | 5 |\n",
       "| a | 1 | 6 | 6 | 4 |\n",
       "| c | 1 | 1 | 7 | 3 |\n",
       "| c | 2 | 3 | 8 | 2 |\n",
       "| c | 2 | 6 | 9 | 1 |\n",
       "\n"
      ],
      "text/plain": [
       "  x v y a b\n",
       "1 b 1 1 1 9\n",
       "2 a 2 1 4 6\n",
       "3 a 2 3 5 5\n",
       "4 a 1 6 6 4\n",
       "5 c 1 1 7 3\n",
       "6 c 2 3 8 2\n",
       "7 c 2 6 9 1"
      ]
     },
     "metadata": {},
     "output_type": "display_data"
    },
    {
     "data": {
      "text/html": [
       "<table>\n",
       "<caption>A data.table: 2 × 5</caption>\n",
       "<thead>\n",
       "\t<tr><th scope=col>x</th><th scope=col>v</th><th scope=col>y</th><th scope=col>a</th><th scope=col>b</th></tr>\n",
       "\t<tr><th scope=col>&lt;chr&gt;</th><th scope=col>&lt;dbl&gt;</th><th scope=col>&lt;dbl&gt;</th><th scope=col>&lt;int&gt;</th><th scope=col>&lt;int&gt;</th></tr>\n",
       "</thead>\n",
       "<tbody>\n",
       "\t<tr><td>b</td><td>1</td><td>3</td><td>2</td><td>8</td></tr>\n",
       "\t<tr><td>b</td><td>1</td><td>6</td><td>3</td><td>7</td></tr>\n",
       "</tbody>\n",
       "</table>\n"
      ],
      "text/latex": [
       "A data.table: 2 × 5\n",
       "\\begin{tabular}{r|lllll}\n",
       " x & v & y & a & b\\\\\n",
       " <chr> & <dbl> & <dbl> & <int> & <int>\\\\\n",
       "\\hline\n",
       "\t b & 1 & 3 & 2 & 8\\\\\n",
       "\t b & 1 & 6 & 3 & 7\\\\\n",
       "\\end{tabular}\n"
      ],
      "text/markdown": [
       "\n",
       "A data.table: 2 × 5\n",
       "\n",
       "| x &lt;chr&gt; | v &lt;dbl&gt; | y &lt;dbl&gt; | a &lt;int&gt; | b &lt;int&gt; |\n",
       "|---|---|---|---|---|\n",
       "| b | 1 | 3 | 2 | 8 |\n",
       "| b | 1 | 6 | 3 | 7 |\n",
       "\n"
      ],
      "text/plain": [
       "  x v y a b\n",
       "1 b 1 3 2 8\n",
       "2 b 1 6 3 7"
      ]
     },
     "metadata": {},
     "output_type": "display_data"
    },
    {
     "data": {
      "text/html": [
       "<table>\n",
       "<caption>A data.table: 4 × 5</caption>\n",
       "<thead>\n",
       "\t<tr><th scope=col>x</th><th scope=col>v</th><th scope=col>y</th><th scope=col>a</th><th scope=col>b</th></tr>\n",
       "\t<tr><th scope=col>&lt;chr&gt;</th><th scope=col>&lt;dbl&gt;</th><th scope=col>&lt;dbl&gt;</th><th scope=col>&lt;int&gt;</th><th scope=col>&lt;int&gt;</th></tr>\n",
       "</thead>\n",
       "<tbody>\n",
       "\t<tr><td>b</td><td>1</td><td>3</td><td>2</td><td>8</td></tr>\n",
       "\t<tr><td>b</td><td>1</td><td>4</td><td>2</td><td>8</td></tr>\n",
       "\t<tr><td>b</td><td>1</td><td>5</td><td>2</td><td>8</td></tr>\n",
       "\t<tr><td>b</td><td>1</td><td>6</td><td>3</td><td>7</td></tr>\n",
       "</tbody>\n",
       "</table>\n"
      ],
      "text/latex": [
       "A data.table: 4 × 5\n",
       "\\begin{tabular}{r|lllll}\n",
       " x & v & y & a & b\\\\\n",
       " <chr> & <dbl> & <dbl> & <int> & <int>\\\\\n",
       "\\hline\n",
       "\t b & 1 & 3 & 2 & 8\\\\\n",
       "\t b & 1 & 4 & 2 & 8\\\\\n",
       "\t b & 1 & 5 & 2 & 8\\\\\n",
       "\t b & 1 & 6 & 3 & 7\\\\\n",
       "\\end{tabular}\n"
      ],
      "text/markdown": [
       "\n",
       "A data.table: 4 × 5\n",
       "\n",
       "| x &lt;chr&gt; | v &lt;dbl&gt; | y &lt;dbl&gt; | a &lt;int&gt; | b &lt;int&gt; |\n",
       "|---|---|---|---|---|\n",
       "| b | 1 | 3 | 2 | 8 |\n",
       "| b | 1 | 4 | 2 | 8 |\n",
       "| b | 1 | 5 | 2 | 8 |\n",
       "| b | 1 | 6 | 3 | 7 |\n",
       "\n"
      ],
      "text/plain": [
       "  x v y a b\n",
       "1 b 1 3 2 8\n",
       "2 b 1 4 2 8\n",
       "3 b 1 5 2 8\n",
       "4 b 1 6 3 7"
      ]
     },
     "metadata": {},
     "output_type": "display_data"
    },
    {
     "data": {
      "text/html": [
       "<table>\n",
       "<caption>A data.table: 4 × 5</caption>\n",
       "<thead>\n",
       "\t<tr><th scope=col>x</th><th scope=col>v</th><th scope=col>y</th><th scope=col>a</th><th scope=col>b</th></tr>\n",
       "\t<tr><th scope=col>&lt;chr&gt;</th><th scope=col>&lt;dbl&gt;</th><th scope=col>&lt;dbl&gt;</th><th scope=col>&lt;int&gt;</th><th scope=col>&lt;int&gt;</th></tr>\n",
       "</thead>\n",
       "<tbody>\n",
       "\t<tr><td>b</td><td>1</td><td>3</td><td>2</td><td>8</td></tr>\n",
       "\t<tr><td>b</td><td>1</td><td>4</td><td>3</td><td>7</td></tr>\n",
       "\t<tr><td>b</td><td>1</td><td>5</td><td>3</td><td>7</td></tr>\n",
       "\t<tr><td>b</td><td>1</td><td>6</td><td>3</td><td>7</td></tr>\n",
       "</tbody>\n",
       "</table>\n"
      ],
      "text/latex": [
       "A data.table: 4 × 5\n",
       "\\begin{tabular}{r|lllll}\n",
       " x & v & y & a & b\\\\\n",
       " <chr> & <dbl> & <dbl> & <int> & <int>\\\\\n",
       "\\hline\n",
       "\t b & 1 & 3 & 2 & 8\\\\\n",
       "\t b & 1 & 4 & 3 & 7\\\\\n",
       "\t b & 1 & 5 & 3 & 7\\\\\n",
       "\t b & 1 & 6 & 3 & 7\\\\\n",
       "\\end{tabular}\n"
      ],
      "text/markdown": [
       "\n",
       "A data.table: 4 × 5\n",
       "\n",
       "| x &lt;chr&gt; | v &lt;dbl&gt; | y &lt;dbl&gt; | a &lt;int&gt; | b &lt;int&gt; |\n",
       "|---|---|---|---|---|\n",
       "| b | 1 | 3 | 2 | 8 |\n",
       "| b | 1 | 4 | 3 | 7 |\n",
       "| b | 1 | 5 | 3 | 7 |\n",
       "| b | 1 | 6 | 3 | 7 |\n",
       "\n"
      ],
      "text/plain": [
       "  x v y a b\n",
       "1 b 1 3 2 8\n",
       "2 b 1 4 3 7\n",
       "3 b 1 5 3 7\n",
       "4 b 1 6 3 7"
      ]
     },
     "metadata": {},
     "output_type": "display_data"
    },
    {
     "data": {
      "text/html": [
       "<table>\n",
       "<caption>A data.table: 4 × 5</caption>\n",
       "<thead>\n",
       "\t<tr><th scope=col>x</th><th scope=col>v</th><th scope=col>y</th><th scope=col>a</th><th scope=col>b</th></tr>\n",
       "\t<tr><th scope=col>&lt;chr&gt;</th><th scope=col>&lt;dbl&gt;</th><th scope=col>&lt;dbl&gt;</th><th scope=col>&lt;int&gt;</th><th scope=col>&lt;int&gt;</th></tr>\n",
       "</thead>\n",
       "<tbody>\n",
       "\t<tr><td>b</td><td>1</td><td>3</td><td>2</td><td>8</td></tr>\n",
       "\t<tr><td>b</td><td>1</td><td>4</td><td>2</td><td>8</td></tr>\n",
       "\t<tr><td>b</td><td>1</td><td>5</td><td>3</td><td>7</td></tr>\n",
       "\t<tr><td>b</td><td>1</td><td>6</td><td>3</td><td>7</td></tr>\n",
       "</tbody>\n",
       "</table>\n"
      ],
      "text/latex": [
       "A data.table: 4 × 5\n",
       "\\begin{tabular}{r|lllll}\n",
       " x & v & y & a & b\\\\\n",
       " <chr> & <dbl> & <dbl> & <int> & <int>\\\\\n",
       "\\hline\n",
       "\t b & 1 & 3 & 2 & 8\\\\\n",
       "\t b & 1 & 4 & 2 & 8\\\\\n",
       "\t b & 1 & 5 & 3 & 7\\\\\n",
       "\t b & 1 & 6 & 3 & 7\\\\\n",
       "\\end{tabular}\n"
      ],
      "text/markdown": [
       "\n",
       "A data.table: 4 × 5\n",
       "\n",
       "| x &lt;chr&gt; | v &lt;dbl&gt; | y &lt;dbl&gt; | a &lt;int&gt; | b &lt;int&gt; |\n",
       "|---|---|---|---|---|\n",
       "| b | 1 | 3 | 2 | 8 |\n",
       "| b | 1 | 4 | 2 | 8 |\n",
       "| b | 1 | 5 | 3 | 7 |\n",
       "| b | 1 | 6 | 3 | 7 |\n",
       "\n"
      ],
      "text/plain": [
       "  x v y a b\n",
       "1 b 1 3 2 8\n",
       "2 b 1 4 2 8\n",
       "3 b 1 5 3 7\n",
       "4 b 1 6 3 7"
      ]
     },
     "metadata": {},
     "output_type": "display_data"
    }
   ],
   "source": [
    "# 若first arguement為元素值, 依on所指示之變數回傳相符的資料點\n",
    "DT\n",
    "DT[\"b\", on = \"x\"]      # 為二進位搜尋比較一般快\n",
    "DT[.(2), on = .(v)]    # .()為list()的縮寫, 較方便, 不須加引號\n",
    "\n",
    "# 尋找x = \"b\", 且y=3或y=4或y=5或y=6\n",
    "DT[.(\"b\", 3:6), on = .(x, y)]                     # no match, 則回傳NA\n",
    "\n",
    "# 尋找x!=\"b\", 或 y!=3且y!=4且y!=5且y!=6\n",
    "DT[!.(\"b\", 3:6), on = .(x, y)]                    # 與 DT[x != \"b\" | !y%in%c(3:6)] 相等\n",
    "\n",
    "DT[.(\"b\", 3:6), on = .(x, y), nomatch = FALSE]    # no match, 則不回傳\n",
    "DT[.(\"b\", 3:6), on = .(x, y), roll = Inf]         # no match, 則代換為前一筆資料的值\n",
    "DT[.(\"b\", 3:6), on = .(x, y), roll = -Inf]        # no match, 則代換為下一筆資料的值\n",
    "DT[.(\"b\", 3:6), on = .(x, y), roll = \"nearest\"]   # no match, 則代換為最鄰近資料的值"
   ]
  },
  {
   "cell_type": "code",
   "execution_count": 15,
   "metadata": {},
   "outputs": [
    {
     "data": {
      "text/html": [
       "<table>\n",
       "<caption>A data.table: 9 × 5</caption>\n",
       "<thead>\n",
       "\t<tr><th scope=col>x</th><th scope=col>v</th><th scope=col>y</th><th scope=col>a</th><th scope=col>b</th></tr>\n",
       "\t<tr><th scope=col>&lt;chr&gt;</th><th scope=col>&lt;dbl&gt;</th><th scope=col>&lt;dbl&gt;</th><th scope=col>&lt;int&gt;</th><th scope=col>&lt;int&gt;</th></tr>\n",
       "</thead>\n",
       "<tbody>\n",
       "\t<tr><td>b</td><td>1</td><td>1</td><td>1</td><td>9</td></tr>\n",
       "\t<tr><td>b</td><td>1</td><td>3</td><td>2</td><td>8</td></tr>\n",
       "\t<tr><td>b</td><td>1</td><td>6</td><td>3</td><td>7</td></tr>\n",
       "\t<tr><td>a</td><td>2</td><td>1</td><td>4</td><td>6</td></tr>\n",
       "\t<tr><td>a</td><td>2</td><td>3</td><td>5</td><td>5</td></tr>\n",
       "\t<tr><td>a</td><td>1</td><td>6</td><td>6</td><td>4</td></tr>\n",
       "\t<tr><td>c</td><td>1</td><td>1</td><td>7</td><td>3</td></tr>\n",
       "\t<tr><td>c</td><td>2</td><td>3</td><td>8</td><td>2</td></tr>\n",
       "\t<tr><td>c</td><td>2</td><td>6</td><td>9</td><td>1</td></tr>\n",
       "</tbody>\n",
       "</table>\n"
      ],
      "text/latex": [
       "A data.table: 9 × 5\n",
       "\\begin{tabular}{r|lllll}\n",
       " x & v & y & a & b\\\\\n",
       " <chr> & <dbl> & <dbl> & <int> & <int>\\\\\n",
       "\\hline\n",
       "\t b & 1 & 1 & 1 & 9\\\\\n",
       "\t b & 1 & 3 & 2 & 8\\\\\n",
       "\t b & 1 & 6 & 3 & 7\\\\\n",
       "\t a & 2 & 1 & 4 & 6\\\\\n",
       "\t a & 2 & 3 & 5 & 5\\\\\n",
       "\t a & 1 & 6 & 6 & 4\\\\\n",
       "\t c & 1 & 1 & 7 & 3\\\\\n",
       "\t c & 2 & 3 & 8 & 2\\\\\n",
       "\t c & 2 & 6 & 9 & 1\\\\\n",
       "\\end{tabular}\n"
      ],
      "text/markdown": [
       "\n",
       "A data.table: 9 × 5\n",
       "\n",
       "| x &lt;chr&gt; | v &lt;dbl&gt; | y &lt;dbl&gt; | a &lt;int&gt; | b &lt;int&gt; |\n",
       "|---|---|---|---|---|\n",
       "| b | 1 | 1 | 1 | 9 |\n",
       "| b | 1 | 3 | 2 | 8 |\n",
       "| b | 1 | 6 | 3 | 7 |\n",
       "| a | 2 | 1 | 4 | 6 |\n",
       "| a | 2 | 3 | 5 | 5 |\n",
       "| a | 1 | 6 | 6 | 4 |\n",
       "| c | 1 | 1 | 7 | 3 |\n",
       "| c | 2 | 3 | 8 | 2 |\n",
       "| c | 2 | 6 | 9 | 1 |\n",
       "\n"
      ],
      "text/plain": [
       "  x v y a b\n",
       "1 b 1 1 1 9\n",
       "2 b 1 3 2 8\n",
       "3 b 1 6 3 7\n",
       "4 a 2 1 4 6\n",
       "5 a 2 3 5 5\n",
       "6 a 1 6 6 4\n",
       "7 c 1 1 7 3\n",
       "8 c 2 3 8 2\n",
       "9 c 2 6 9 1"
      ]
     },
     "metadata": {},
     "output_type": "display_data"
    },
    {
     "data": {
      "text/html": [
       "<table>\n",
       "<caption>A data.table: 1 × 5</caption>\n",
       "<thead>\n",
       "\t<tr><th scope=col>x</th><th scope=col>v</th><th scope=col>y</th><th scope=col>a</th><th scope=col>b</th></tr>\n",
       "\t<tr><th scope=col>&lt;chr&gt;</th><th scope=col>&lt;dbl&gt;</th><th scope=col>&lt;dbl&gt;</th><th scope=col>&lt;int&gt;</th><th scope=col>&lt;int&gt;</th></tr>\n",
       "</thead>\n",
       "<tbody>\n",
       "\t<tr><td>c</td><td>2</td><td>6</td><td>9</td><td>1</td></tr>\n",
       "</tbody>\n",
       "</table>\n"
      ],
      "text/latex": [
       "A data.table: 1 × 5\n",
       "\\begin{tabular}{r|lllll}\n",
       " x & v & y & a & b\\\\\n",
       " <chr> & <dbl> & <dbl> & <int> & <int>\\\\\n",
       "\\hline\n",
       "\t c & 2 & 6 & 9 & 1\\\\\n",
       "\\end{tabular}\n"
      ],
      "text/markdown": [
       "\n",
       "A data.table: 1 × 5\n",
       "\n",
       "| x &lt;chr&gt; | v &lt;dbl&gt; | y &lt;dbl&gt; | a &lt;int&gt; | b &lt;int&gt; |\n",
       "|---|---|---|---|---|\n",
       "| c | 2 | 6 | 9 | 1 |\n",
       "\n"
      ],
      "text/plain": [
       "  x v y a b\n",
       "1 c 2 6 9 1"
      ]
     },
     "metadata": {},
     "output_type": "display_data"
    },
    {
     "data": {
      "text/html": [
       "9"
      ],
      "text/latex": [
       "9"
      ],
      "text/markdown": [
       "9"
      ],
      "text/plain": [
       "[1] 9"
      ]
     },
     "metadata": {},
     "output_type": "display_data"
    },
    {
     "data": {
      "text/html": [
       "<table>\n",
       "<caption>A data.table: 3 × 2</caption>\n",
       "<thead>\n",
       "\t<tr><th scope=col>x</th><th scope=col>N</th></tr>\n",
       "\t<tr><th scope=col>&lt;chr&gt;</th><th scope=col>&lt;int&gt;</th></tr>\n",
       "</thead>\n",
       "<tbody>\n",
       "\t<tr><td>b</td><td>3</td></tr>\n",
       "\t<tr><td>a</td><td>3</td></tr>\n",
       "\t<tr><td>c</td><td>3</td></tr>\n",
       "</tbody>\n",
       "</table>\n"
      ],
      "text/latex": [
       "A data.table: 3 × 2\n",
       "\\begin{tabular}{r|ll}\n",
       " x & N\\\\\n",
       " <chr> & <int>\\\\\n",
       "\\hline\n",
       "\t b & 3\\\\\n",
       "\t a & 3\\\\\n",
       "\t c & 3\\\\\n",
       "\\end{tabular}\n"
      ],
      "text/markdown": [
       "\n",
       "A data.table: 3 × 2\n",
       "\n",
       "| x &lt;chr&gt; | N &lt;int&gt; |\n",
       "|---|---|\n",
       "| b | 3 |\n",
       "| a | 3 |\n",
       "| c | 3 |\n",
       "\n"
      ],
      "text/plain": [
       "  x N\n",
       "1 b 3\n",
       "2 a 3\n",
       "3 c 3"
      ]
     },
     "metadata": {},
     "output_type": "display_data"
    }
   ],
   "source": [
    "# .N 關於列數\n",
    "DT\n",
    "DT[.N]              # 最後一列, 是唯一可以在\"列\"使用的特殊符號\n",
    "DT[, .N]            # 列的總數\n",
    "DT[, .N, by=x]      # x中各群的列數"
   ]
  },
  {
   "cell_type": "code",
   "execution_count": 16,
   "metadata": {},
   "outputs": [
    {
     "data": {
      "text/html": [
       "<table>\n",
       "<caption>A data.table: 9 × 5</caption>\n",
       "<thead>\n",
       "\t<tr><th scope=col>x</th><th scope=col>v</th><th scope=col>y</th><th scope=col>a</th><th scope=col>b</th></tr>\n",
       "\t<tr><th scope=col>&lt;chr&gt;</th><th scope=col>&lt;dbl&gt;</th><th scope=col>&lt;dbl&gt;</th><th scope=col>&lt;int&gt;</th><th scope=col>&lt;int&gt;</th></tr>\n",
       "</thead>\n",
       "<tbody>\n",
       "\t<tr><td>b</td><td>1</td><td>1</td><td>1</td><td>9</td></tr>\n",
       "\t<tr><td>b</td><td>1</td><td>3</td><td>2</td><td>8</td></tr>\n",
       "\t<tr><td>b</td><td>1</td><td>6</td><td>3</td><td>7</td></tr>\n",
       "\t<tr><td>a</td><td>2</td><td>1</td><td>4</td><td>6</td></tr>\n",
       "\t<tr><td>a</td><td>2</td><td>3</td><td>5</td><td>5</td></tr>\n",
       "\t<tr><td>a</td><td>1</td><td>6</td><td>6</td><td>4</td></tr>\n",
       "\t<tr><td>c</td><td>1</td><td>1</td><td>7</td><td>3</td></tr>\n",
       "\t<tr><td>c</td><td>2</td><td>3</td><td>8</td><td>2</td></tr>\n",
       "\t<tr><td>c</td><td>2</td><td>6</td><td>9</td><td>1</td></tr>\n",
       "</tbody>\n",
       "</table>\n"
      ],
      "text/latex": [
       "A data.table: 9 × 5\n",
       "\\begin{tabular}{r|lllll}\n",
       " x & v & y & a & b\\\\\n",
       " <chr> & <dbl> & <dbl> & <int> & <int>\\\\\n",
       "\\hline\n",
       "\t b & 1 & 1 & 1 & 9\\\\\n",
       "\t b & 1 & 3 & 2 & 8\\\\\n",
       "\t b & 1 & 6 & 3 & 7\\\\\n",
       "\t a & 2 & 1 & 4 & 6\\\\\n",
       "\t a & 2 & 3 & 5 & 5\\\\\n",
       "\t a & 1 & 6 & 6 & 4\\\\\n",
       "\t c & 1 & 1 & 7 & 3\\\\\n",
       "\t c & 2 & 3 & 8 & 2\\\\\n",
       "\t c & 2 & 6 & 9 & 1\\\\\n",
       "\\end{tabular}\n"
      ],
      "text/markdown": [
       "\n",
       "A data.table: 9 × 5\n",
       "\n",
       "| x &lt;chr&gt; | v &lt;dbl&gt; | y &lt;dbl&gt; | a &lt;int&gt; | b &lt;int&gt; |\n",
       "|---|---|---|---|---|\n",
       "| b | 1 | 1 | 1 | 9 |\n",
       "| b | 1 | 3 | 2 | 8 |\n",
       "| b | 1 | 6 | 3 | 7 |\n",
       "| a | 2 | 1 | 4 | 6 |\n",
       "| a | 2 | 3 | 5 | 5 |\n",
       "| a | 1 | 6 | 6 | 4 |\n",
       "| c | 1 | 1 | 7 | 3 |\n",
       "| c | 2 | 3 | 8 | 2 |\n",
       "| c | 2 | 6 | 9 | 1 |\n",
       "\n"
      ],
      "text/plain": [
       "  x v y a b\n",
       "1 b 1 1 1 9\n",
       "2 b 1 3 2 8\n",
       "3 b 1 6 3 7\n",
       "4 a 2 1 4 6\n",
       "5 a 2 3 5 5\n",
       "6 a 1 6 6 4\n",
       "7 c 1 1 7 3\n",
       "8 c 2 3 8 2\n",
       "9 c 2 6 9 1"
      ]
     },
     "metadata": {},
     "output_type": "display_data"
    },
    {
     "data": {
      "text/html": [
       "<table>\n",
       "<caption>A data.table: 9 × 3</caption>\n",
       "<thead>\n",
       "\t<tr><th scope=col>x</th><th scope=col>v</th><th scope=col>y</th></tr>\n",
       "\t<tr><th scope=col>&lt;chr&gt;</th><th scope=col>&lt;dbl&gt;</th><th scope=col>&lt;dbl&gt;</th></tr>\n",
       "</thead>\n",
       "<tbody>\n",
       "\t<tr><td>b</td><td>1</td><td>1</td></tr>\n",
       "\t<tr><td>b</td><td>1</td><td>3</td></tr>\n",
       "\t<tr><td>b</td><td>1</td><td>6</td></tr>\n",
       "\t<tr><td>a</td><td>2</td><td>1</td></tr>\n",
       "\t<tr><td>a</td><td>2</td><td>3</td></tr>\n",
       "\t<tr><td>a</td><td>1</td><td>6</td></tr>\n",
       "\t<tr><td>c</td><td>1</td><td>1</td></tr>\n",
       "\t<tr><td>c</td><td>2</td><td>3</td></tr>\n",
       "\t<tr><td>c</td><td>2</td><td>6</td></tr>\n",
       "</tbody>\n",
       "</table>\n"
      ],
      "text/latex": [
       "A data.table: 9 × 3\n",
       "\\begin{tabular}{r|lll}\n",
       " x & v & y\\\\\n",
       " <chr> & <dbl> & <dbl>\\\\\n",
       "\\hline\n",
       "\t b & 1 & 1\\\\\n",
       "\t b & 1 & 3\\\\\n",
       "\t b & 1 & 6\\\\\n",
       "\t a & 2 & 1\\\\\n",
       "\t a & 2 & 3\\\\\n",
       "\t a & 1 & 6\\\\\n",
       "\t c & 1 & 1\\\\\n",
       "\t c & 2 & 3\\\\\n",
       "\t c & 2 & 6\\\\\n",
       "\\end{tabular}\n"
      ],
      "text/markdown": [
       "\n",
       "A data.table: 9 × 3\n",
       "\n",
       "| x &lt;chr&gt; | v &lt;dbl&gt; | y &lt;dbl&gt; |\n",
       "|---|---|---|\n",
       "| b | 1 | 1 |\n",
       "| b | 1 | 3 |\n",
       "| b | 1 | 6 |\n",
       "| a | 2 | 1 |\n",
       "| a | 2 | 3 |\n",
       "| a | 1 | 6 |\n",
       "| c | 1 | 1 |\n",
       "| c | 2 | 3 |\n",
       "| c | 2 | 6 |\n",
       "\n"
      ],
      "text/plain": [
       "  x v y\n",
       "1 b 1 1\n",
       "2 b 1 3\n",
       "3 b 1 6\n",
       "4 a 2 1\n",
       "5 a 2 3\n",
       "6 a 1 6\n",
       "7 c 1 1\n",
       "8 c 2 3\n",
       "9 c 2 6"
      ]
     },
     "metadata": {},
     "output_type": "display_data"
    },
    {
     "data": {
      "text/html": [
       "<table>\n",
       "<caption>A data.table: 9 × 2</caption>\n",
       "<thead>\n",
       "\t<tr><th scope=col>a</th><th scope=col>b</th></tr>\n",
       "\t<tr><th scope=col>&lt;int&gt;</th><th scope=col>&lt;int&gt;</th></tr>\n",
       "</thead>\n",
       "<tbody>\n",
       "\t<tr><td>1</td><td>9</td></tr>\n",
       "\t<tr><td>2</td><td>8</td></tr>\n",
       "\t<tr><td>3</td><td>7</td></tr>\n",
       "\t<tr><td>4</td><td>6</td></tr>\n",
       "\t<tr><td>5</td><td>5</td></tr>\n",
       "\t<tr><td>6</td><td>4</td></tr>\n",
       "\t<tr><td>7</td><td>3</td></tr>\n",
       "\t<tr><td>8</td><td>2</td></tr>\n",
       "\t<tr><td>9</td><td>1</td></tr>\n",
       "</tbody>\n",
       "</table>\n"
      ],
      "text/latex": [
       "A data.table: 9 × 2\n",
       "\\begin{tabular}{r|ll}\n",
       " a & b\\\\\n",
       " <int> & <int>\\\\\n",
       "\\hline\n",
       "\t 1 & 9\\\\\n",
       "\t 2 & 8\\\\\n",
       "\t 3 & 7\\\\\n",
       "\t 4 & 6\\\\\n",
       "\t 5 & 5\\\\\n",
       "\t 6 & 4\\\\\n",
       "\t 7 & 3\\\\\n",
       "\t 8 & 2\\\\\n",
       "\t 9 & 1\\\\\n",
       "\\end{tabular}\n"
      ],
      "text/markdown": [
       "\n",
       "A data.table: 9 × 2\n",
       "\n",
       "| a &lt;int&gt; | b &lt;int&gt; |\n",
       "|---|---|\n",
       "| 1 | 9 |\n",
       "| 2 | 8 |\n",
       "| 3 | 7 |\n",
       "| 4 | 6 |\n",
       "| 5 | 5 |\n",
       "| 6 | 4 |\n",
       "| 7 | 3 |\n",
       "| 8 | 2 |\n",
       "| 9 | 1 |\n",
       "\n"
      ],
      "text/plain": [
       "  a b\n",
       "1 1 9\n",
       "2 2 8\n",
       "3 3 7\n",
       "4 4 6\n",
       "5 5 5\n",
       "6 6 4\n",
       "7 7 3\n",
       "8 8 2\n",
       "9 9 1"
      ]
     },
     "metadata": {},
     "output_type": "display_data"
    },
    {
     "data": {
      "text/html": [
       "<table>\n",
       "<caption>A data.table: 9 × 2</caption>\n",
       "<thead>\n",
       "\t<tr><th scope=col>x</th><th scope=col>v</th></tr>\n",
       "\t<tr><th scope=col>&lt;chr&gt;</th><th scope=col>&lt;dbl&gt;</th></tr>\n",
       "</thead>\n",
       "<tbody>\n",
       "\t<tr><td>b</td><td>1</td></tr>\n",
       "\t<tr><td>b</td><td>1</td></tr>\n",
       "\t<tr><td>b</td><td>1</td></tr>\n",
       "\t<tr><td>a</td><td>2</td></tr>\n",
       "\t<tr><td>a</td><td>2</td></tr>\n",
       "\t<tr><td>a</td><td>1</td></tr>\n",
       "\t<tr><td>c</td><td>1</td></tr>\n",
       "\t<tr><td>c</td><td>2</td></tr>\n",
       "\t<tr><td>c</td><td>2</td></tr>\n",
       "</tbody>\n",
       "</table>\n"
      ],
      "text/latex": [
       "A data.table: 9 × 2\n",
       "\\begin{tabular}{r|ll}\n",
       " x & v\\\\\n",
       " <chr> & <dbl>\\\\\n",
       "\\hline\n",
       "\t b & 1\\\\\n",
       "\t b & 1\\\\\n",
       "\t b & 1\\\\\n",
       "\t a & 2\\\\\n",
       "\t a & 2\\\\\n",
       "\t a & 1\\\\\n",
       "\t c & 1\\\\\n",
       "\t c & 2\\\\\n",
       "\t c & 2\\\\\n",
       "\\end{tabular}\n"
      ],
      "text/markdown": [
       "\n",
       "A data.table: 9 × 2\n",
       "\n",
       "| x &lt;chr&gt; | v &lt;dbl&gt; |\n",
       "|---|---|\n",
       "| b | 1 |\n",
       "| b | 1 |\n",
       "| b | 1 |\n",
       "| a | 2 |\n",
       "| a | 2 |\n",
       "| a | 1 |\n",
       "| c | 1 |\n",
       "| c | 2 |\n",
       "| c | 2 |\n",
       "\n"
      ],
      "text/plain": [
       "  x v\n",
       "1 b 1\n",
       "2 b 1\n",
       "3 b 1\n",
       "4 a 2\n",
       "5 a 2\n",
       "6 a 1\n",
       "7 c 1\n",
       "8 c 2\n",
       "9 c 2"
      ]
     },
     "metadata": {},
     "output_type": "display_data"
    },
    {
     "data": {
      "text/html": [
       "<table>\n",
       "<caption>A data.table: 1 × 5</caption>\n",
       "<thead>\n",
       "\t<tr><th scope=col>x</th><th scope=col>v</th><th scope=col>y</th><th scope=col>a</th><th scope=col>b</th></tr>\n",
       "\t<tr><th scope=col>&lt;chr&gt;</th><th scope=col>&lt;dbl&gt;</th><th scope=col>&lt;dbl&gt;</th><th scope=col>&lt;int&gt;</th><th scope=col>&lt;int&gt;</th></tr>\n",
       "</thead>\n",
       "<tbody>\n",
       "\t<tr><td>b</td><td>1</td><td>1</td><td>1</td><td>9</td></tr>\n",
       "</tbody>\n",
       "</table>\n"
      ],
      "text/latex": [
       "A data.table: 1 × 5\n",
       "\\begin{tabular}{r|lllll}\n",
       " x & v & y & a & b\\\\\n",
       " <chr> & <dbl> & <dbl> & <int> & <int>\\\\\n",
       "\\hline\n",
       "\t b & 1 & 1 & 1 & 9\\\\\n",
       "\\end{tabular}\n"
      ],
      "text/markdown": [
       "\n",
       "A data.table: 1 × 5\n",
       "\n",
       "| x &lt;chr&gt; | v &lt;dbl&gt; | y &lt;dbl&gt; | a &lt;int&gt; | b &lt;int&gt; |\n",
       "|---|---|---|---|---|\n",
       "| b | 1 | 1 | 1 | 9 |\n",
       "\n"
      ],
      "text/plain": [
       "  x v y a b\n",
       "1 b 1 1 1 9"
      ]
     },
     "metadata": {},
     "output_type": "display_data"
    },
    {
     "data": {
      "text/html": [
       "<table>\n",
       "<caption>A data.table: 3 × 3</caption>\n",
       "<thead>\n",
       "\t<tr><th scope=col>x</th><th scope=col>y</th><th scope=col>v</th></tr>\n",
       "\t<tr><th scope=col>&lt;chr&gt;</th><th scope=col>&lt;dbl&gt;</th><th scope=col>&lt;dbl&gt;</th></tr>\n",
       "</thead>\n",
       "<tbody>\n",
       "\t<tr><td>b</td><td>1</td><td>1</td></tr>\n",
       "\t<tr><td>a</td><td>1</td><td>2</td></tr>\n",
       "\t<tr><td>c</td><td>1</td><td>1</td></tr>\n",
       "</tbody>\n",
       "</table>\n"
      ],
      "text/latex": [
       "A data.table: 3 × 3\n",
       "\\begin{tabular}{r|lll}\n",
       " x & y & v\\\\\n",
       " <chr> & <dbl> & <dbl>\\\\\n",
       "\\hline\n",
       "\t b & 1 & 1\\\\\n",
       "\t a & 1 & 2\\\\\n",
       "\t c & 1 & 1\\\\\n",
       "\\end{tabular}\n"
      ],
      "text/markdown": [
       "\n",
       "A data.table: 3 × 3\n",
       "\n",
       "| x &lt;chr&gt; | y &lt;dbl&gt; | v &lt;dbl&gt; |\n",
       "|---|---|---|\n",
       "| b | 1 | 1 |\n",
       "| a | 1 | 2 |\n",
       "| c | 1 | 1 |\n",
       "\n"
      ],
      "text/plain": [
       "  x y v\n",
       "1 b 1 1\n",
       "2 a 1 2\n",
       "3 c 1 1"
      ]
     },
     "metadata": {},
     "output_type": "display_data"
    },
    {
     "data": {
      "text/html": [
       "<table>\n",
       "<caption>A data.table: 3 × 6</caption>\n",
       "<thead>\n",
       "\t<tr><th scope=col>x</th><th scope=col>N</th><th scope=col>v</th><th scope=col>y</th><th scope=col>a</th><th scope=col>b</th></tr>\n",
       "\t<tr><th scope=col>&lt;chr&gt;</th><th scope=col>&lt;int&gt;</th><th scope=col>&lt;dbl&gt;</th><th scope=col>&lt;dbl&gt;</th><th scope=col>&lt;int&gt;</th><th scope=col>&lt;int&gt;</th></tr>\n",
       "</thead>\n",
       "<tbody>\n",
       "\t<tr><td>b</td><td>3</td><td>3</td><td>10</td><td> 6</td><td>24</td></tr>\n",
       "\t<tr><td>a</td><td>3</td><td>5</td><td>10</td><td>15</td><td>15</td></tr>\n",
       "\t<tr><td>c</td><td>3</td><td>5</td><td>10</td><td>24</td><td> 6</td></tr>\n",
       "</tbody>\n",
       "</table>\n"
      ],
      "text/latex": [
       "A data.table: 3 × 6\n",
       "\\begin{tabular}{r|llllll}\n",
       " x & N & v & y & a & b\\\\\n",
       " <chr> & <int> & <dbl> & <dbl> & <int> & <int>\\\\\n",
       "\\hline\n",
       "\t b & 3 & 3 & 10 &  6 & 24\\\\\n",
       "\t a & 3 & 5 & 10 & 15 & 15\\\\\n",
       "\t c & 3 & 5 & 10 & 24 &  6\\\\\n",
       "\\end{tabular}\n"
      ],
      "text/markdown": [
       "\n",
       "A data.table: 3 × 6\n",
       "\n",
       "| x &lt;chr&gt; | N &lt;int&gt; | v &lt;dbl&gt; | y &lt;dbl&gt; | a &lt;int&gt; | b &lt;int&gt; |\n",
       "|---|---|---|---|---|---|\n",
       "| b | 3 | 3 | 10 |  6 | 24 |\n",
       "| a | 3 | 5 | 10 | 15 | 15 |\n",
       "| c | 3 | 5 | 10 | 24 |  6 |\n",
       "\n"
      ],
      "text/plain": [
       "  x N v y  a  b \n",
       "1 b 3 3 10  6 24\n",
       "2 a 3 5 10 15 15\n",
       "3 c 3 5 10 24  6"
      ]
     },
     "metadata": {},
     "output_type": "display_data"
    }
   ],
   "source": [
    "# .SD 關於行列選取\n",
    "DT\n",
    "DT[, .SD, .SDcols = x:y]                 # 選擇x跟y及它們之間所有的\"行\"\n",
    "DT[, .SD, .SDcols = !x:y]                # 排除x跟y及它們之間所有的\"行\"\n",
    "DT[, .SD, .SDcols = patterns('^[xv]')]   # 選擇行名含有'x'或'v'的行\n",
    "DT[, .SD[1]]                             # 所有行的第一列\n",
    "DT[, .SD[1, .(y, v)], by = x]            # 以x分組, 找個組y,v的第一列\n",
    "DT[, c(.N, lapply(.SD, sum)), by=x]      # 以X分群, 計算列數並計算各行總和"
   ]
  },
  {
   "cell_type": "code",
   "execution_count": 17,
   "metadata": {},
   "outputs": [
    {
     "data": {
      "text/html": [
       "<ol class=list-inline>\n",
       "\t<li>1</li>\n",
       "\t<li>2</li>\n",
       "\t<li>3</li>\n",
       "\t<li>4</li>\n",
       "\t<li>5</li>\n",
       "\t<li>6</li>\n",
       "\t<li>7</li>\n",
       "\t<li>8</li>\n",
       "\t<li>9</li>\n",
       "</ol>\n"
      ],
      "text/latex": [
       "\\begin{enumerate*}\n",
       "\\item 1\n",
       "\\item 2\n",
       "\\item 3\n",
       "\\item 4\n",
       "\\item 5\n",
       "\\item 6\n",
       "\\item 7\n",
       "\\item 8\n",
       "\\item 9\n",
       "\\end{enumerate*}\n"
      ],
      "text/markdown": [
       "1. 1\n",
       "2. 2\n",
       "3. 3\n",
       "4. 4\n",
       "5. 5\n",
       "6. 6\n",
       "7. 7\n",
       "8. 8\n",
       "9. 9\n",
       "\n",
       "\n"
      ],
      "text/plain": [
       "[1] 1 2 3 4 5 6 7 8 9"
      ]
     },
     "metadata": {},
     "output_type": "display_data"
    },
    {
     "data": {
      "text/html": [
       "<table>\n",
       "<caption>A data.table: 3 × 2</caption>\n",
       "<thead>\n",
       "\t<tr><th scope=col>x</th><th scope=col>V1</th></tr>\n",
       "\t<tr><th scope=col>&lt;chr&gt;</th><th scope=col>&lt;int&gt;</th></tr>\n",
       "</thead>\n",
       "<tbody>\n",
       "\t<tr><td>b</td><td>1</td></tr>\n",
       "\t<tr><td>a</td><td>4</td></tr>\n",
       "\t<tr><td>c</td><td>7</td></tr>\n",
       "</tbody>\n",
       "</table>\n"
      ],
      "text/latex": [
       "A data.table: 3 × 2\n",
       "\\begin{tabular}{r|ll}\n",
       " x & V1\\\\\n",
       " <chr> & <int>\\\\\n",
       "\\hline\n",
       "\t b & 1\\\\\n",
       "\t a & 4\\\\\n",
       "\t c & 7\\\\\n",
       "\\end{tabular}\n"
      ],
      "text/markdown": [
       "\n",
       "A data.table: 3 × 2\n",
       "\n",
       "| x &lt;chr&gt; | V1 &lt;int&gt; |\n",
       "|---|---|\n",
       "| b | 1 |\n",
       "| a | 4 |\n",
       "| c | 7 |\n",
       "\n"
      ],
      "text/plain": [
       "  x V1\n",
       "1 b 1 \n",
       "2 a 4 \n",
       "3 c 7 "
      ]
     },
     "metadata": {},
     "output_type": "display_data"
    }
   ],
   "source": [
    "# .I 關於row number\n",
    "DT[, .I]              # 各資料點的row number\n",
    "DT[, .I[1], by = x]   # 以x分組, 找各組第一個資料點的row number"
   ]
  },
  {
   "cell_type": "code",
   "execution_count": 18,
   "metadata": {},
   "outputs": [
    {
     "data": {
      "text/html": [
       "<table>\n",
       "<caption>A data.table: 9 × 6</caption>\n",
       "<thead>\n",
       "\t<tr><th scope=col>x</th><th scope=col>v</th><th scope=col>y</th><th scope=col>a</th><th scope=col>b</th><th scope=col>g</th></tr>\n",
       "\t<tr><th scope=col>&lt;chr&gt;</th><th scope=col>&lt;dbl&gt;</th><th scope=col>&lt;dbl&gt;</th><th scope=col>&lt;int&gt;</th><th scope=col>&lt;int&gt;</th><th scope=col>&lt;int&gt;</th></tr>\n",
       "</thead>\n",
       "<tbody>\n",
       "\t<tr><td>b</td><td>1</td><td>1</td><td>1</td><td>9</td><td>1</td></tr>\n",
       "\t<tr><td>b</td><td>1</td><td>3</td><td>2</td><td>8</td><td>2</td></tr>\n",
       "\t<tr><td>b</td><td>1</td><td>6</td><td>3</td><td>7</td><td>3</td></tr>\n",
       "\t<tr><td>a</td><td>2</td><td>1</td><td>4</td><td>6</td><td>1</td></tr>\n",
       "\t<tr><td>a</td><td>2</td><td>3</td><td>5</td><td>5</td><td>2</td></tr>\n",
       "\t<tr><td>a</td><td>1</td><td>6</td><td>6</td><td>4</td><td>3</td></tr>\n",
       "\t<tr><td>c</td><td>1</td><td>1</td><td>7</td><td>3</td><td>1</td></tr>\n",
       "\t<tr><td>c</td><td>2</td><td>3</td><td>8</td><td>2</td><td>2</td></tr>\n",
       "\t<tr><td>c</td><td>2</td><td>6</td><td>9</td><td>1</td><td>3</td></tr>\n",
       "</tbody>\n",
       "</table>\n"
      ],
      "text/latex": [
       "A data.table: 9 × 6\n",
       "\\begin{tabular}{r|llllll}\n",
       " x & v & y & a & b & g\\\\\n",
       " <chr> & <dbl> & <dbl> & <int> & <int> & <int>\\\\\n",
       "\\hline\n",
       "\t b & 1 & 1 & 1 & 9 & 1\\\\\n",
       "\t b & 1 & 3 & 2 & 8 & 2\\\\\n",
       "\t b & 1 & 6 & 3 & 7 & 3\\\\\n",
       "\t a & 2 & 1 & 4 & 6 & 1\\\\\n",
       "\t a & 2 & 3 & 5 & 5 & 2\\\\\n",
       "\t a & 1 & 6 & 6 & 4 & 3\\\\\n",
       "\t c & 1 & 1 & 7 & 3 & 1\\\\\n",
       "\t c & 2 & 3 & 8 & 2 & 2\\\\\n",
       "\t c & 2 & 6 & 9 & 1 & 3\\\\\n",
       "\\end{tabular}\n"
      ],
      "text/markdown": [
       "\n",
       "A data.table: 9 × 6\n",
       "\n",
       "| x &lt;chr&gt; | v &lt;dbl&gt; | y &lt;dbl&gt; | a &lt;int&gt; | b &lt;int&gt; | g &lt;int&gt; |\n",
       "|---|---|---|---|---|---|\n",
       "| b | 1 | 1 | 1 | 9 | 1 |\n",
       "| b | 1 | 3 | 2 | 8 | 2 |\n",
       "| b | 1 | 6 | 3 | 7 | 3 |\n",
       "| a | 2 | 1 | 4 | 6 | 1 |\n",
       "| a | 2 | 3 | 5 | 5 | 2 |\n",
       "| a | 1 | 6 | 6 | 4 | 3 |\n",
       "| c | 1 | 1 | 7 | 3 | 1 |\n",
       "| c | 2 | 3 | 8 | 2 | 2 |\n",
       "| c | 2 | 6 | 9 | 1 | 3 |\n",
       "\n"
      ],
      "text/plain": [
       "  x v y a b g\n",
       "1 b 1 1 1 9 1\n",
       "2 b 1 3 2 8 2\n",
       "3 b 1 6 3 7 3\n",
       "4 a 2 1 4 6 1\n",
       "5 a 2 3 5 5 2\n",
       "6 a 1 6 6 4 3\n",
       "7 c 1 1 7 3 1\n",
       "8 c 2 3 8 2 2\n",
       "9 c 2 6 9 1 3"
      ]
     },
     "metadata": {},
     "output_type": "display_data"
    },
    {
     "data": {
      "text/html": [
       "<table>\n",
       "<caption>A data.table: 9 × 5</caption>\n",
       "<thead>\n",
       "\t<tr><th scope=col>x</th><th scope=col>v</th><th scope=col>y</th><th scope=col>a</th><th scope=col>b</th></tr>\n",
       "\t<tr><th scope=col>&lt;chr&gt;</th><th scope=col>&lt;dbl&gt;</th><th scope=col>&lt;dbl&gt;</th><th scope=col>&lt;int&gt;</th><th scope=col>&lt;int&gt;</th></tr>\n",
       "</thead>\n",
       "<tbody>\n",
       "\t<tr><td>b</td><td>1</td><td>1</td><td>1</td><td>9</td></tr>\n",
       "\t<tr><td>b</td><td>1</td><td>3</td><td>2</td><td>8</td></tr>\n",
       "\t<tr><td>b</td><td>1</td><td>6</td><td>3</td><td>7</td></tr>\n",
       "\t<tr><td>a</td><td>2</td><td>1</td><td>4</td><td>6</td></tr>\n",
       "\t<tr><td>a</td><td>2</td><td>3</td><td>5</td><td>5</td></tr>\n",
       "\t<tr><td>a</td><td>1</td><td>6</td><td>6</td><td>4</td></tr>\n",
       "\t<tr><td>c</td><td>1</td><td>1</td><td>7</td><td>3</td></tr>\n",
       "\t<tr><td>c</td><td>2</td><td>3</td><td>8</td><td>2</td></tr>\n",
       "\t<tr><td>c</td><td>2</td><td>6</td><td>9</td><td>1</td></tr>\n",
       "</tbody>\n",
       "</table>\n"
      ],
      "text/latex": [
       "A data.table: 9 × 5\n",
       "\\begin{tabular}{r|lllll}\n",
       " x & v & y & a & b\\\\\n",
       " <chr> & <dbl> & <dbl> & <int> & <int>\\\\\n",
       "\\hline\n",
       "\t b & 1 & 1 & 1 & 9\\\\\n",
       "\t b & 1 & 3 & 2 & 8\\\\\n",
       "\t b & 1 & 6 & 3 & 7\\\\\n",
       "\t a & 2 & 1 & 4 & 6\\\\\n",
       "\t a & 2 & 3 & 5 & 5\\\\\n",
       "\t a & 1 & 6 & 6 & 4\\\\\n",
       "\t c & 1 & 1 & 7 & 3\\\\\n",
       "\t c & 2 & 3 & 8 & 2\\\\\n",
       "\t c & 2 & 6 & 9 & 1\\\\\n",
       "\\end{tabular}\n"
      ],
      "text/markdown": [
       "\n",
       "A data.table: 9 × 5\n",
       "\n",
       "| x &lt;chr&gt; | v &lt;dbl&gt; | y &lt;dbl&gt; | a &lt;int&gt; | b &lt;int&gt; |\n",
       "|---|---|---|---|---|\n",
       "| b | 1 | 1 | 1 | 9 |\n",
       "| b | 1 | 3 | 2 | 8 |\n",
       "| b | 1 | 6 | 3 | 7 |\n",
       "| a | 2 | 1 | 4 | 6 |\n",
       "| a | 2 | 3 | 5 | 5 |\n",
       "| a | 1 | 6 | 6 | 4 |\n",
       "| c | 1 | 1 | 7 | 3 |\n",
       "| c | 2 | 3 | 8 | 2 |\n",
       "| c | 2 | 6 | 9 | 1 |\n",
       "\n"
      ],
      "text/plain": [
       "  x v y a b\n",
       "1 b 1 1 1 9\n",
       "2 b 1 3 2 8\n",
       "3 b 1 6 3 7\n",
       "4 a 2 1 4 6\n",
       "5 a 2 3 5 5\n",
       "6 a 1 6 6 4\n",
       "7 c 1 1 7 3\n",
       "8 c 2 3 8 2\n",
       "9 c 2 6 9 1"
      ]
     },
     "metadata": {},
     "output_type": "display_data"
    }
   ],
   "source": [
    "# .GRP\n",
    "DT[, g := .GRP, by = y]    # 以y分組, 變數g標註該資料來自y的第幾群\n",
    "DT\n",
    "\n",
    "# 復原\n",
    "DT[, g := NULL]\n",
    "DT"
   ]
  },
  {
   "cell_type": "code",
   "execution_count": 19,
   "metadata": {},
   "outputs": [
    {
     "data": {
      "text/html": [
       "<table>\n",
       "<caption>A data.table: 9 × 5</caption>\n",
       "<thead>\n",
       "\t<tr><th scope=col>x</th><th scope=col>v</th><th scope=col>y</th><th scope=col>a</th><th scope=col>b</th></tr>\n",
       "\t<tr><th scope=col>&lt;chr&gt;</th><th scope=col>&lt;dbl&gt;</th><th scope=col>&lt;dbl&gt;</th><th scope=col>&lt;int&gt;</th><th scope=col>&lt;int&gt;</th></tr>\n",
       "</thead>\n",
       "<tbody>\n",
       "\t<tr><td>b</td><td>1</td><td>1</td><td>1</td><td>9</td></tr>\n",
       "\t<tr><td>b</td><td>1</td><td>3</td><td>2</td><td>8</td></tr>\n",
       "\t<tr><td>b</td><td>1</td><td>6</td><td>3</td><td>7</td></tr>\n",
       "\t<tr><td>a</td><td>2</td><td>1</td><td>4</td><td>6</td></tr>\n",
       "\t<tr><td>a</td><td>2</td><td>3</td><td>5</td><td>5</td></tr>\n",
       "\t<tr><td>a</td><td>1</td><td>6</td><td>6</td><td>4</td></tr>\n",
       "\t<tr><td>c</td><td>1</td><td>1</td><td>7</td><td>3</td></tr>\n",
       "\t<tr><td>c</td><td>2</td><td>3</td><td>8</td><td>2</td></tr>\n",
       "\t<tr><td>c</td><td>2</td><td>6</td><td>9</td><td>1</td></tr>\n",
       "</tbody>\n",
       "</table>\n"
      ],
      "text/latex": [
       "A data.table: 9 × 5\n",
       "\\begin{tabular}{r|lllll}\n",
       " x & v & y & a & b\\\\\n",
       " <chr> & <dbl> & <dbl> & <int> & <int>\\\\\n",
       "\\hline\n",
       "\t b & 1 & 1 & 1 & 9\\\\\n",
       "\t b & 1 & 3 & 2 & 8\\\\\n",
       "\t b & 1 & 6 & 3 & 7\\\\\n",
       "\t a & 2 & 1 & 4 & 6\\\\\n",
       "\t a & 2 & 3 & 5 & 5\\\\\n",
       "\t a & 1 & 6 & 6 & 4\\\\\n",
       "\t c & 1 & 1 & 7 & 3\\\\\n",
       "\t c & 2 & 3 & 8 & 2\\\\\n",
       "\t c & 2 & 6 & 9 & 1\\\\\n",
       "\\end{tabular}\n"
      ],
      "text/markdown": [
       "\n",
       "A data.table: 9 × 5\n",
       "\n",
       "| x &lt;chr&gt; | v &lt;dbl&gt; | y &lt;dbl&gt; | a &lt;int&gt; | b &lt;int&gt; |\n",
       "|---|---|---|---|---|\n",
       "| b | 1 | 1 | 1 | 9 |\n",
       "| b | 1 | 3 | 2 | 8 |\n",
       "| b | 1 | 6 | 3 | 7 |\n",
       "| a | 2 | 1 | 4 | 6 |\n",
       "| a | 2 | 3 | 5 | 5 |\n",
       "| a | 1 | 6 | 6 | 4 |\n",
       "| c | 1 | 1 | 7 | 3 |\n",
       "| c | 2 | 3 | 8 | 2 |\n",
       "| c | 2 | 6 | 9 | 1 |\n",
       "\n"
      ],
      "text/plain": [
       "  x v y a b\n",
       "1 b 1 1 1 9\n",
       "2 b 1 3 2 8\n",
       "3 b 1 6 3 7\n",
       "4 a 2 1 4 6\n",
       "5 a 2 3 5 5\n",
       "6 a 1 6 6 4\n",
       "7 c 1 1 7 3\n",
       "8 c 2 3 8 2\n",
       "9 c 2 6 9 1"
      ]
     },
     "metadata": {},
     "output_type": "display_data"
    },
    {
     "data": {
      "text/html": [
       "<table>\n",
       "<caption>A data.table: 3 × 3</caption>\n",
       "<thead>\n",
       "\t<tr><th scope=col>x</th><th scope=col>v</th><th scope=col>foo</th></tr>\n",
       "\t<tr><th scope=col>&lt;chr&gt;</th><th scope=col>&lt;int&gt;</th><th scope=col>&lt;dbl&gt;</th></tr>\n",
       "</thead>\n",
       "<tbody>\n",
       "\t<tr><td>c</td><td>8</td><td>4</td></tr>\n",
       "\t<tr><td>b</td><td>7</td><td>2</td></tr>\n",
       "\t<tr><td>b</td><td>6</td><td>7</td></tr>\n",
       "</tbody>\n",
       "</table>\n"
      ],
      "text/latex": [
       "A data.table: 3 × 3\n",
       "\\begin{tabular}{r|lll}\n",
       " x & v & foo\\\\\n",
       " <chr> & <int> & <dbl>\\\\\n",
       "\\hline\n",
       "\t c & 8 & 4\\\\\n",
       "\t b & 7 & 2\\\\\n",
       "\t b & 6 & 7\\\\\n",
       "\\end{tabular}\n"
      ],
      "text/markdown": [
       "\n",
       "A data.table: 3 × 3\n",
       "\n",
       "| x &lt;chr&gt; | v &lt;int&gt; | foo &lt;dbl&gt; |\n",
       "|---|---|---|\n",
       "| c | 8 | 4 |\n",
       "| b | 7 | 2 |\n",
       "| b | 6 | 7 |\n",
       "\n"
      ],
      "text/plain": [
       "  x v foo\n",
       "1 c 8 4  \n",
       "2 b 7 2  \n",
       "3 b 6 7  "
      ]
     },
     "metadata": {},
     "output_type": "display_data"
    },
    {
     "data": {
      "text/html": [
       "<table>\n",
       "<caption>A data.table: 6 × 3</caption>\n",
       "<thead>\n",
       "\t<tr><th scope=col>x</th><th scope=col>v</th><th scope=col>y</th></tr>\n",
       "\t<tr><th scope=col>&lt;chr&gt;</th><th scope=col>&lt;dbl&gt;</th><th scope=col>&lt;dbl&gt;</th></tr>\n",
       "</thead>\n",
       "<tbody>\n",
       "\t<tr><td>c</td><td>1</td><td>1</td></tr>\n",
       "\t<tr><td>c</td><td>2</td><td>3</td></tr>\n",
       "\t<tr><td>c</td><td>2</td><td>6</td></tr>\n",
       "\t<tr><td>b</td><td>1</td><td>1</td></tr>\n",
       "\t<tr><td>b</td><td>1</td><td>3</td></tr>\n",
       "\t<tr><td>b</td><td>1</td><td>6</td></tr>\n",
       "</tbody>\n",
       "</table>\n"
      ],
      "text/latex": [
       "A data.table: 6 × 3\n",
       "\\begin{tabular}{r|lll}\n",
       " x & v & y\\\\\n",
       " <chr> & <dbl> & <dbl>\\\\\n",
       "\\hline\n",
       "\t c & 1 & 1\\\\\n",
       "\t c & 2 & 3\\\\\n",
       "\t c & 2 & 6\\\\\n",
       "\t b & 1 & 1\\\\\n",
       "\t b & 1 & 3\\\\\n",
       "\t b & 1 & 6\\\\\n",
       "\\end{tabular}\n"
      ],
      "text/markdown": [
       "\n",
       "A data.table: 6 × 3\n",
       "\n",
       "| x &lt;chr&gt; | v &lt;dbl&gt; | y &lt;dbl&gt; |\n",
       "|---|---|---|\n",
       "| c | 1 | 1 |\n",
       "| c | 2 | 3 |\n",
       "| c | 2 | 6 |\n",
       "| b | 1 | 1 |\n",
       "| b | 1 | 3 |\n",
       "| b | 1 | 6 |\n",
       "\n"
      ],
      "text/plain": [
       "  x v y\n",
       "1 c 1 1\n",
       "2 c 2 3\n",
       "3 c 2 6\n",
       "4 b 1 1\n",
       "5 b 1 3\n",
       "6 b 1 6"
      ]
     },
     "metadata": {},
     "output_type": "display_data"
    }
   ],
   "source": [
    "#.BY 為已分群的值組成的list\n",
    "DT\n",
    "X\n",
    "X[, DT[.BY, .(v,y), on = \"x\"], by = x]  # 因by = x, 所以此處.BY等於.(c,b)"
   ]
  },
  {
   "cell_type": "code",
   "execution_count": 20,
   "metadata": {},
   "outputs": [
    {
     "data": {
      "text/html": [
       "<table>\n",
       "<caption>A data.table: 93 × 6</caption>\n",
       "<thead>\n",
       "\t<tr><th scope=col>Manufacturer</th><th scope=col>Type</th><th scope=col>Price</th><th scope=col>Length</th><th scope=col>Weight</th><th scope=col>Origin</th></tr>\n",
       "\t<tr><th scope=col>&lt;fct&gt;</th><th scope=col>&lt;fct&gt;</th><th scope=col>&lt;dbl&gt;</th><th scope=col>&lt;int&gt;</th><th scope=col>&lt;int&gt;</th><th scope=col>&lt;fct&gt;</th></tr>\n",
       "</thead>\n",
       "<tbody>\n",
       "\t<tr><td>Acura    </td><td>Small  </td><td>15.9</td><td>177</td><td>2705</td><td>non-USA</td></tr>\n",
       "\t<tr><td>Acura    </td><td>Midsize</td><td>33.9</td><td>195</td><td>3560</td><td>non-USA</td></tr>\n",
       "\t<tr><td>Audi     </td><td>Compact</td><td>29.1</td><td>180</td><td>3375</td><td>non-USA</td></tr>\n",
       "\t<tr><td>Audi     </td><td>Midsize</td><td>37.7</td><td>193</td><td>3405</td><td>non-USA</td></tr>\n",
       "\t<tr><td>BMW      </td><td>Midsize</td><td>30.0</td><td>186</td><td>3640</td><td>non-USA</td></tr>\n",
       "\t<tr><td>Buick    </td><td>Midsize</td><td>15.7</td><td>189</td><td>2880</td><td>USA    </td></tr>\n",
       "\t<tr><td>Buick    </td><td>Large  </td><td>20.8</td><td>200</td><td>3470</td><td>USA    </td></tr>\n",
       "\t<tr><td>Buick    </td><td>Large  </td><td>23.7</td><td>216</td><td>4105</td><td>USA    </td></tr>\n",
       "\t<tr><td>Buick    </td><td>Midsize</td><td>26.3</td><td>198</td><td>3495</td><td>USA    </td></tr>\n",
       "\t<tr><td>Cadillac </td><td>Large  </td><td>34.7</td><td>206</td><td>3620</td><td>USA    </td></tr>\n",
       "\t<tr><td>Cadillac </td><td>Midsize</td><td>40.1</td><td>204</td><td>3935</td><td>USA    </td></tr>\n",
       "\t<tr><td>Chevrolet</td><td>Compact</td><td>13.4</td><td>182</td><td>2490</td><td>USA    </td></tr>\n",
       "\t<tr><td>Chevrolet</td><td>Compact</td><td>11.4</td><td>184</td><td>2785</td><td>USA    </td></tr>\n",
       "\t<tr><td>Chevrolet</td><td>Sporty </td><td>15.1</td><td>193</td><td>3240</td><td>USA    </td></tr>\n",
       "\t<tr><td>Chevrolet</td><td>Midsize</td><td>15.9</td><td>198</td><td>3195</td><td>USA    </td></tr>\n",
       "\t<tr><td>Chevrolet</td><td>Van    </td><td>16.3</td><td>178</td><td>3715</td><td>USA    </td></tr>\n",
       "\t<tr><td>Chevrolet</td><td>Van    </td><td>16.6</td><td>194</td><td>4025</td><td>USA    </td></tr>\n",
       "\t<tr><td>Chevrolet</td><td>Large  </td><td>18.8</td><td>214</td><td>3910</td><td>USA    </td></tr>\n",
       "\t<tr><td>Chevrolet</td><td>Sporty </td><td>38.0</td><td>179</td><td>3380</td><td>USA    </td></tr>\n",
       "\t<tr><td>Chrylser </td><td>Large  </td><td>18.4</td><td>203</td><td>3515</td><td>USA    </td></tr>\n",
       "\t<tr><td>Chrysler </td><td>Compact</td><td>15.8</td><td>183</td><td>3085</td><td>USA    </td></tr>\n",
       "\t<tr><td>Chrysler </td><td>Large  </td><td>29.5</td><td>203</td><td>3570</td><td>USA    </td></tr>\n",
       "\t<tr><td>Dodge    </td><td>Small  </td><td> 9.2</td><td>174</td><td>2270</td><td>USA    </td></tr>\n",
       "\t<tr><td>Dodge    </td><td>Small  </td><td>11.3</td><td>172</td><td>2670</td><td>USA    </td></tr>\n",
       "\t<tr><td>Dodge    </td><td>Compact</td><td>13.3</td><td>181</td><td>2970</td><td>USA    </td></tr>\n",
       "\t<tr><td>Dodge    </td><td>Van    </td><td>19.0</td><td>175</td><td>3705</td><td>USA    </td></tr>\n",
       "\t<tr><td>Dodge    </td><td>Midsize</td><td>15.6</td><td>192</td><td>3080</td><td>USA    </td></tr>\n",
       "\t<tr><td>Dodge    </td><td>Sporty </td><td>25.8</td><td>180</td><td>3805</td><td>USA    </td></tr>\n",
       "\t<tr><td>Eagle    </td><td>Small  </td><td>12.2</td><td>174</td><td>2295</td><td>USA    </td></tr>\n",
       "\t<tr><td>Eagle    </td><td>Large  </td><td>19.3</td><td>202</td><td>3490</td><td>USA    </td></tr>\n",
       "\t<tr><td>...</td><td>...</td><td>...</td><td>...</td><td>...</td><td>...</td></tr>\n",
       "\t<tr><td>Nissan    </td><td>Small  </td><td>11.8</td><td>170</td><td>2545</td><td>non-USA</td></tr>\n",
       "\t<tr><td>Nissan    </td><td>Compact</td><td>15.7</td><td>181</td><td>3050</td><td>non-USA</td></tr>\n",
       "\t<tr><td>Nissan    </td><td>Van    </td><td>19.1</td><td>190</td><td>4100</td><td>non-USA</td></tr>\n",
       "\t<tr><td>Nissan    </td><td>Midsize</td><td>21.5</td><td>188</td><td>3200</td><td>non-USA</td></tr>\n",
       "\t<tr><td>Oldsmobile</td><td>Compact</td><td>13.5</td><td>188</td><td>2910</td><td>USA    </td></tr>\n",
       "\t<tr><td>Oldsmobile</td><td>Midsize</td><td>16.3</td><td>190</td><td>2890</td><td>USA    </td></tr>\n",
       "\t<tr><td>Oldsmobile</td><td>Van    </td><td>19.5</td><td>194</td><td>3715</td><td>USA    </td></tr>\n",
       "\t<tr><td>Oldsmobile</td><td>Large  </td><td>20.7</td><td>201</td><td>3470</td><td>USA    </td></tr>\n",
       "\t<tr><td>Plymouth  </td><td>Sporty </td><td>14.4</td><td>173</td><td>2640</td><td>USA    </td></tr>\n",
       "\t<tr><td>Pontiac   </td><td>Small  </td><td> 9.0</td><td>177</td><td>2350</td><td>USA    </td></tr>\n",
       "\t<tr><td>Pontiac   </td><td>Compact</td><td>11.1</td><td>181</td><td>2575</td><td>USA    </td></tr>\n",
       "\t<tr><td>Pontiac   </td><td>Sporty </td><td>17.7</td><td>196</td><td>3240</td><td>USA    </td></tr>\n",
       "\t<tr><td>Pontiac   </td><td>Midsize</td><td>18.5</td><td>195</td><td>3450</td><td>USA    </td></tr>\n",
       "\t<tr><td>Pontiac   </td><td>Large  </td><td>24.4</td><td>177</td><td>3495</td><td>USA    </td></tr>\n",
       "\t<tr><td>Saab      </td><td>Compact</td><td>28.7</td><td>184</td><td>2775</td><td>non-USA</td></tr>\n",
       "\t<tr><td>Saturn    </td><td>Small  </td><td>11.1</td><td>176</td><td>2495</td><td>USA    </td></tr>\n",
       "\t<tr><td>Subaru    </td><td>Small  </td><td> 8.4</td><td>146</td><td>2045</td><td>non-USA</td></tr>\n",
       "\t<tr><td>Subaru    </td><td>Small  </td><td>10.9</td><td>175</td><td>2490</td><td>non-USA</td></tr>\n",
       "\t<tr><td>Subaru    </td><td>Compact</td><td>19.5</td><td>179</td><td>3085</td><td>non-USA</td></tr>\n",
       "\t<tr><td>Suzuki    </td><td>Small  </td><td> 8.6</td><td>161</td><td>1965</td><td>non-USA</td></tr>\n",
       "\t<tr><td>Toyota    </td><td>Small  </td><td> 9.8</td><td>162</td><td>2055</td><td>non-USA</td></tr>\n",
       "\t<tr><td>Toyota    </td><td>Sporty </td><td>18.4</td><td>174</td><td>2950</td><td>non-USA</td></tr>\n",
       "\t<tr><td>Toyota    </td><td>Midsize</td><td>18.2</td><td>188</td><td>3030</td><td>non-USA</td></tr>\n",
       "\t<tr><td>Toyota    </td><td>Van    </td><td>22.7</td><td>187</td><td>3785</td><td>non-USA</td></tr>\n",
       "\t<tr><td>Volkswagen</td><td>Small  </td><td> 9.1</td><td>163</td><td>2240</td><td>non-USA</td></tr>\n",
       "\t<tr><td>Volkswagen</td><td>Van    </td><td>19.7</td><td>187</td><td>3960</td><td>non-USA</td></tr>\n",
       "\t<tr><td>Volkswagen</td><td>Compact</td><td>20.0</td><td>180</td><td>2985</td><td>non-USA</td></tr>\n",
       "\t<tr><td>Volkswagen</td><td>Sporty </td><td>23.3</td><td>159</td><td>2810</td><td>non-USA</td></tr>\n",
       "\t<tr><td>Volvo     </td><td>Compact</td><td>22.7</td><td>190</td><td>2985</td><td>non-USA</td></tr>\n",
       "\t<tr><td>Volvo     </td><td>Midsize</td><td>26.7</td><td>184</td><td>3245</td><td>non-USA</td></tr>\n",
       "</tbody>\n",
       "</table>\n"
      ],
      "text/latex": [
       "A data.table: 93 × 6\n",
       "\\begin{tabular}{r|llllll}\n",
       " Manufacturer & Type & Price & Length & Weight & Origin\\\\\n",
       " <fct> & <fct> & <dbl> & <int> & <int> & <fct>\\\\\n",
       "\\hline\n",
       "\t Acura     & Small   & 15.9 & 177 & 2705 & non-USA\\\\\n",
       "\t Acura     & Midsize & 33.9 & 195 & 3560 & non-USA\\\\\n",
       "\t Audi      & Compact & 29.1 & 180 & 3375 & non-USA\\\\\n",
       "\t Audi      & Midsize & 37.7 & 193 & 3405 & non-USA\\\\\n",
       "\t BMW       & Midsize & 30.0 & 186 & 3640 & non-USA\\\\\n",
       "\t Buick     & Midsize & 15.7 & 189 & 2880 & USA    \\\\\n",
       "\t Buick     & Large   & 20.8 & 200 & 3470 & USA    \\\\\n",
       "\t Buick     & Large   & 23.7 & 216 & 4105 & USA    \\\\\n",
       "\t Buick     & Midsize & 26.3 & 198 & 3495 & USA    \\\\\n",
       "\t Cadillac  & Large   & 34.7 & 206 & 3620 & USA    \\\\\n",
       "\t Cadillac  & Midsize & 40.1 & 204 & 3935 & USA    \\\\\n",
       "\t Chevrolet & Compact & 13.4 & 182 & 2490 & USA    \\\\\n",
       "\t Chevrolet & Compact & 11.4 & 184 & 2785 & USA    \\\\\n",
       "\t Chevrolet & Sporty  & 15.1 & 193 & 3240 & USA    \\\\\n",
       "\t Chevrolet & Midsize & 15.9 & 198 & 3195 & USA    \\\\\n",
       "\t Chevrolet & Van     & 16.3 & 178 & 3715 & USA    \\\\\n",
       "\t Chevrolet & Van     & 16.6 & 194 & 4025 & USA    \\\\\n",
       "\t Chevrolet & Large   & 18.8 & 214 & 3910 & USA    \\\\\n",
       "\t Chevrolet & Sporty  & 38.0 & 179 & 3380 & USA    \\\\\n",
       "\t Chrylser  & Large   & 18.4 & 203 & 3515 & USA    \\\\\n",
       "\t Chrysler  & Compact & 15.8 & 183 & 3085 & USA    \\\\\n",
       "\t Chrysler  & Large   & 29.5 & 203 & 3570 & USA    \\\\\n",
       "\t Dodge     & Small   &  9.2 & 174 & 2270 & USA    \\\\\n",
       "\t Dodge     & Small   & 11.3 & 172 & 2670 & USA    \\\\\n",
       "\t Dodge     & Compact & 13.3 & 181 & 2970 & USA    \\\\\n",
       "\t Dodge     & Van     & 19.0 & 175 & 3705 & USA    \\\\\n",
       "\t Dodge     & Midsize & 15.6 & 192 & 3080 & USA    \\\\\n",
       "\t Dodge     & Sporty  & 25.8 & 180 & 3805 & USA    \\\\\n",
       "\t Eagle     & Small   & 12.2 & 174 & 2295 & USA    \\\\\n",
       "\t Eagle     & Large   & 19.3 & 202 & 3490 & USA    \\\\\n",
       "\t ... & ... & ... & ... & ... & ...\\\\\n",
       "\t Nissan     & Small   & 11.8 & 170 & 2545 & non-USA\\\\\n",
       "\t Nissan     & Compact & 15.7 & 181 & 3050 & non-USA\\\\\n",
       "\t Nissan     & Van     & 19.1 & 190 & 4100 & non-USA\\\\\n",
       "\t Nissan     & Midsize & 21.5 & 188 & 3200 & non-USA\\\\\n",
       "\t Oldsmobile & Compact & 13.5 & 188 & 2910 & USA    \\\\\n",
       "\t Oldsmobile & Midsize & 16.3 & 190 & 2890 & USA    \\\\\n",
       "\t Oldsmobile & Van     & 19.5 & 194 & 3715 & USA    \\\\\n",
       "\t Oldsmobile & Large   & 20.7 & 201 & 3470 & USA    \\\\\n",
       "\t Plymouth   & Sporty  & 14.4 & 173 & 2640 & USA    \\\\\n",
       "\t Pontiac    & Small   &  9.0 & 177 & 2350 & USA    \\\\\n",
       "\t Pontiac    & Compact & 11.1 & 181 & 2575 & USA    \\\\\n",
       "\t Pontiac    & Sporty  & 17.7 & 196 & 3240 & USA    \\\\\n",
       "\t Pontiac    & Midsize & 18.5 & 195 & 3450 & USA    \\\\\n",
       "\t Pontiac    & Large   & 24.4 & 177 & 3495 & USA    \\\\\n",
       "\t Saab       & Compact & 28.7 & 184 & 2775 & non-USA\\\\\n",
       "\t Saturn     & Small   & 11.1 & 176 & 2495 & USA    \\\\\n",
       "\t Subaru     & Small   &  8.4 & 146 & 2045 & non-USA\\\\\n",
       "\t Subaru     & Small   & 10.9 & 175 & 2490 & non-USA\\\\\n",
       "\t Subaru     & Compact & 19.5 & 179 & 3085 & non-USA\\\\\n",
       "\t Suzuki     & Small   &  8.6 & 161 & 1965 & non-USA\\\\\n",
       "\t Toyota     & Small   &  9.8 & 162 & 2055 & non-USA\\\\\n",
       "\t Toyota     & Sporty  & 18.4 & 174 & 2950 & non-USA\\\\\n",
       "\t Toyota     & Midsize & 18.2 & 188 & 3030 & non-USA\\\\\n",
       "\t Toyota     & Van     & 22.7 & 187 & 3785 & non-USA\\\\\n",
       "\t Volkswagen & Small   &  9.1 & 163 & 2240 & non-USA\\\\\n",
       "\t Volkswagen & Van     & 19.7 & 187 & 3960 & non-USA\\\\\n",
       "\t Volkswagen & Compact & 20.0 & 180 & 2985 & non-USA\\\\\n",
       "\t Volkswagen & Sporty  & 23.3 & 159 & 2810 & non-USA\\\\\n",
       "\t Volvo      & Compact & 22.7 & 190 & 2985 & non-USA\\\\\n",
       "\t Volvo      & Midsize & 26.7 & 184 & 3245 & non-USA\\\\\n",
       "\\end{tabular}\n"
      ],
      "text/markdown": [
       "\n",
       "A data.table: 93 × 6\n",
       "\n",
       "| Manufacturer &lt;fct&gt; | Type &lt;fct&gt; | Price &lt;dbl&gt; | Length &lt;int&gt; | Weight &lt;int&gt; | Origin &lt;fct&gt; |\n",
       "|---|---|---|---|---|---|\n",
       "| Acura     | Small   | 15.9 | 177 | 2705 | non-USA |\n",
       "| Acura     | Midsize | 33.9 | 195 | 3560 | non-USA |\n",
       "| Audi      | Compact | 29.1 | 180 | 3375 | non-USA |\n",
       "| Audi      | Midsize | 37.7 | 193 | 3405 | non-USA |\n",
       "| BMW       | Midsize | 30.0 | 186 | 3640 | non-USA |\n",
       "| Buick     | Midsize | 15.7 | 189 | 2880 | USA     |\n",
       "| Buick     | Large   | 20.8 | 200 | 3470 | USA     |\n",
       "| Buick     | Large   | 23.7 | 216 | 4105 | USA     |\n",
       "| Buick     | Midsize | 26.3 | 198 | 3495 | USA     |\n",
       "| Cadillac  | Large   | 34.7 | 206 | 3620 | USA     |\n",
       "| Cadillac  | Midsize | 40.1 | 204 | 3935 | USA     |\n",
       "| Chevrolet | Compact | 13.4 | 182 | 2490 | USA     |\n",
       "| Chevrolet | Compact | 11.4 | 184 | 2785 | USA     |\n",
       "| Chevrolet | Sporty  | 15.1 | 193 | 3240 | USA     |\n",
       "| Chevrolet | Midsize | 15.9 | 198 | 3195 | USA     |\n",
       "| Chevrolet | Van     | 16.3 | 178 | 3715 | USA     |\n",
       "| Chevrolet | Van     | 16.6 | 194 | 4025 | USA     |\n",
       "| Chevrolet | Large   | 18.8 | 214 | 3910 | USA     |\n",
       "| Chevrolet | Sporty  | 38.0 | 179 | 3380 | USA     |\n",
       "| Chrylser  | Large   | 18.4 | 203 | 3515 | USA     |\n",
       "| Chrysler  | Compact | 15.8 | 183 | 3085 | USA     |\n",
       "| Chrysler  | Large   | 29.5 | 203 | 3570 | USA     |\n",
       "| Dodge     | Small   |  9.2 | 174 | 2270 | USA     |\n",
       "| Dodge     | Small   | 11.3 | 172 | 2670 | USA     |\n",
       "| Dodge     | Compact | 13.3 | 181 | 2970 | USA     |\n",
       "| Dodge     | Van     | 19.0 | 175 | 3705 | USA     |\n",
       "| Dodge     | Midsize | 15.6 | 192 | 3080 | USA     |\n",
       "| Dodge     | Sporty  | 25.8 | 180 | 3805 | USA     |\n",
       "| Eagle     | Small   | 12.2 | 174 | 2295 | USA     |\n",
       "| Eagle     | Large   | 19.3 | 202 | 3490 | USA     |\n",
       "| ... | ... | ... | ... | ... | ... |\n",
       "| Nissan     | Small   | 11.8 | 170 | 2545 | non-USA |\n",
       "| Nissan     | Compact | 15.7 | 181 | 3050 | non-USA |\n",
       "| Nissan     | Van     | 19.1 | 190 | 4100 | non-USA |\n",
       "| Nissan     | Midsize | 21.5 | 188 | 3200 | non-USA |\n",
       "| Oldsmobile | Compact | 13.5 | 188 | 2910 | USA     |\n",
       "| Oldsmobile | Midsize | 16.3 | 190 | 2890 | USA     |\n",
       "| Oldsmobile | Van     | 19.5 | 194 | 3715 | USA     |\n",
       "| Oldsmobile | Large   | 20.7 | 201 | 3470 | USA     |\n",
       "| Plymouth   | Sporty  | 14.4 | 173 | 2640 | USA     |\n",
       "| Pontiac    | Small   |  9.0 | 177 | 2350 | USA     |\n",
       "| Pontiac    | Compact | 11.1 | 181 | 2575 | USA     |\n",
       "| Pontiac    | Sporty  | 17.7 | 196 | 3240 | USA     |\n",
       "| Pontiac    | Midsize | 18.5 | 195 | 3450 | USA     |\n",
       "| Pontiac    | Large   | 24.4 | 177 | 3495 | USA     |\n",
       "| Saab       | Compact | 28.7 | 184 | 2775 | non-USA |\n",
       "| Saturn     | Small   | 11.1 | 176 | 2495 | USA     |\n",
       "| Subaru     | Small   |  8.4 | 146 | 2045 | non-USA |\n",
       "| Subaru     | Small   | 10.9 | 175 | 2490 | non-USA |\n",
       "| Subaru     | Compact | 19.5 | 179 | 3085 | non-USA |\n",
       "| Suzuki     | Small   |  8.6 | 161 | 1965 | non-USA |\n",
       "| Toyota     | Small   |  9.8 | 162 | 2055 | non-USA |\n",
       "| Toyota     | Sporty  | 18.4 | 174 | 2950 | non-USA |\n",
       "| Toyota     | Midsize | 18.2 | 188 | 3030 | non-USA |\n",
       "| Toyota     | Van     | 22.7 | 187 | 3785 | non-USA |\n",
       "| Volkswagen | Small   |  9.1 | 163 | 2240 | non-USA |\n",
       "| Volkswagen | Van     | 19.7 | 187 | 3960 | non-USA |\n",
       "| Volkswagen | Compact | 20.0 | 180 | 2985 | non-USA |\n",
       "| Volkswagen | Sporty  | 23.3 | 159 | 2810 | non-USA |\n",
       "| Volvo      | Compact | 22.7 | 190 | 2985 | non-USA |\n",
       "| Volvo      | Midsize | 26.7 | 184 | 3245 | non-USA |\n",
       "\n"
      ],
      "text/plain": [
       "    Manufacturer Type    Price Length Weight Origin \n",
       "1   Acura        Small   15.9  177    2705   non-USA\n",
       "2   Acura        Midsize 33.9  195    3560   non-USA\n",
       "3   Audi         Compact 29.1  180    3375   non-USA\n",
       "4   Audi         Midsize 37.7  193    3405   non-USA\n",
       "5   BMW          Midsize 30.0  186    3640   non-USA\n",
       "6   Buick        Midsize 15.7  189    2880   USA    \n",
       "7   Buick        Large   20.8  200    3470   USA    \n",
       "8   Buick        Large   23.7  216    4105   USA    \n",
       "9   Buick        Midsize 26.3  198    3495   USA    \n",
       "10  Cadillac     Large   34.7  206    3620   USA    \n",
       "11  Cadillac     Midsize 40.1  204    3935   USA    \n",
       "12  Chevrolet    Compact 13.4  182    2490   USA    \n",
       "13  Chevrolet    Compact 11.4  184    2785   USA    \n",
       "14  Chevrolet    Sporty  15.1  193    3240   USA    \n",
       "15  Chevrolet    Midsize 15.9  198    3195   USA    \n",
       "16  Chevrolet    Van     16.3  178    3715   USA    \n",
       "17  Chevrolet    Van     16.6  194    4025   USA    \n",
       "18  Chevrolet    Large   18.8  214    3910   USA    \n",
       "19  Chevrolet    Sporty  38.0  179    3380   USA    \n",
       "20  Chrylser     Large   18.4  203    3515   USA    \n",
       "21  Chrysler     Compact 15.8  183    3085   USA    \n",
       "22  Chrysler     Large   29.5  203    3570   USA    \n",
       "23  Dodge        Small    9.2  174    2270   USA    \n",
       "24  Dodge        Small   11.3  172    2670   USA    \n",
       "25  Dodge        Compact 13.3  181    2970   USA    \n",
       "26  Dodge        Van     19.0  175    3705   USA    \n",
       "27  Dodge        Midsize 15.6  192    3080   USA    \n",
       "28  Dodge        Sporty  25.8  180    3805   USA    \n",
       "29  Eagle        Small   12.2  174    2295   USA    \n",
       "30  Eagle        Large   19.3  202    3490   USA    \n",
       "... ...          ...     ...   ...    ...    ...    \n",
       "64  Nissan       Small   11.8  170    2545   non-USA\n",
       "65  Nissan       Compact 15.7  181    3050   non-USA\n",
       "66  Nissan       Van     19.1  190    4100   non-USA\n",
       "67  Nissan       Midsize 21.5  188    3200   non-USA\n",
       "68  Oldsmobile   Compact 13.5  188    2910   USA    \n",
       "69  Oldsmobile   Midsize 16.3  190    2890   USA    \n",
       "70  Oldsmobile   Van     19.5  194    3715   USA    \n",
       "71  Oldsmobile   Large   20.7  201    3470   USA    \n",
       "72  Plymouth     Sporty  14.4  173    2640   USA    \n",
       "73  Pontiac      Small    9.0  177    2350   USA    \n",
       "74  Pontiac      Compact 11.1  181    2575   USA    \n",
       "75  Pontiac      Sporty  17.7  196    3240   USA    \n",
       "76  Pontiac      Midsize 18.5  195    3450   USA    \n",
       "77  Pontiac      Large   24.4  177    3495   USA    \n",
       "78  Saab         Compact 28.7  184    2775   non-USA\n",
       "79  Saturn       Small   11.1  176    2495   USA    \n",
       "80  Subaru       Small    8.4  146    2045   non-USA\n",
       "81  Subaru       Small   10.9  175    2490   non-USA\n",
       "82  Subaru       Compact 19.5  179    3085   non-USA\n",
       "83  Suzuki       Small    8.6  161    1965   non-USA\n",
       "84  Toyota       Small    9.8  162    2055   non-USA\n",
       "85  Toyota       Sporty  18.4  174    2950   non-USA\n",
       "86  Toyota       Midsize 18.2  188    3030   non-USA\n",
       "87  Toyota       Van     22.7  187    3785   non-USA\n",
       "88  Volkswagen   Small    9.1  163    2240   non-USA\n",
       "89  Volkswagen   Van     19.7  187    3960   non-USA\n",
       "90  Volkswagen   Compact 20.0  180    2985   non-USA\n",
       "91  Volkswagen   Sporty  23.3  159    2810   non-USA\n",
       "92  Volvo        Compact 22.7  190    2985   non-USA\n",
       "93  Volvo        Midsize 26.7  184    3245   non-USA"
      ]
     },
     "metadata": {},
     "output_type": "display_data"
    }
   ],
   "source": [
    "data(Cars93, package=\"MASS\")\n",
    "x3 <- data.table(Cars93[,c(\"Manufacturer\",\"Type\",\"Price\",\"Length\",\"Weight\",\"Origin\")])\n",
    "x3"
   ]
  },
  {
   "cell_type": "code",
   "execution_count": 25,
   "metadata": {},
   "outputs": [
    {
     "name": "stdout",
     "output_type": "stream",
     "text": [
      "x3的key為: Origin \n",
      "\n",
      "   NAME NROW NCOL MB                                         COLS    KEY\n",
      "1:   DT    9    5  0                                    x,v,y,a,b       \n",
      "2:    X    3    3  0                                      x,v,foo       \n",
      "3:   x1    3    4  0                           rn,name,age,gender       \n",
      "4:   x2    3    3  0                              name,age,gender       \n",
      "5:   x3   93    6  0 Manufacturer,Type,Price,Length,Weight,Origin Origin\n",
      "Total: 0MB\n"
     ]
    },
    {
     "data": {
      "text/html": [
       "<table>\n",
       "<caption>A data.table: 48 × 6</caption>\n",
       "<thead>\n",
       "\t<tr><th scope=col>Manufacturer</th><th scope=col>Type</th><th scope=col>Price</th><th scope=col>Length</th><th scope=col>Weight</th><th scope=col>Origin</th></tr>\n",
       "\t<tr><th scope=col>&lt;fct&gt;</th><th scope=col>&lt;fct&gt;</th><th scope=col>&lt;dbl&gt;</th><th scope=col>&lt;int&gt;</th><th scope=col>&lt;int&gt;</th><th scope=col>&lt;fct&gt;</th></tr>\n",
       "</thead>\n",
       "<tbody>\n",
       "\t<tr><td>Buick     </td><td>Midsize</td><td>15.7</td><td>189</td><td>2880</td><td>USA</td></tr>\n",
       "\t<tr><td>Buick     </td><td>Large  </td><td>20.8</td><td>200</td><td>3470</td><td>USA</td></tr>\n",
       "\t<tr><td>Buick     </td><td>Large  </td><td>23.7</td><td>216</td><td>4105</td><td>USA</td></tr>\n",
       "\t<tr><td>Buick     </td><td>Midsize</td><td>26.3</td><td>198</td><td>3495</td><td>USA</td></tr>\n",
       "\t<tr><td>Cadillac  </td><td>Large  </td><td>34.7</td><td>206</td><td>3620</td><td>USA</td></tr>\n",
       "\t<tr><td>Cadillac  </td><td>Midsize</td><td>40.1</td><td>204</td><td>3935</td><td>USA</td></tr>\n",
       "\t<tr><td>Chevrolet </td><td>Compact</td><td>13.4</td><td>182</td><td>2490</td><td>USA</td></tr>\n",
       "\t<tr><td>Chevrolet </td><td>Compact</td><td>11.4</td><td>184</td><td>2785</td><td>USA</td></tr>\n",
       "\t<tr><td>Chevrolet </td><td>Sporty </td><td>15.1</td><td>193</td><td>3240</td><td>USA</td></tr>\n",
       "\t<tr><td>Chevrolet </td><td>Midsize</td><td>15.9</td><td>198</td><td>3195</td><td>USA</td></tr>\n",
       "\t<tr><td>Chevrolet </td><td>Van    </td><td>16.3</td><td>178</td><td>3715</td><td>USA</td></tr>\n",
       "\t<tr><td>Chevrolet </td><td>Van    </td><td>16.6</td><td>194</td><td>4025</td><td>USA</td></tr>\n",
       "\t<tr><td>Chevrolet </td><td>Large  </td><td>18.8</td><td>214</td><td>3910</td><td>USA</td></tr>\n",
       "\t<tr><td>Chevrolet </td><td>Sporty </td><td>38.0</td><td>179</td><td>3380</td><td>USA</td></tr>\n",
       "\t<tr><td>Chrylser  </td><td>Large  </td><td>18.4</td><td>203</td><td>3515</td><td>USA</td></tr>\n",
       "\t<tr><td>Chrysler  </td><td>Compact</td><td>15.8</td><td>183</td><td>3085</td><td>USA</td></tr>\n",
       "\t<tr><td>Chrysler  </td><td>Large  </td><td>29.5</td><td>203</td><td>3570</td><td>USA</td></tr>\n",
       "\t<tr><td>Dodge     </td><td>Small  </td><td> 9.2</td><td>174</td><td>2270</td><td>USA</td></tr>\n",
       "\t<tr><td>Dodge     </td><td>Small  </td><td>11.3</td><td>172</td><td>2670</td><td>USA</td></tr>\n",
       "\t<tr><td>Dodge     </td><td>Compact</td><td>13.3</td><td>181</td><td>2970</td><td>USA</td></tr>\n",
       "\t<tr><td>Dodge     </td><td>Van    </td><td>19.0</td><td>175</td><td>3705</td><td>USA</td></tr>\n",
       "\t<tr><td>Dodge     </td><td>Midsize</td><td>15.6</td><td>192</td><td>3080</td><td>USA</td></tr>\n",
       "\t<tr><td>Dodge     </td><td>Sporty </td><td>25.8</td><td>180</td><td>3805</td><td>USA</td></tr>\n",
       "\t<tr><td>Eagle     </td><td>Small  </td><td>12.2</td><td>174</td><td>2295</td><td>USA</td></tr>\n",
       "\t<tr><td>Eagle     </td><td>Large  </td><td>19.3</td><td>202</td><td>3490</td><td>USA</td></tr>\n",
       "\t<tr><td>Ford      </td><td>Small  </td><td> 7.4</td><td>141</td><td>1845</td><td>USA</td></tr>\n",
       "\t<tr><td>Ford      </td><td>Small  </td><td>10.1</td><td>171</td><td>2530</td><td>USA</td></tr>\n",
       "\t<tr><td>Ford      </td><td>Compact</td><td>11.3</td><td>177</td><td>2690</td><td>USA</td></tr>\n",
       "\t<tr><td>Ford      </td><td>Sporty </td><td>15.9</td><td>180</td><td>2850</td><td>USA</td></tr>\n",
       "\t<tr><td>Ford      </td><td>Sporty </td><td>14.0</td><td>179</td><td>2710</td><td>USA</td></tr>\n",
       "\t<tr><td>Ford      </td><td>Van    </td><td>19.9</td><td>176</td><td>3735</td><td>USA</td></tr>\n",
       "\t<tr><td>Ford      </td><td>Midsize</td><td>20.2</td><td>192</td><td>3325</td><td>USA</td></tr>\n",
       "\t<tr><td>Ford      </td><td>Large  </td><td>20.9</td><td>212</td><td>3950</td><td>USA</td></tr>\n",
       "\t<tr><td>Lincoln   </td><td>Midsize</td><td>34.3</td><td>205</td><td>3695</td><td>USA</td></tr>\n",
       "\t<tr><td>Lincoln   </td><td>Large  </td><td>36.1</td><td>219</td><td>4055</td><td>USA</td></tr>\n",
       "\t<tr><td>Mercury   </td><td>Sporty </td><td>14.1</td><td>166</td><td>2450</td><td>USA</td></tr>\n",
       "\t<tr><td>Mercury   </td><td>Midsize</td><td>14.9</td><td>199</td><td>3610</td><td>USA</td></tr>\n",
       "\t<tr><td>Oldsmobile</td><td>Compact</td><td>13.5</td><td>188</td><td>2910</td><td>USA</td></tr>\n",
       "\t<tr><td>Oldsmobile</td><td>Midsize</td><td>16.3</td><td>190</td><td>2890</td><td>USA</td></tr>\n",
       "\t<tr><td>Oldsmobile</td><td>Van    </td><td>19.5</td><td>194</td><td>3715</td><td>USA</td></tr>\n",
       "\t<tr><td>Oldsmobile</td><td>Large  </td><td>20.7</td><td>201</td><td>3470</td><td>USA</td></tr>\n",
       "\t<tr><td>Plymouth  </td><td>Sporty </td><td>14.4</td><td>173</td><td>2640</td><td>USA</td></tr>\n",
       "\t<tr><td>Pontiac   </td><td>Small  </td><td> 9.0</td><td>177</td><td>2350</td><td>USA</td></tr>\n",
       "\t<tr><td>Pontiac   </td><td>Compact</td><td>11.1</td><td>181</td><td>2575</td><td>USA</td></tr>\n",
       "\t<tr><td>Pontiac   </td><td>Sporty </td><td>17.7</td><td>196</td><td>3240</td><td>USA</td></tr>\n",
       "\t<tr><td>Pontiac   </td><td>Midsize</td><td>18.5</td><td>195</td><td>3450</td><td>USA</td></tr>\n",
       "\t<tr><td>Pontiac   </td><td>Large  </td><td>24.4</td><td>177</td><td>3495</td><td>USA</td></tr>\n",
       "\t<tr><td>Saturn    </td><td>Small  </td><td>11.1</td><td>176</td><td>2495</td><td>USA</td></tr>\n",
       "</tbody>\n",
       "</table>\n"
      ],
      "text/latex": [
       "A data.table: 48 × 6\n",
       "\\begin{tabular}{r|llllll}\n",
       " Manufacturer & Type & Price & Length & Weight & Origin\\\\\n",
       " <fct> & <fct> & <dbl> & <int> & <int> & <fct>\\\\\n",
       "\\hline\n",
       "\t Buick      & Midsize & 15.7 & 189 & 2880 & USA\\\\\n",
       "\t Buick      & Large   & 20.8 & 200 & 3470 & USA\\\\\n",
       "\t Buick      & Large   & 23.7 & 216 & 4105 & USA\\\\\n",
       "\t Buick      & Midsize & 26.3 & 198 & 3495 & USA\\\\\n",
       "\t Cadillac   & Large   & 34.7 & 206 & 3620 & USA\\\\\n",
       "\t Cadillac   & Midsize & 40.1 & 204 & 3935 & USA\\\\\n",
       "\t Chevrolet  & Compact & 13.4 & 182 & 2490 & USA\\\\\n",
       "\t Chevrolet  & Compact & 11.4 & 184 & 2785 & USA\\\\\n",
       "\t Chevrolet  & Sporty  & 15.1 & 193 & 3240 & USA\\\\\n",
       "\t Chevrolet  & Midsize & 15.9 & 198 & 3195 & USA\\\\\n",
       "\t Chevrolet  & Van     & 16.3 & 178 & 3715 & USA\\\\\n",
       "\t Chevrolet  & Van     & 16.6 & 194 & 4025 & USA\\\\\n",
       "\t Chevrolet  & Large   & 18.8 & 214 & 3910 & USA\\\\\n",
       "\t Chevrolet  & Sporty  & 38.0 & 179 & 3380 & USA\\\\\n",
       "\t Chrylser   & Large   & 18.4 & 203 & 3515 & USA\\\\\n",
       "\t Chrysler   & Compact & 15.8 & 183 & 3085 & USA\\\\\n",
       "\t Chrysler   & Large   & 29.5 & 203 & 3570 & USA\\\\\n",
       "\t Dodge      & Small   &  9.2 & 174 & 2270 & USA\\\\\n",
       "\t Dodge      & Small   & 11.3 & 172 & 2670 & USA\\\\\n",
       "\t Dodge      & Compact & 13.3 & 181 & 2970 & USA\\\\\n",
       "\t Dodge      & Van     & 19.0 & 175 & 3705 & USA\\\\\n",
       "\t Dodge      & Midsize & 15.6 & 192 & 3080 & USA\\\\\n",
       "\t Dodge      & Sporty  & 25.8 & 180 & 3805 & USA\\\\\n",
       "\t Eagle      & Small   & 12.2 & 174 & 2295 & USA\\\\\n",
       "\t Eagle      & Large   & 19.3 & 202 & 3490 & USA\\\\\n",
       "\t Ford       & Small   &  7.4 & 141 & 1845 & USA\\\\\n",
       "\t Ford       & Small   & 10.1 & 171 & 2530 & USA\\\\\n",
       "\t Ford       & Compact & 11.3 & 177 & 2690 & USA\\\\\n",
       "\t Ford       & Sporty  & 15.9 & 180 & 2850 & USA\\\\\n",
       "\t Ford       & Sporty  & 14.0 & 179 & 2710 & USA\\\\\n",
       "\t Ford       & Van     & 19.9 & 176 & 3735 & USA\\\\\n",
       "\t Ford       & Midsize & 20.2 & 192 & 3325 & USA\\\\\n",
       "\t Ford       & Large   & 20.9 & 212 & 3950 & USA\\\\\n",
       "\t Lincoln    & Midsize & 34.3 & 205 & 3695 & USA\\\\\n",
       "\t Lincoln    & Large   & 36.1 & 219 & 4055 & USA\\\\\n",
       "\t Mercury    & Sporty  & 14.1 & 166 & 2450 & USA\\\\\n",
       "\t Mercury    & Midsize & 14.9 & 199 & 3610 & USA\\\\\n",
       "\t Oldsmobile & Compact & 13.5 & 188 & 2910 & USA\\\\\n",
       "\t Oldsmobile & Midsize & 16.3 & 190 & 2890 & USA\\\\\n",
       "\t Oldsmobile & Van     & 19.5 & 194 & 3715 & USA\\\\\n",
       "\t Oldsmobile & Large   & 20.7 & 201 & 3470 & USA\\\\\n",
       "\t Plymouth   & Sporty  & 14.4 & 173 & 2640 & USA\\\\\n",
       "\t Pontiac    & Small   &  9.0 & 177 & 2350 & USA\\\\\n",
       "\t Pontiac    & Compact & 11.1 & 181 & 2575 & USA\\\\\n",
       "\t Pontiac    & Sporty  & 17.7 & 196 & 3240 & USA\\\\\n",
       "\t Pontiac    & Midsize & 18.5 & 195 & 3450 & USA\\\\\n",
       "\t Pontiac    & Large   & 24.4 & 177 & 3495 & USA\\\\\n",
       "\t Saturn     & Small   & 11.1 & 176 & 2495 & USA\\\\\n",
       "\\end{tabular}\n"
      ],
      "text/markdown": [
       "\n",
       "A data.table: 48 × 6\n",
       "\n",
       "| Manufacturer &lt;fct&gt; | Type &lt;fct&gt; | Price &lt;dbl&gt; | Length &lt;int&gt; | Weight &lt;int&gt; | Origin &lt;fct&gt; |\n",
       "|---|---|---|---|---|---|\n",
       "| Buick      | Midsize | 15.7 | 189 | 2880 | USA |\n",
       "| Buick      | Large   | 20.8 | 200 | 3470 | USA |\n",
       "| Buick      | Large   | 23.7 | 216 | 4105 | USA |\n",
       "| Buick      | Midsize | 26.3 | 198 | 3495 | USA |\n",
       "| Cadillac   | Large   | 34.7 | 206 | 3620 | USA |\n",
       "| Cadillac   | Midsize | 40.1 | 204 | 3935 | USA |\n",
       "| Chevrolet  | Compact | 13.4 | 182 | 2490 | USA |\n",
       "| Chevrolet  | Compact | 11.4 | 184 | 2785 | USA |\n",
       "| Chevrolet  | Sporty  | 15.1 | 193 | 3240 | USA |\n",
       "| Chevrolet  | Midsize | 15.9 | 198 | 3195 | USA |\n",
       "| Chevrolet  | Van     | 16.3 | 178 | 3715 | USA |\n",
       "| Chevrolet  | Van     | 16.6 | 194 | 4025 | USA |\n",
       "| Chevrolet  | Large   | 18.8 | 214 | 3910 | USA |\n",
       "| Chevrolet  | Sporty  | 38.0 | 179 | 3380 | USA |\n",
       "| Chrylser   | Large   | 18.4 | 203 | 3515 | USA |\n",
       "| Chrysler   | Compact | 15.8 | 183 | 3085 | USA |\n",
       "| Chrysler   | Large   | 29.5 | 203 | 3570 | USA |\n",
       "| Dodge      | Small   |  9.2 | 174 | 2270 | USA |\n",
       "| Dodge      | Small   | 11.3 | 172 | 2670 | USA |\n",
       "| Dodge      | Compact | 13.3 | 181 | 2970 | USA |\n",
       "| Dodge      | Van     | 19.0 | 175 | 3705 | USA |\n",
       "| Dodge      | Midsize | 15.6 | 192 | 3080 | USA |\n",
       "| Dodge      | Sporty  | 25.8 | 180 | 3805 | USA |\n",
       "| Eagle      | Small   | 12.2 | 174 | 2295 | USA |\n",
       "| Eagle      | Large   | 19.3 | 202 | 3490 | USA |\n",
       "| Ford       | Small   |  7.4 | 141 | 1845 | USA |\n",
       "| Ford       | Small   | 10.1 | 171 | 2530 | USA |\n",
       "| Ford       | Compact | 11.3 | 177 | 2690 | USA |\n",
       "| Ford       | Sporty  | 15.9 | 180 | 2850 | USA |\n",
       "| Ford       | Sporty  | 14.0 | 179 | 2710 | USA |\n",
       "| Ford       | Van     | 19.9 | 176 | 3735 | USA |\n",
       "| Ford       | Midsize | 20.2 | 192 | 3325 | USA |\n",
       "| Ford       | Large   | 20.9 | 212 | 3950 | USA |\n",
       "| Lincoln    | Midsize | 34.3 | 205 | 3695 | USA |\n",
       "| Lincoln    | Large   | 36.1 | 219 | 4055 | USA |\n",
       "| Mercury    | Sporty  | 14.1 | 166 | 2450 | USA |\n",
       "| Mercury    | Midsize | 14.9 | 199 | 3610 | USA |\n",
       "| Oldsmobile | Compact | 13.5 | 188 | 2910 | USA |\n",
       "| Oldsmobile | Midsize | 16.3 | 190 | 2890 | USA |\n",
       "| Oldsmobile | Van     | 19.5 | 194 | 3715 | USA |\n",
       "| Oldsmobile | Large   | 20.7 | 201 | 3470 | USA |\n",
       "| Plymouth   | Sporty  | 14.4 | 173 | 2640 | USA |\n",
       "| Pontiac    | Small   |  9.0 | 177 | 2350 | USA |\n",
       "| Pontiac    | Compact | 11.1 | 181 | 2575 | USA |\n",
       "| Pontiac    | Sporty  | 17.7 | 196 | 3240 | USA |\n",
       "| Pontiac    | Midsize | 18.5 | 195 | 3450 | USA |\n",
       "| Pontiac    | Large   | 24.4 | 177 | 3495 | USA |\n",
       "| Saturn     | Small   | 11.1 | 176 | 2495 | USA |\n",
       "\n"
      ],
      "text/plain": [
       "   Manufacturer Type    Price Length Weight Origin\n",
       "1  Buick        Midsize 15.7  189    2880   USA   \n",
       "2  Buick        Large   20.8  200    3470   USA   \n",
       "3  Buick        Large   23.7  216    4105   USA   \n",
       "4  Buick        Midsize 26.3  198    3495   USA   \n",
       "5  Cadillac     Large   34.7  206    3620   USA   \n",
       "6  Cadillac     Midsize 40.1  204    3935   USA   \n",
       "7  Chevrolet    Compact 13.4  182    2490   USA   \n",
       "8  Chevrolet    Compact 11.4  184    2785   USA   \n",
       "9  Chevrolet    Sporty  15.1  193    3240   USA   \n",
       "10 Chevrolet    Midsize 15.9  198    3195   USA   \n",
       "11 Chevrolet    Van     16.3  178    3715   USA   \n",
       "12 Chevrolet    Van     16.6  194    4025   USA   \n",
       "13 Chevrolet    Large   18.8  214    3910   USA   \n",
       "14 Chevrolet    Sporty  38.0  179    3380   USA   \n",
       "15 Chrylser     Large   18.4  203    3515   USA   \n",
       "16 Chrysler     Compact 15.8  183    3085   USA   \n",
       "17 Chrysler     Large   29.5  203    3570   USA   \n",
       "18 Dodge        Small    9.2  174    2270   USA   \n",
       "19 Dodge        Small   11.3  172    2670   USA   \n",
       "20 Dodge        Compact 13.3  181    2970   USA   \n",
       "21 Dodge        Van     19.0  175    3705   USA   \n",
       "22 Dodge        Midsize 15.6  192    3080   USA   \n",
       "23 Dodge        Sporty  25.8  180    3805   USA   \n",
       "24 Eagle        Small   12.2  174    2295   USA   \n",
       "25 Eagle        Large   19.3  202    3490   USA   \n",
       "26 Ford         Small    7.4  141    1845   USA   \n",
       "27 Ford         Small   10.1  171    2530   USA   \n",
       "28 Ford         Compact 11.3  177    2690   USA   \n",
       "29 Ford         Sporty  15.9  180    2850   USA   \n",
       "30 Ford         Sporty  14.0  179    2710   USA   \n",
       "31 Ford         Van     19.9  176    3735   USA   \n",
       "32 Ford         Midsize 20.2  192    3325   USA   \n",
       "33 Ford         Large   20.9  212    3950   USA   \n",
       "34 Lincoln      Midsize 34.3  205    3695   USA   \n",
       "35 Lincoln      Large   36.1  219    4055   USA   \n",
       "36 Mercury      Sporty  14.1  166    2450   USA   \n",
       "37 Mercury      Midsize 14.9  199    3610   USA   \n",
       "38 Oldsmobile   Compact 13.5  188    2910   USA   \n",
       "39 Oldsmobile   Midsize 16.3  190    2890   USA   \n",
       "40 Oldsmobile   Van     19.5  194    3715   USA   \n",
       "41 Oldsmobile   Large   20.7  201    3470   USA   \n",
       "42 Plymouth     Sporty  14.4  173    2640   USA   \n",
       "43 Pontiac      Small    9.0  177    2350   USA   \n",
       "44 Pontiac      Compact 11.1  181    2575   USA   \n",
       "45 Pontiac      Sporty  17.7  196    3240   USA   \n",
       "46 Pontiac      Midsize 18.5  195    3450   USA   \n",
       "47 Pontiac      Large   24.4  177    3495   USA   \n",
       "48 Saturn       Small   11.1  176    2495   USA   "
      ]
     },
     "metadata": {},
     "output_type": "display_data"
    }
   ],
   "source": [
    "# key 快速搜尋及篩選\n",
    "setkey(x3, Origin)                    \n",
    "cat(\"x3的key為:\", key(x3), \"\\n\\n\")     \n",
    "tables()                              # 概述環境下的data.table\n",
    "x3[\"USA\"]\n"
   ]
  },
  {
   "cell_type": "code",
   "execution_count": 49,
   "metadata": {},
   "outputs": [
    {
     "data": {
      "text/html": [
       "<ol class=list-inline>\n",
       "\t<li>'Origin'</li>\n",
       "\t<li>'Type'</li>\n",
       "</ol>\n"
      ],
      "text/latex": [
       "\\begin{enumerate*}\n",
       "\\item 'Origin'\n",
       "\\item 'Type'\n",
       "\\end{enumerate*}\n"
      ],
      "text/markdown": [
       "1. 'Origin'\n",
       "2. 'Type'\n",
       "\n",
       "\n"
      ],
      "text/plain": [
       "[1] \"Origin\" \"Type\"  "
      ]
     },
     "metadata": {},
     "output_type": "display_data"
    },
    {
     "data": {
      "text/html": [
       "<table>\n",
       "<caption>A data.table: 21 × 6</caption>\n",
       "<thead>\n",
       "\t<tr><th scope=col>Manufacturer</th><th scope=col>Type</th><th scope=col>Price</th><th scope=col>Length</th><th scope=col>Weight</th><th scope=col>Origin</th></tr>\n",
       "\t<tr><th scope=col>&lt;fct&gt;</th><th scope=col>&lt;fct&gt;</th><th scope=col>&lt;dbl&gt;</th><th scope=col>&lt;int&gt;</th><th scope=col>&lt;int&gt;</th><th scope=col>&lt;fct&gt;</th></tr>\n",
       "</thead>\n",
       "<tbody>\n",
       "\t<tr><td>Buick     </td><td>Large  </td><td>20.8</td><td>200</td><td>3470</td><td>USA</td></tr>\n",
       "\t<tr><td>Buick     </td><td>Large  </td><td>23.7</td><td>216</td><td>4105</td><td>USA</td></tr>\n",
       "\t<tr><td>Cadillac  </td><td>Large  </td><td>34.7</td><td>206</td><td>3620</td><td>USA</td></tr>\n",
       "\t<tr><td>Chevrolet </td><td>Large  </td><td>18.8</td><td>214</td><td>3910</td><td>USA</td></tr>\n",
       "\t<tr><td>Chrylser  </td><td>Large  </td><td>18.4</td><td>203</td><td>3515</td><td>USA</td></tr>\n",
       "\t<tr><td>Chrysler  </td><td>Large  </td><td>29.5</td><td>203</td><td>3570</td><td>USA</td></tr>\n",
       "\t<tr><td>Eagle     </td><td>Large  </td><td>19.3</td><td>202</td><td>3490</td><td>USA</td></tr>\n",
       "\t<tr><td>Ford      </td><td>Large  </td><td>20.9</td><td>212</td><td>3950</td><td>USA</td></tr>\n",
       "\t<tr><td>Lincoln   </td><td>Large  </td><td>36.1</td><td>219</td><td>4055</td><td>USA</td></tr>\n",
       "\t<tr><td>Oldsmobile</td><td>Large  </td><td>20.7</td><td>201</td><td>3470</td><td>USA</td></tr>\n",
       "\t<tr><td>Pontiac   </td><td>Large  </td><td>24.4</td><td>177</td><td>3495</td><td>USA</td></tr>\n",
       "\t<tr><td>Buick     </td><td>Midsize</td><td>15.7</td><td>189</td><td>2880</td><td>USA</td></tr>\n",
       "\t<tr><td>Buick     </td><td>Midsize</td><td>26.3</td><td>198</td><td>3495</td><td>USA</td></tr>\n",
       "\t<tr><td>Cadillac  </td><td>Midsize</td><td>40.1</td><td>204</td><td>3935</td><td>USA</td></tr>\n",
       "\t<tr><td>Chevrolet </td><td>Midsize</td><td>15.9</td><td>198</td><td>3195</td><td>USA</td></tr>\n",
       "\t<tr><td>Dodge     </td><td>Midsize</td><td>15.6</td><td>192</td><td>3080</td><td>USA</td></tr>\n",
       "\t<tr><td>Ford      </td><td>Midsize</td><td>20.2</td><td>192</td><td>3325</td><td>USA</td></tr>\n",
       "\t<tr><td>Lincoln   </td><td>Midsize</td><td>34.3</td><td>205</td><td>3695</td><td>USA</td></tr>\n",
       "\t<tr><td>Mercury   </td><td>Midsize</td><td>14.9</td><td>199</td><td>3610</td><td>USA</td></tr>\n",
       "\t<tr><td>Oldsmobile</td><td>Midsize</td><td>16.3</td><td>190</td><td>2890</td><td>USA</td></tr>\n",
       "\t<tr><td>Pontiac   </td><td>Midsize</td><td>18.5</td><td>195</td><td>3450</td><td>USA</td></tr>\n",
       "</tbody>\n",
       "</table>\n"
      ],
      "text/latex": [
       "A data.table: 21 × 6\n",
       "\\begin{tabular}{r|llllll}\n",
       " Manufacturer & Type & Price & Length & Weight & Origin\\\\\n",
       " <fct> & <fct> & <dbl> & <int> & <int> & <fct>\\\\\n",
       "\\hline\n",
       "\t Buick      & Large   & 20.8 & 200 & 3470 & USA\\\\\n",
       "\t Buick      & Large   & 23.7 & 216 & 4105 & USA\\\\\n",
       "\t Cadillac   & Large   & 34.7 & 206 & 3620 & USA\\\\\n",
       "\t Chevrolet  & Large   & 18.8 & 214 & 3910 & USA\\\\\n",
       "\t Chrylser   & Large   & 18.4 & 203 & 3515 & USA\\\\\n",
       "\t Chrysler   & Large   & 29.5 & 203 & 3570 & USA\\\\\n",
       "\t Eagle      & Large   & 19.3 & 202 & 3490 & USA\\\\\n",
       "\t Ford       & Large   & 20.9 & 212 & 3950 & USA\\\\\n",
       "\t Lincoln    & Large   & 36.1 & 219 & 4055 & USA\\\\\n",
       "\t Oldsmobile & Large   & 20.7 & 201 & 3470 & USA\\\\\n",
       "\t Pontiac    & Large   & 24.4 & 177 & 3495 & USA\\\\\n",
       "\t Buick      & Midsize & 15.7 & 189 & 2880 & USA\\\\\n",
       "\t Buick      & Midsize & 26.3 & 198 & 3495 & USA\\\\\n",
       "\t Cadillac   & Midsize & 40.1 & 204 & 3935 & USA\\\\\n",
       "\t Chevrolet  & Midsize & 15.9 & 198 & 3195 & USA\\\\\n",
       "\t Dodge      & Midsize & 15.6 & 192 & 3080 & USA\\\\\n",
       "\t Ford       & Midsize & 20.2 & 192 & 3325 & USA\\\\\n",
       "\t Lincoln    & Midsize & 34.3 & 205 & 3695 & USA\\\\\n",
       "\t Mercury    & Midsize & 14.9 & 199 & 3610 & USA\\\\\n",
       "\t Oldsmobile & Midsize & 16.3 & 190 & 2890 & USA\\\\\n",
       "\t Pontiac    & Midsize & 18.5 & 195 & 3450 & USA\\\\\n",
       "\\end{tabular}\n"
      ],
      "text/markdown": [
       "\n",
       "A data.table: 21 × 6\n",
       "\n",
       "| Manufacturer &lt;fct&gt; | Type &lt;fct&gt; | Price &lt;dbl&gt; | Length &lt;int&gt; | Weight &lt;int&gt; | Origin &lt;fct&gt; |\n",
       "|---|---|---|---|---|---|\n",
       "| Buick      | Large   | 20.8 | 200 | 3470 | USA |\n",
       "| Buick      | Large   | 23.7 | 216 | 4105 | USA |\n",
       "| Cadillac   | Large   | 34.7 | 206 | 3620 | USA |\n",
       "| Chevrolet  | Large   | 18.8 | 214 | 3910 | USA |\n",
       "| Chrylser   | Large   | 18.4 | 203 | 3515 | USA |\n",
       "| Chrysler   | Large   | 29.5 | 203 | 3570 | USA |\n",
       "| Eagle      | Large   | 19.3 | 202 | 3490 | USA |\n",
       "| Ford       | Large   | 20.9 | 212 | 3950 | USA |\n",
       "| Lincoln    | Large   | 36.1 | 219 | 4055 | USA |\n",
       "| Oldsmobile | Large   | 20.7 | 201 | 3470 | USA |\n",
       "| Pontiac    | Large   | 24.4 | 177 | 3495 | USA |\n",
       "| Buick      | Midsize | 15.7 | 189 | 2880 | USA |\n",
       "| Buick      | Midsize | 26.3 | 198 | 3495 | USA |\n",
       "| Cadillac   | Midsize | 40.1 | 204 | 3935 | USA |\n",
       "| Chevrolet  | Midsize | 15.9 | 198 | 3195 | USA |\n",
       "| Dodge      | Midsize | 15.6 | 192 | 3080 | USA |\n",
       "| Ford       | Midsize | 20.2 | 192 | 3325 | USA |\n",
       "| Lincoln    | Midsize | 34.3 | 205 | 3695 | USA |\n",
       "| Mercury    | Midsize | 14.9 | 199 | 3610 | USA |\n",
       "| Oldsmobile | Midsize | 16.3 | 190 | 2890 | USA |\n",
       "| Pontiac    | Midsize | 18.5 | 195 | 3450 | USA |\n",
       "\n"
      ],
      "text/plain": [
       "   Manufacturer Type    Price Length Weight Origin\n",
       "1  Buick        Large   20.8  200    3470   USA   \n",
       "2  Buick        Large   23.7  216    4105   USA   \n",
       "3  Cadillac     Large   34.7  206    3620   USA   \n",
       "4  Chevrolet    Large   18.8  214    3910   USA   \n",
       "5  Chrylser     Large   18.4  203    3515   USA   \n",
       "6  Chrysler     Large   29.5  203    3570   USA   \n",
       "7  Eagle        Large   19.3  202    3490   USA   \n",
       "8  Ford         Large   20.9  212    3950   USA   \n",
       "9  Lincoln      Large   36.1  219    4055   USA   \n",
       "10 Oldsmobile   Large   20.7  201    3470   USA   \n",
       "11 Pontiac      Large   24.4  177    3495   USA   \n",
       "12 Buick        Midsize 15.7  189    2880   USA   \n",
       "13 Buick        Midsize 26.3  198    3495   USA   \n",
       "14 Cadillac     Midsize 40.1  204    3935   USA   \n",
       "15 Chevrolet    Midsize 15.9  198    3195   USA   \n",
       "16 Dodge        Midsize 15.6  192    3080   USA   \n",
       "17 Ford         Midsize 20.2  192    3325   USA   \n",
       "18 Lincoln      Midsize 34.3  205    3695   USA   \n",
       "19 Mercury      Midsize 14.9  199    3610   USA   \n",
       "20 Oldsmobile   Midsize 16.3  190    2890   USA   \n",
       "21 Pontiac      Midsize 18.5  195    3450   USA   "
      ]
     },
     "metadata": {},
     "output_type": "display_data"
    },
    {
     "data": {
      "text/html": [
       "<table>\n",
       "<caption>A data.table: 1 × 6</caption>\n",
       "<thead>\n",
       "\t<tr><th scope=col>Manufacturer</th><th scope=col>Type</th><th scope=col>Price</th><th scope=col>Length</th><th scope=col>Weight</th><th scope=col>Origin</th></tr>\n",
       "\t<tr><th scope=col>&lt;fct&gt;</th><th scope=col>&lt;fct&gt;</th><th scope=col>&lt;dbl&gt;</th><th scope=col>&lt;int&gt;</th><th scope=col>&lt;int&gt;</th><th scope=col>&lt;fct&gt;</th></tr>\n",
       "</thead>\n",
       "<tbody>\n",
       "\t<tr><td>NA</td><td>USA</td><td>NA</td><td>NA</td><td>NA</td><td>Large</td></tr>\n",
       "</tbody>\n",
       "</table>\n"
      ],
      "text/latex": [
       "A data.table: 1 × 6\n",
       "\\begin{tabular}{r|llllll}\n",
       " Manufacturer & Type & Price & Length & Weight & Origin\\\\\n",
       " <fct> & <fct> & <dbl> & <int> & <int> & <fct>\\\\\n",
       "\\hline\n",
       "\t NA & USA & NA & NA & NA & Large\\\\\n",
       "\\end{tabular}\n"
      ],
      "text/markdown": [
       "\n",
       "A data.table: 1 × 6\n",
       "\n",
       "| Manufacturer &lt;fct&gt; | Type &lt;fct&gt; | Price &lt;dbl&gt; | Length &lt;int&gt; | Weight &lt;int&gt; | Origin &lt;fct&gt; |\n",
       "|---|---|---|---|---|---|\n",
       "| NA | USA | NA | NA | NA | Large |\n",
       "\n"
      ],
      "text/plain": [
       "  Manufacturer Type Price Length Weight Origin\n",
       "1 NA           USA  NA    NA     NA     Large "
      ]
     },
     "metadata": {},
     "output_type": "display_data"
    },
    {
     "data": {
      "text/html": [
       "<table>\n",
       "<caption>A data.table: 48 × 6</caption>\n",
       "<thead>\n",
       "\t<tr><th scope=col>Manufacturer</th><th scope=col>Type</th><th scope=col>Price</th><th scope=col>Length</th><th scope=col>Weight</th><th scope=col>Origin</th></tr>\n",
       "\t<tr><th scope=col>&lt;fct&gt;</th><th scope=col>&lt;fct&gt;</th><th scope=col>&lt;dbl&gt;</th><th scope=col>&lt;int&gt;</th><th scope=col>&lt;int&gt;</th><th scope=col>&lt;fct&gt;</th></tr>\n",
       "</thead>\n",
       "<tbody>\n",
       "\t<tr><td>Chevrolet </td><td>Compact</td><td>13.4</td><td>182</td><td>2490</td><td>USA</td></tr>\n",
       "\t<tr><td>Chevrolet </td><td>Compact</td><td>11.4</td><td>184</td><td>2785</td><td>USA</td></tr>\n",
       "\t<tr><td>Chrysler  </td><td>Compact</td><td>15.8</td><td>183</td><td>3085</td><td>USA</td></tr>\n",
       "\t<tr><td>Dodge     </td><td>Compact</td><td>13.3</td><td>181</td><td>2970</td><td>USA</td></tr>\n",
       "\t<tr><td>Ford      </td><td>Compact</td><td>11.3</td><td>177</td><td>2690</td><td>USA</td></tr>\n",
       "\t<tr><td>Oldsmobile</td><td>Compact</td><td>13.5</td><td>188</td><td>2910</td><td>USA</td></tr>\n",
       "\t<tr><td>Pontiac   </td><td>Compact</td><td>11.1</td><td>181</td><td>2575</td><td>USA</td></tr>\n",
       "\t<tr><td>Buick     </td><td>Large  </td><td>20.8</td><td>200</td><td>3470</td><td>USA</td></tr>\n",
       "\t<tr><td>Buick     </td><td>Large  </td><td>23.7</td><td>216</td><td>4105</td><td>USA</td></tr>\n",
       "\t<tr><td>Cadillac  </td><td>Large  </td><td>34.7</td><td>206</td><td>3620</td><td>USA</td></tr>\n",
       "\t<tr><td>Chevrolet </td><td>Large  </td><td>18.8</td><td>214</td><td>3910</td><td>USA</td></tr>\n",
       "\t<tr><td>Chrylser  </td><td>Large  </td><td>18.4</td><td>203</td><td>3515</td><td>USA</td></tr>\n",
       "\t<tr><td>Chrysler  </td><td>Large  </td><td>29.5</td><td>203</td><td>3570</td><td>USA</td></tr>\n",
       "\t<tr><td>Eagle     </td><td>Large  </td><td>19.3</td><td>202</td><td>3490</td><td>USA</td></tr>\n",
       "\t<tr><td>Ford      </td><td>Large  </td><td>20.9</td><td>212</td><td>3950</td><td>USA</td></tr>\n",
       "\t<tr><td>Lincoln   </td><td>Large  </td><td>36.1</td><td>219</td><td>4055</td><td>USA</td></tr>\n",
       "\t<tr><td>Oldsmobile</td><td>Large  </td><td>20.7</td><td>201</td><td>3470</td><td>USA</td></tr>\n",
       "\t<tr><td>Pontiac   </td><td>Large  </td><td>24.4</td><td>177</td><td>3495</td><td>USA</td></tr>\n",
       "\t<tr><td>Buick     </td><td>Midsize</td><td>15.7</td><td>189</td><td>2880</td><td>USA</td></tr>\n",
       "\t<tr><td>Buick     </td><td>Midsize</td><td>26.3</td><td>198</td><td>3495</td><td>USA</td></tr>\n",
       "\t<tr><td>Cadillac  </td><td>Midsize</td><td>40.1</td><td>204</td><td>3935</td><td>USA</td></tr>\n",
       "\t<tr><td>Chevrolet </td><td>Midsize</td><td>15.9</td><td>198</td><td>3195</td><td>USA</td></tr>\n",
       "\t<tr><td>Dodge     </td><td>Midsize</td><td>15.6</td><td>192</td><td>3080</td><td>USA</td></tr>\n",
       "\t<tr><td>Ford      </td><td>Midsize</td><td>20.2</td><td>192</td><td>3325</td><td>USA</td></tr>\n",
       "\t<tr><td>Lincoln   </td><td>Midsize</td><td>34.3</td><td>205</td><td>3695</td><td>USA</td></tr>\n",
       "\t<tr><td>Mercury   </td><td>Midsize</td><td>14.9</td><td>199</td><td>3610</td><td>USA</td></tr>\n",
       "\t<tr><td>Oldsmobile</td><td>Midsize</td><td>16.3</td><td>190</td><td>2890</td><td>USA</td></tr>\n",
       "\t<tr><td>Pontiac   </td><td>Midsize</td><td>18.5</td><td>195</td><td>3450</td><td>USA</td></tr>\n",
       "\t<tr><td>Dodge     </td><td>Small  </td><td> 9.2</td><td>174</td><td>2270</td><td>USA</td></tr>\n",
       "\t<tr><td>Dodge     </td><td>Small  </td><td>11.3</td><td>172</td><td>2670</td><td>USA</td></tr>\n",
       "\t<tr><td>Eagle     </td><td>Small  </td><td>12.2</td><td>174</td><td>2295</td><td>USA</td></tr>\n",
       "\t<tr><td>Ford      </td><td>Small  </td><td> 7.4</td><td>141</td><td>1845</td><td>USA</td></tr>\n",
       "\t<tr><td>Ford      </td><td>Small  </td><td>10.1</td><td>171</td><td>2530</td><td>USA</td></tr>\n",
       "\t<tr><td>Pontiac   </td><td>Small  </td><td> 9.0</td><td>177</td><td>2350</td><td>USA</td></tr>\n",
       "\t<tr><td>Saturn    </td><td>Small  </td><td>11.1</td><td>176</td><td>2495</td><td>USA</td></tr>\n",
       "\t<tr><td>Chevrolet </td><td>Sporty </td><td>15.1</td><td>193</td><td>3240</td><td>USA</td></tr>\n",
       "\t<tr><td>Chevrolet </td><td>Sporty </td><td>38.0</td><td>179</td><td>3380</td><td>USA</td></tr>\n",
       "\t<tr><td>Dodge     </td><td>Sporty </td><td>25.8</td><td>180</td><td>3805</td><td>USA</td></tr>\n",
       "\t<tr><td>Ford      </td><td>Sporty </td><td>15.9</td><td>180</td><td>2850</td><td>USA</td></tr>\n",
       "\t<tr><td>Ford      </td><td>Sporty </td><td>14.0</td><td>179</td><td>2710</td><td>USA</td></tr>\n",
       "\t<tr><td>Mercury   </td><td>Sporty </td><td>14.1</td><td>166</td><td>2450</td><td>USA</td></tr>\n",
       "\t<tr><td>Plymouth  </td><td>Sporty </td><td>14.4</td><td>173</td><td>2640</td><td>USA</td></tr>\n",
       "\t<tr><td>Pontiac   </td><td>Sporty </td><td>17.7</td><td>196</td><td>3240</td><td>USA</td></tr>\n",
       "\t<tr><td>Chevrolet </td><td>Van    </td><td>16.3</td><td>178</td><td>3715</td><td>USA</td></tr>\n",
       "\t<tr><td>Chevrolet </td><td>Van    </td><td>16.6</td><td>194</td><td>4025</td><td>USA</td></tr>\n",
       "\t<tr><td>Dodge     </td><td>Van    </td><td>19.0</td><td>175</td><td>3705</td><td>USA</td></tr>\n",
       "\t<tr><td>Ford      </td><td>Van    </td><td>19.9</td><td>176</td><td>3735</td><td>USA</td></tr>\n",
       "\t<tr><td>Oldsmobile</td><td>Van    </td><td>19.5</td><td>194</td><td>3715</td><td>USA</td></tr>\n",
       "</tbody>\n",
       "</table>\n"
      ],
      "text/latex": [
       "A data.table: 48 × 6\n",
       "\\begin{tabular}{r|llllll}\n",
       " Manufacturer & Type & Price & Length & Weight & Origin\\\\\n",
       " <fct> & <fct> & <dbl> & <int> & <int> & <fct>\\\\\n",
       "\\hline\n",
       "\t Chevrolet  & Compact & 13.4 & 182 & 2490 & USA\\\\\n",
       "\t Chevrolet  & Compact & 11.4 & 184 & 2785 & USA\\\\\n",
       "\t Chrysler   & Compact & 15.8 & 183 & 3085 & USA\\\\\n",
       "\t Dodge      & Compact & 13.3 & 181 & 2970 & USA\\\\\n",
       "\t Ford       & Compact & 11.3 & 177 & 2690 & USA\\\\\n",
       "\t Oldsmobile & Compact & 13.5 & 188 & 2910 & USA\\\\\n",
       "\t Pontiac    & Compact & 11.1 & 181 & 2575 & USA\\\\\n",
       "\t Buick      & Large   & 20.8 & 200 & 3470 & USA\\\\\n",
       "\t Buick      & Large   & 23.7 & 216 & 4105 & USA\\\\\n",
       "\t Cadillac   & Large   & 34.7 & 206 & 3620 & USA\\\\\n",
       "\t Chevrolet  & Large   & 18.8 & 214 & 3910 & USA\\\\\n",
       "\t Chrylser   & Large   & 18.4 & 203 & 3515 & USA\\\\\n",
       "\t Chrysler   & Large   & 29.5 & 203 & 3570 & USA\\\\\n",
       "\t Eagle      & Large   & 19.3 & 202 & 3490 & USA\\\\\n",
       "\t Ford       & Large   & 20.9 & 212 & 3950 & USA\\\\\n",
       "\t Lincoln    & Large   & 36.1 & 219 & 4055 & USA\\\\\n",
       "\t Oldsmobile & Large   & 20.7 & 201 & 3470 & USA\\\\\n",
       "\t Pontiac    & Large   & 24.4 & 177 & 3495 & USA\\\\\n",
       "\t Buick      & Midsize & 15.7 & 189 & 2880 & USA\\\\\n",
       "\t Buick      & Midsize & 26.3 & 198 & 3495 & USA\\\\\n",
       "\t Cadillac   & Midsize & 40.1 & 204 & 3935 & USA\\\\\n",
       "\t Chevrolet  & Midsize & 15.9 & 198 & 3195 & USA\\\\\n",
       "\t Dodge      & Midsize & 15.6 & 192 & 3080 & USA\\\\\n",
       "\t Ford       & Midsize & 20.2 & 192 & 3325 & USA\\\\\n",
       "\t Lincoln    & Midsize & 34.3 & 205 & 3695 & USA\\\\\n",
       "\t Mercury    & Midsize & 14.9 & 199 & 3610 & USA\\\\\n",
       "\t Oldsmobile & Midsize & 16.3 & 190 & 2890 & USA\\\\\n",
       "\t Pontiac    & Midsize & 18.5 & 195 & 3450 & USA\\\\\n",
       "\t Dodge      & Small   &  9.2 & 174 & 2270 & USA\\\\\n",
       "\t Dodge      & Small   & 11.3 & 172 & 2670 & USA\\\\\n",
       "\t Eagle      & Small   & 12.2 & 174 & 2295 & USA\\\\\n",
       "\t Ford       & Small   &  7.4 & 141 & 1845 & USA\\\\\n",
       "\t Ford       & Small   & 10.1 & 171 & 2530 & USA\\\\\n",
       "\t Pontiac    & Small   &  9.0 & 177 & 2350 & USA\\\\\n",
       "\t Saturn     & Small   & 11.1 & 176 & 2495 & USA\\\\\n",
       "\t Chevrolet  & Sporty  & 15.1 & 193 & 3240 & USA\\\\\n",
       "\t Chevrolet  & Sporty  & 38.0 & 179 & 3380 & USA\\\\\n",
       "\t Dodge      & Sporty  & 25.8 & 180 & 3805 & USA\\\\\n",
       "\t Ford       & Sporty  & 15.9 & 180 & 2850 & USA\\\\\n",
       "\t Ford       & Sporty  & 14.0 & 179 & 2710 & USA\\\\\n",
       "\t Mercury    & Sporty  & 14.1 & 166 & 2450 & USA\\\\\n",
       "\t Plymouth   & Sporty  & 14.4 & 173 & 2640 & USA\\\\\n",
       "\t Pontiac    & Sporty  & 17.7 & 196 & 3240 & USA\\\\\n",
       "\t Chevrolet  & Van     & 16.3 & 178 & 3715 & USA\\\\\n",
       "\t Chevrolet  & Van     & 16.6 & 194 & 4025 & USA\\\\\n",
       "\t Dodge      & Van     & 19.0 & 175 & 3705 & USA\\\\\n",
       "\t Ford       & Van     & 19.9 & 176 & 3735 & USA\\\\\n",
       "\t Oldsmobile & Van     & 19.5 & 194 & 3715 & USA\\\\\n",
       "\\end{tabular}\n"
      ],
      "text/markdown": [
       "\n",
       "A data.table: 48 × 6\n",
       "\n",
       "| Manufacturer &lt;fct&gt; | Type &lt;fct&gt; | Price &lt;dbl&gt; | Length &lt;int&gt; | Weight &lt;int&gt; | Origin &lt;fct&gt; |\n",
       "|---|---|---|---|---|---|\n",
       "| Chevrolet  | Compact | 13.4 | 182 | 2490 | USA |\n",
       "| Chevrolet  | Compact | 11.4 | 184 | 2785 | USA |\n",
       "| Chrysler   | Compact | 15.8 | 183 | 3085 | USA |\n",
       "| Dodge      | Compact | 13.3 | 181 | 2970 | USA |\n",
       "| Ford       | Compact | 11.3 | 177 | 2690 | USA |\n",
       "| Oldsmobile | Compact | 13.5 | 188 | 2910 | USA |\n",
       "| Pontiac    | Compact | 11.1 | 181 | 2575 | USA |\n",
       "| Buick      | Large   | 20.8 | 200 | 3470 | USA |\n",
       "| Buick      | Large   | 23.7 | 216 | 4105 | USA |\n",
       "| Cadillac   | Large   | 34.7 | 206 | 3620 | USA |\n",
       "| Chevrolet  | Large   | 18.8 | 214 | 3910 | USA |\n",
       "| Chrylser   | Large   | 18.4 | 203 | 3515 | USA |\n",
       "| Chrysler   | Large   | 29.5 | 203 | 3570 | USA |\n",
       "| Eagle      | Large   | 19.3 | 202 | 3490 | USA |\n",
       "| Ford       | Large   | 20.9 | 212 | 3950 | USA |\n",
       "| Lincoln    | Large   | 36.1 | 219 | 4055 | USA |\n",
       "| Oldsmobile | Large   | 20.7 | 201 | 3470 | USA |\n",
       "| Pontiac    | Large   | 24.4 | 177 | 3495 | USA |\n",
       "| Buick      | Midsize | 15.7 | 189 | 2880 | USA |\n",
       "| Buick      | Midsize | 26.3 | 198 | 3495 | USA |\n",
       "| Cadillac   | Midsize | 40.1 | 204 | 3935 | USA |\n",
       "| Chevrolet  | Midsize | 15.9 | 198 | 3195 | USA |\n",
       "| Dodge      | Midsize | 15.6 | 192 | 3080 | USA |\n",
       "| Ford       | Midsize | 20.2 | 192 | 3325 | USA |\n",
       "| Lincoln    | Midsize | 34.3 | 205 | 3695 | USA |\n",
       "| Mercury    | Midsize | 14.9 | 199 | 3610 | USA |\n",
       "| Oldsmobile | Midsize | 16.3 | 190 | 2890 | USA |\n",
       "| Pontiac    | Midsize | 18.5 | 195 | 3450 | USA |\n",
       "| Dodge      | Small   |  9.2 | 174 | 2270 | USA |\n",
       "| Dodge      | Small   | 11.3 | 172 | 2670 | USA |\n",
       "| Eagle      | Small   | 12.2 | 174 | 2295 | USA |\n",
       "| Ford       | Small   |  7.4 | 141 | 1845 | USA |\n",
       "| Ford       | Small   | 10.1 | 171 | 2530 | USA |\n",
       "| Pontiac    | Small   |  9.0 | 177 | 2350 | USA |\n",
       "| Saturn     | Small   | 11.1 | 176 | 2495 | USA |\n",
       "| Chevrolet  | Sporty  | 15.1 | 193 | 3240 | USA |\n",
       "| Chevrolet  | Sporty  | 38.0 | 179 | 3380 | USA |\n",
       "| Dodge      | Sporty  | 25.8 | 180 | 3805 | USA |\n",
       "| Ford       | Sporty  | 15.9 | 180 | 2850 | USA |\n",
       "| Ford       | Sporty  | 14.0 | 179 | 2710 | USA |\n",
       "| Mercury    | Sporty  | 14.1 | 166 | 2450 | USA |\n",
       "| Plymouth   | Sporty  | 14.4 | 173 | 2640 | USA |\n",
       "| Pontiac    | Sporty  | 17.7 | 196 | 3240 | USA |\n",
       "| Chevrolet  | Van     | 16.3 | 178 | 3715 | USA |\n",
       "| Chevrolet  | Van     | 16.6 | 194 | 4025 | USA |\n",
       "| Dodge      | Van     | 19.0 | 175 | 3705 | USA |\n",
       "| Ford       | Van     | 19.9 | 176 | 3735 | USA |\n",
       "| Oldsmobile | Van     | 19.5 | 194 | 3715 | USA |\n",
       "\n"
      ],
      "text/plain": [
       "   Manufacturer Type    Price Length Weight Origin\n",
       "1  Chevrolet    Compact 13.4  182    2490   USA   \n",
       "2  Chevrolet    Compact 11.4  184    2785   USA   \n",
       "3  Chrysler     Compact 15.8  183    3085   USA   \n",
       "4  Dodge        Compact 13.3  181    2970   USA   \n",
       "5  Ford         Compact 11.3  177    2690   USA   \n",
       "6  Oldsmobile   Compact 13.5  188    2910   USA   \n",
       "7  Pontiac      Compact 11.1  181    2575   USA   \n",
       "8  Buick        Large   20.8  200    3470   USA   \n",
       "9  Buick        Large   23.7  216    4105   USA   \n",
       "10 Cadillac     Large   34.7  206    3620   USA   \n",
       "11 Chevrolet    Large   18.8  214    3910   USA   \n",
       "12 Chrylser     Large   18.4  203    3515   USA   \n",
       "13 Chrysler     Large   29.5  203    3570   USA   \n",
       "14 Eagle        Large   19.3  202    3490   USA   \n",
       "15 Ford         Large   20.9  212    3950   USA   \n",
       "16 Lincoln      Large   36.1  219    4055   USA   \n",
       "17 Oldsmobile   Large   20.7  201    3470   USA   \n",
       "18 Pontiac      Large   24.4  177    3495   USA   \n",
       "19 Buick        Midsize 15.7  189    2880   USA   \n",
       "20 Buick        Midsize 26.3  198    3495   USA   \n",
       "21 Cadillac     Midsize 40.1  204    3935   USA   \n",
       "22 Chevrolet    Midsize 15.9  198    3195   USA   \n",
       "23 Dodge        Midsize 15.6  192    3080   USA   \n",
       "24 Ford         Midsize 20.2  192    3325   USA   \n",
       "25 Lincoln      Midsize 34.3  205    3695   USA   \n",
       "26 Mercury      Midsize 14.9  199    3610   USA   \n",
       "27 Oldsmobile   Midsize 16.3  190    2890   USA   \n",
       "28 Pontiac      Midsize 18.5  195    3450   USA   \n",
       "29 Dodge        Small    9.2  174    2270   USA   \n",
       "30 Dodge        Small   11.3  172    2670   USA   \n",
       "31 Eagle        Small   12.2  174    2295   USA   \n",
       "32 Ford         Small    7.4  141    1845   USA   \n",
       "33 Ford         Small   10.1  171    2530   USA   \n",
       "34 Pontiac      Small    9.0  177    2350   USA   \n",
       "35 Saturn       Small   11.1  176    2495   USA   \n",
       "36 Chevrolet    Sporty  15.1  193    3240   USA   \n",
       "37 Chevrolet    Sporty  38.0  179    3380   USA   \n",
       "38 Dodge        Sporty  25.8  180    3805   USA   \n",
       "39 Ford         Sporty  15.9  180    2850   USA   \n",
       "40 Ford         Sporty  14.0  179    2710   USA   \n",
       "41 Mercury      Sporty  14.1  166    2450   USA   \n",
       "42 Plymouth     Sporty  14.4  173    2640   USA   \n",
       "43 Pontiac      Sporty  17.7  196    3240   USA   \n",
       "44 Chevrolet    Van     16.3  178    3715   USA   \n",
       "45 Chevrolet    Van     16.6  194    4025   USA   \n",
       "46 Dodge        Van     19.0  175    3705   USA   \n",
       "47 Ford         Van     19.9  176    3735   USA   \n",
       "48 Oldsmobile   Van     19.5  194    3715   USA   "
      ]
     },
     "metadata": {},
     "output_type": "display_data"
    },
    {
     "data": {
      "text/html": [
       "<table>\n",
       "<caption>A data.table: 1 × 6</caption>\n",
       "<thead>\n",
       "\t<tr><th scope=col>Manufacturer</th><th scope=col>Type</th><th scope=col>Price</th><th scope=col>Length</th><th scope=col>Weight</th><th scope=col>Origin</th></tr>\n",
       "\t<tr><th scope=col>&lt;fct&gt;</th><th scope=col>&lt;fct&gt;</th><th scope=col>&lt;dbl&gt;</th><th scope=col>&lt;int&gt;</th><th scope=col>&lt;int&gt;</th><th scope=col>&lt;fct&gt;</th></tr>\n",
       "</thead>\n",
       "<tbody>\n",
       "\t<tr><td>NA</td><td>NA</td><td>NA</td><td>NA</td><td>NA</td><td>Large</td></tr>\n",
       "</tbody>\n",
       "</table>\n"
      ],
      "text/latex": [
       "A data.table: 1 × 6\n",
       "\\begin{tabular}{r|llllll}\n",
       " Manufacturer & Type & Price & Length & Weight & Origin\\\\\n",
       " <fct> & <fct> & <dbl> & <int> & <int> & <fct>\\\\\n",
       "\\hline\n",
       "\t NA & NA & NA & NA & NA & Large\\\\\n",
       "\\end{tabular}\n"
      ],
      "text/markdown": [
       "\n",
       "A data.table: 1 × 6\n",
       "\n",
       "| Manufacturer &lt;fct&gt; | Type &lt;fct&gt; | Price &lt;dbl&gt; | Length &lt;int&gt; | Weight &lt;int&gt; | Origin &lt;fct&gt; |\n",
       "|---|---|---|---|---|---|\n",
       "| NA | NA | NA | NA | NA | Large |\n",
       "\n"
      ],
      "text/plain": [
       "  Manufacturer Type Price Length Weight Origin\n",
       "1 NA           NA   NA    NA     NA     Large "
      ]
     },
     "metadata": {},
     "output_type": "display_data"
    },
    {
     "data": {
      "text/html": [
       "<table>\n",
       "<caption>A data.table: 23 × 6</caption>\n",
       "<thead>\n",
       "\t<tr><th scope=col>Manufacturer</th><th scope=col>Type</th><th scope=col>Price</th><th scope=col>Length</th><th scope=col>Weight</th><th scope=col>Origin</th></tr>\n",
       "\t<tr><th scope=col>&lt;fct&gt;</th><th scope=col>&lt;fct&gt;</th><th scope=col>&lt;dbl&gt;</th><th scope=col>&lt;int&gt;</th><th scope=col>&lt;int&gt;</th><th scope=col>&lt;fct&gt;</th></tr>\n",
       "</thead>\n",
       "<tbody>\n",
       "\t<tr><td>Buick        </td><td>Large  </td><td>20.8</td><td>200</td><td>3470</td><td>USA    </td></tr>\n",
       "\t<tr><td>Buick        </td><td>Large  </td><td>23.7</td><td>216</td><td>4105</td><td>USA    </td></tr>\n",
       "\t<tr><td>Cadillac     </td><td>Large  </td><td>34.7</td><td>206</td><td>3620</td><td>USA    </td></tr>\n",
       "\t<tr><td>Chevrolet    </td><td>Large  </td><td>18.8</td><td>214</td><td>3910</td><td>USA    </td></tr>\n",
       "\t<tr><td>Chrylser     </td><td>Large  </td><td>18.4</td><td>203</td><td>3515</td><td>USA    </td></tr>\n",
       "\t<tr><td>Chrysler     </td><td>Large  </td><td>29.5</td><td>203</td><td>3570</td><td>USA    </td></tr>\n",
       "\t<tr><td>Eagle        </td><td>Large  </td><td>19.3</td><td>202</td><td>3490</td><td>USA    </td></tr>\n",
       "\t<tr><td>Ford         </td><td>Large  </td><td>20.9</td><td>212</td><td>3950</td><td>USA    </td></tr>\n",
       "\t<tr><td>Lincoln      </td><td>Large  </td><td>36.1</td><td>219</td><td>4055</td><td>USA    </td></tr>\n",
       "\t<tr><td>Oldsmobile   </td><td>Large  </td><td>20.7</td><td>201</td><td>3470</td><td>USA    </td></tr>\n",
       "\t<tr><td>Pontiac      </td><td>Large  </td><td>24.4</td><td>177</td><td>3495</td><td>USA    </td></tr>\n",
       "\t<tr><td>Acura        </td><td>Midsize</td><td>33.9</td><td>195</td><td>3560</td><td>non-USA</td></tr>\n",
       "\t<tr><td>Audi         </td><td>Midsize</td><td>37.7</td><td>193</td><td>3405</td><td>non-USA</td></tr>\n",
       "\t<tr><td>BMW          </td><td>Midsize</td><td>30.0</td><td>186</td><td>3640</td><td>non-USA</td></tr>\n",
       "\t<tr><td>Hyundai      </td><td>Midsize</td><td>13.9</td><td>184</td><td>2885</td><td>non-USA</td></tr>\n",
       "\t<tr><td>Infiniti     </td><td>Midsize</td><td>47.9</td><td>200</td><td>4000</td><td>non-USA</td></tr>\n",
       "\t<tr><td>Lexus        </td><td>Midsize</td><td>28.0</td><td>188</td><td>3510</td><td>non-USA</td></tr>\n",
       "\t<tr><td>Lexus        </td><td>Midsize</td><td>35.2</td><td>191</td><td>3515</td><td>non-USA</td></tr>\n",
       "\t<tr><td>Mercedes-Benz</td><td>Midsize</td><td>61.9</td><td>187</td><td>3525</td><td>non-USA</td></tr>\n",
       "\t<tr><td>Mitsubishi   </td><td>Midsize</td><td>26.1</td><td>190</td><td>3730</td><td>non-USA</td></tr>\n",
       "\t<tr><td>Nissan       </td><td>Midsize</td><td>21.5</td><td>188</td><td>3200</td><td>non-USA</td></tr>\n",
       "\t<tr><td>Toyota       </td><td>Midsize</td><td>18.2</td><td>188</td><td>3030</td><td>non-USA</td></tr>\n",
       "\t<tr><td>Volvo        </td><td>Midsize</td><td>26.7</td><td>184</td><td>3245</td><td>non-USA</td></tr>\n",
       "</tbody>\n",
       "</table>\n"
      ],
      "text/latex": [
       "A data.table: 23 × 6\n",
       "\\begin{tabular}{r|llllll}\n",
       " Manufacturer & Type & Price & Length & Weight & Origin\\\\\n",
       " <fct> & <fct> & <dbl> & <int> & <int> & <fct>\\\\\n",
       "\\hline\n",
       "\t Buick         & Large   & 20.8 & 200 & 3470 & USA    \\\\\n",
       "\t Buick         & Large   & 23.7 & 216 & 4105 & USA    \\\\\n",
       "\t Cadillac      & Large   & 34.7 & 206 & 3620 & USA    \\\\\n",
       "\t Chevrolet     & Large   & 18.8 & 214 & 3910 & USA    \\\\\n",
       "\t Chrylser      & Large   & 18.4 & 203 & 3515 & USA    \\\\\n",
       "\t Chrysler      & Large   & 29.5 & 203 & 3570 & USA    \\\\\n",
       "\t Eagle         & Large   & 19.3 & 202 & 3490 & USA    \\\\\n",
       "\t Ford          & Large   & 20.9 & 212 & 3950 & USA    \\\\\n",
       "\t Lincoln       & Large   & 36.1 & 219 & 4055 & USA    \\\\\n",
       "\t Oldsmobile    & Large   & 20.7 & 201 & 3470 & USA    \\\\\n",
       "\t Pontiac       & Large   & 24.4 & 177 & 3495 & USA    \\\\\n",
       "\t Acura         & Midsize & 33.9 & 195 & 3560 & non-USA\\\\\n",
       "\t Audi          & Midsize & 37.7 & 193 & 3405 & non-USA\\\\\n",
       "\t BMW           & Midsize & 30.0 & 186 & 3640 & non-USA\\\\\n",
       "\t Hyundai       & Midsize & 13.9 & 184 & 2885 & non-USA\\\\\n",
       "\t Infiniti      & Midsize & 47.9 & 200 & 4000 & non-USA\\\\\n",
       "\t Lexus         & Midsize & 28.0 & 188 & 3510 & non-USA\\\\\n",
       "\t Lexus         & Midsize & 35.2 & 191 & 3515 & non-USA\\\\\n",
       "\t Mercedes-Benz & Midsize & 61.9 & 187 & 3525 & non-USA\\\\\n",
       "\t Mitsubishi    & Midsize & 26.1 & 190 & 3730 & non-USA\\\\\n",
       "\t Nissan        & Midsize & 21.5 & 188 & 3200 & non-USA\\\\\n",
       "\t Toyota        & Midsize & 18.2 & 188 & 3030 & non-USA\\\\\n",
       "\t Volvo         & Midsize & 26.7 & 184 & 3245 & non-USA\\\\\n",
       "\\end{tabular}\n"
      ],
      "text/markdown": [
       "\n",
       "A data.table: 23 × 6\n",
       "\n",
       "| Manufacturer &lt;fct&gt; | Type &lt;fct&gt; | Price &lt;dbl&gt; | Length &lt;int&gt; | Weight &lt;int&gt; | Origin &lt;fct&gt; |\n",
       "|---|---|---|---|---|---|\n",
       "| Buick         | Large   | 20.8 | 200 | 3470 | USA     |\n",
       "| Buick         | Large   | 23.7 | 216 | 4105 | USA     |\n",
       "| Cadillac      | Large   | 34.7 | 206 | 3620 | USA     |\n",
       "| Chevrolet     | Large   | 18.8 | 214 | 3910 | USA     |\n",
       "| Chrylser      | Large   | 18.4 | 203 | 3515 | USA     |\n",
       "| Chrysler      | Large   | 29.5 | 203 | 3570 | USA     |\n",
       "| Eagle         | Large   | 19.3 | 202 | 3490 | USA     |\n",
       "| Ford          | Large   | 20.9 | 212 | 3950 | USA     |\n",
       "| Lincoln       | Large   | 36.1 | 219 | 4055 | USA     |\n",
       "| Oldsmobile    | Large   | 20.7 | 201 | 3470 | USA     |\n",
       "| Pontiac       | Large   | 24.4 | 177 | 3495 | USA     |\n",
       "| Acura         | Midsize | 33.9 | 195 | 3560 | non-USA |\n",
       "| Audi          | Midsize | 37.7 | 193 | 3405 | non-USA |\n",
       "| BMW           | Midsize | 30.0 | 186 | 3640 | non-USA |\n",
       "| Hyundai       | Midsize | 13.9 | 184 | 2885 | non-USA |\n",
       "| Infiniti      | Midsize | 47.9 | 200 | 4000 | non-USA |\n",
       "| Lexus         | Midsize | 28.0 | 188 | 3510 | non-USA |\n",
       "| Lexus         | Midsize | 35.2 | 191 | 3515 | non-USA |\n",
       "| Mercedes-Benz | Midsize | 61.9 | 187 | 3525 | non-USA |\n",
       "| Mitsubishi    | Midsize | 26.1 | 190 | 3730 | non-USA |\n",
       "| Nissan        | Midsize | 21.5 | 188 | 3200 | non-USA |\n",
       "| Toyota        | Midsize | 18.2 | 188 | 3030 | non-USA |\n",
       "| Volvo         | Midsize | 26.7 | 184 | 3245 | non-USA |\n",
       "\n"
      ],
      "text/plain": [
       "   Manufacturer  Type    Price Length Weight Origin \n",
       "1  Buick         Large   20.8  200    3470   USA    \n",
       "2  Buick         Large   23.7  216    4105   USA    \n",
       "3  Cadillac      Large   34.7  206    3620   USA    \n",
       "4  Chevrolet     Large   18.8  214    3910   USA    \n",
       "5  Chrylser      Large   18.4  203    3515   USA    \n",
       "6  Chrysler      Large   29.5  203    3570   USA    \n",
       "7  Eagle         Large   19.3  202    3490   USA    \n",
       "8  Ford          Large   20.9  212    3950   USA    \n",
       "9  Lincoln       Large   36.1  219    4055   USA    \n",
       "10 Oldsmobile    Large   20.7  201    3470   USA    \n",
       "11 Pontiac       Large   24.4  177    3495   USA    \n",
       "12 Acura         Midsize 33.9  195    3560   non-USA\n",
       "13 Audi          Midsize 37.7  193    3405   non-USA\n",
       "14 BMW           Midsize 30.0  186    3640   non-USA\n",
       "15 Hyundai       Midsize 13.9  184    2885   non-USA\n",
       "16 Infiniti      Midsize 47.9  200    4000   non-USA\n",
       "17 Lexus         Midsize 28.0  188    3510   non-USA\n",
       "18 Lexus         Midsize 35.2  191    3515   non-USA\n",
       "19 Mercedes-Benz Midsize 61.9  187    3525   non-USA\n",
       "20 Mitsubishi    Midsize 26.1  190    3730   non-USA\n",
       "21 Nissan        Midsize 21.5  188    3200   non-USA\n",
       "22 Toyota        Midsize 18.2  188    3030   non-USA\n",
       "23 Volvo         Midsize 26.7  184    3245   non-USA"
      ]
     },
     "metadata": {},
     "output_type": "display_data"
    },
    {
     "data": {
      "text/html": [
       "<table>\n",
       "<caption>A data.table: 34 × 6</caption>\n",
       "<thead>\n",
       "\t<tr><th scope=col>Manufacturer</th><th scope=col>Type</th><th scope=col>Price</th><th scope=col>Length</th><th scope=col>Weight</th><th scope=col>Origin</th></tr>\n",
       "\t<tr><th scope=col>&lt;fct&gt;</th><th scope=col>&lt;fct&gt;</th><th scope=col>&lt;dbl&gt;</th><th scope=col>&lt;int&gt;</th><th scope=col>&lt;int&gt;</th><th scope=col>&lt;fct&gt;</th></tr>\n",
       "</thead>\n",
       "<tbody>\n",
       "\t<tr><td>Buick        </td><td>Large  </td><td>20.8</td><td>200</td><td>3470</td><td>USA    </td></tr>\n",
       "\t<tr><td>Buick        </td><td>Large  </td><td>23.7</td><td>216</td><td>4105</td><td>USA    </td></tr>\n",
       "\t<tr><td>Cadillac     </td><td>Large  </td><td>34.7</td><td>206</td><td>3620</td><td>USA    </td></tr>\n",
       "\t<tr><td>Chevrolet    </td><td>Large  </td><td>18.8</td><td>214</td><td>3910</td><td>USA    </td></tr>\n",
       "\t<tr><td>Chrylser     </td><td>Large  </td><td>18.4</td><td>203</td><td>3515</td><td>USA    </td></tr>\n",
       "\t<tr><td>Chrysler     </td><td>Large  </td><td>29.5</td><td>203</td><td>3570</td><td>USA    </td></tr>\n",
       "\t<tr><td>Eagle        </td><td>Large  </td><td>19.3</td><td>202</td><td>3490</td><td>USA    </td></tr>\n",
       "\t<tr><td>Ford         </td><td>Large  </td><td>20.9</td><td>212</td><td>3950</td><td>USA    </td></tr>\n",
       "\t<tr><td>Lincoln      </td><td>Large  </td><td>36.1</td><td>219</td><td>4055</td><td>USA    </td></tr>\n",
       "\t<tr><td>Oldsmobile   </td><td>Large  </td><td>20.7</td><td>201</td><td>3470</td><td>USA    </td></tr>\n",
       "\t<tr><td>Pontiac      </td><td>Large  </td><td>24.4</td><td>177</td><td>3495</td><td>USA    </td></tr>\n",
       "\t<tr><td>Buick        </td><td>Midsize</td><td>15.7</td><td>189</td><td>2880</td><td>USA    </td></tr>\n",
       "\t<tr><td>Buick        </td><td>Midsize</td><td>26.3</td><td>198</td><td>3495</td><td>USA    </td></tr>\n",
       "\t<tr><td>Cadillac     </td><td>Midsize</td><td>40.1</td><td>204</td><td>3935</td><td>USA    </td></tr>\n",
       "\t<tr><td>Chevrolet    </td><td>Midsize</td><td>15.9</td><td>198</td><td>3195</td><td>USA    </td></tr>\n",
       "\t<tr><td>Dodge        </td><td>Midsize</td><td>15.6</td><td>192</td><td>3080</td><td>USA    </td></tr>\n",
       "\t<tr><td>Ford         </td><td>Midsize</td><td>20.2</td><td>192</td><td>3325</td><td>USA    </td></tr>\n",
       "\t<tr><td>Lincoln      </td><td>Midsize</td><td>34.3</td><td>205</td><td>3695</td><td>USA    </td></tr>\n",
       "\t<tr><td>Mercury      </td><td>Midsize</td><td>14.9</td><td>199</td><td>3610</td><td>USA    </td></tr>\n",
       "\t<tr><td>Oldsmobile   </td><td>Midsize</td><td>16.3</td><td>190</td><td>2890</td><td>USA    </td></tr>\n",
       "\t<tr><td>Pontiac      </td><td>Midsize</td><td>18.5</td><td>195</td><td>3450</td><td>USA    </td></tr>\n",
       "\t<tr><td>NA           </td><td>Large  </td><td>  NA</td><td> NA</td><td>  NA</td><td>non-USA</td></tr>\n",
       "\t<tr><td>Acura        </td><td>Midsize</td><td>33.9</td><td>195</td><td>3560</td><td>non-USA</td></tr>\n",
       "\t<tr><td>Audi         </td><td>Midsize</td><td>37.7</td><td>193</td><td>3405</td><td>non-USA</td></tr>\n",
       "\t<tr><td>BMW          </td><td>Midsize</td><td>30.0</td><td>186</td><td>3640</td><td>non-USA</td></tr>\n",
       "\t<tr><td>Hyundai      </td><td>Midsize</td><td>13.9</td><td>184</td><td>2885</td><td>non-USA</td></tr>\n",
       "\t<tr><td>Infiniti     </td><td>Midsize</td><td>47.9</td><td>200</td><td>4000</td><td>non-USA</td></tr>\n",
       "\t<tr><td>Lexus        </td><td>Midsize</td><td>28.0</td><td>188</td><td>3510</td><td>non-USA</td></tr>\n",
       "\t<tr><td>Lexus        </td><td>Midsize</td><td>35.2</td><td>191</td><td>3515</td><td>non-USA</td></tr>\n",
       "\t<tr><td>Mercedes-Benz</td><td>Midsize</td><td>61.9</td><td>187</td><td>3525</td><td>non-USA</td></tr>\n",
       "\t<tr><td>Mitsubishi   </td><td>Midsize</td><td>26.1</td><td>190</td><td>3730</td><td>non-USA</td></tr>\n",
       "\t<tr><td>Nissan       </td><td>Midsize</td><td>21.5</td><td>188</td><td>3200</td><td>non-USA</td></tr>\n",
       "\t<tr><td>Toyota       </td><td>Midsize</td><td>18.2</td><td>188</td><td>3030</td><td>non-USA</td></tr>\n",
       "\t<tr><td>Volvo        </td><td>Midsize</td><td>26.7</td><td>184</td><td>3245</td><td>non-USA</td></tr>\n",
       "</tbody>\n",
       "</table>\n"
      ],
      "text/latex": [
       "A data.table: 34 × 6\n",
       "\\begin{tabular}{r|llllll}\n",
       " Manufacturer & Type & Price & Length & Weight & Origin\\\\\n",
       " <fct> & <fct> & <dbl> & <int> & <int> & <fct>\\\\\n",
       "\\hline\n",
       "\t Buick         & Large   & 20.8 & 200 & 3470 & USA    \\\\\n",
       "\t Buick         & Large   & 23.7 & 216 & 4105 & USA    \\\\\n",
       "\t Cadillac      & Large   & 34.7 & 206 & 3620 & USA    \\\\\n",
       "\t Chevrolet     & Large   & 18.8 & 214 & 3910 & USA    \\\\\n",
       "\t Chrylser      & Large   & 18.4 & 203 & 3515 & USA    \\\\\n",
       "\t Chrysler      & Large   & 29.5 & 203 & 3570 & USA    \\\\\n",
       "\t Eagle         & Large   & 19.3 & 202 & 3490 & USA    \\\\\n",
       "\t Ford          & Large   & 20.9 & 212 & 3950 & USA    \\\\\n",
       "\t Lincoln       & Large   & 36.1 & 219 & 4055 & USA    \\\\\n",
       "\t Oldsmobile    & Large   & 20.7 & 201 & 3470 & USA    \\\\\n",
       "\t Pontiac       & Large   & 24.4 & 177 & 3495 & USA    \\\\\n",
       "\t Buick         & Midsize & 15.7 & 189 & 2880 & USA    \\\\\n",
       "\t Buick         & Midsize & 26.3 & 198 & 3495 & USA    \\\\\n",
       "\t Cadillac      & Midsize & 40.1 & 204 & 3935 & USA    \\\\\n",
       "\t Chevrolet     & Midsize & 15.9 & 198 & 3195 & USA    \\\\\n",
       "\t Dodge         & Midsize & 15.6 & 192 & 3080 & USA    \\\\\n",
       "\t Ford          & Midsize & 20.2 & 192 & 3325 & USA    \\\\\n",
       "\t Lincoln       & Midsize & 34.3 & 205 & 3695 & USA    \\\\\n",
       "\t Mercury       & Midsize & 14.9 & 199 & 3610 & USA    \\\\\n",
       "\t Oldsmobile    & Midsize & 16.3 & 190 & 2890 & USA    \\\\\n",
       "\t Pontiac       & Midsize & 18.5 & 195 & 3450 & USA    \\\\\n",
       "\t NA            & Large   &   NA &  NA &   NA & non-USA\\\\\n",
       "\t Acura         & Midsize & 33.9 & 195 & 3560 & non-USA\\\\\n",
       "\t Audi          & Midsize & 37.7 & 193 & 3405 & non-USA\\\\\n",
       "\t BMW           & Midsize & 30.0 & 186 & 3640 & non-USA\\\\\n",
       "\t Hyundai       & Midsize & 13.9 & 184 & 2885 & non-USA\\\\\n",
       "\t Infiniti      & Midsize & 47.9 & 200 & 4000 & non-USA\\\\\n",
       "\t Lexus         & Midsize & 28.0 & 188 & 3510 & non-USA\\\\\n",
       "\t Lexus         & Midsize & 35.2 & 191 & 3515 & non-USA\\\\\n",
       "\t Mercedes-Benz & Midsize & 61.9 & 187 & 3525 & non-USA\\\\\n",
       "\t Mitsubishi    & Midsize & 26.1 & 190 & 3730 & non-USA\\\\\n",
       "\t Nissan        & Midsize & 21.5 & 188 & 3200 & non-USA\\\\\n",
       "\t Toyota        & Midsize & 18.2 & 188 & 3030 & non-USA\\\\\n",
       "\t Volvo         & Midsize & 26.7 & 184 & 3245 & non-USA\\\\\n",
       "\\end{tabular}\n"
      ],
      "text/markdown": [
       "\n",
       "A data.table: 34 × 6\n",
       "\n",
       "| Manufacturer &lt;fct&gt; | Type &lt;fct&gt; | Price &lt;dbl&gt; | Length &lt;int&gt; | Weight &lt;int&gt; | Origin &lt;fct&gt; |\n",
       "|---|---|---|---|---|---|\n",
       "| Buick         | Large   | 20.8 | 200 | 3470 | USA     |\n",
       "| Buick         | Large   | 23.7 | 216 | 4105 | USA     |\n",
       "| Cadillac      | Large   | 34.7 | 206 | 3620 | USA     |\n",
       "| Chevrolet     | Large   | 18.8 | 214 | 3910 | USA     |\n",
       "| Chrylser      | Large   | 18.4 | 203 | 3515 | USA     |\n",
       "| Chrysler      | Large   | 29.5 | 203 | 3570 | USA     |\n",
       "| Eagle         | Large   | 19.3 | 202 | 3490 | USA     |\n",
       "| Ford          | Large   | 20.9 | 212 | 3950 | USA     |\n",
       "| Lincoln       | Large   | 36.1 | 219 | 4055 | USA     |\n",
       "| Oldsmobile    | Large   | 20.7 | 201 | 3470 | USA     |\n",
       "| Pontiac       | Large   | 24.4 | 177 | 3495 | USA     |\n",
       "| Buick         | Midsize | 15.7 | 189 | 2880 | USA     |\n",
       "| Buick         | Midsize | 26.3 | 198 | 3495 | USA     |\n",
       "| Cadillac      | Midsize | 40.1 | 204 | 3935 | USA     |\n",
       "| Chevrolet     | Midsize | 15.9 | 198 | 3195 | USA     |\n",
       "| Dodge         | Midsize | 15.6 | 192 | 3080 | USA     |\n",
       "| Ford          | Midsize | 20.2 | 192 | 3325 | USA     |\n",
       "| Lincoln       | Midsize | 34.3 | 205 | 3695 | USA     |\n",
       "| Mercury       | Midsize | 14.9 | 199 | 3610 | USA     |\n",
       "| Oldsmobile    | Midsize | 16.3 | 190 | 2890 | USA     |\n",
       "| Pontiac       | Midsize | 18.5 | 195 | 3450 | USA     |\n",
       "| NA            | Large   |   NA |  NA |   NA | non-USA |\n",
       "| Acura         | Midsize | 33.9 | 195 | 3560 | non-USA |\n",
       "| Audi          | Midsize | 37.7 | 193 | 3405 | non-USA |\n",
       "| BMW           | Midsize | 30.0 | 186 | 3640 | non-USA |\n",
       "| Hyundai       | Midsize | 13.9 | 184 | 2885 | non-USA |\n",
       "| Infiniti      | Midsize | 47.9 | 200 | 4000 | non-USA |\n",
       "| Lexus         | Midsize | 28.0 | 188 | 3510 | non-USA |\n",
       "| Lexus         | Midsize | 35.2 | 191 | 3515 | non-USA |\n",
       "| Mercedes-Benz | Midsize | 61.9 | 187 | 3525 | non-USA |\n",
       "| Mitsubishi    | Midsize | 26.1 | 190 | 3730 | non-USA |\n",
       "| Nissan        | Midsize | 21.5 | 188 | 3200 | non-USA |\n",
       "| Toyota        | Midsize | 18.2 | 188 | 3030 | non-USA |\n",
       "| Volvo         | Midsize | 26.7 | 184 | 3245 | non-USA |\n",
       "\n"
      ],
      "text/plain": [
       "   Manufacturer  Type    Price Length Weight Origin \n",
       "1  Buick         Large   20.8  200    3470   USA    \n",
       "2  Buick         Large   23.7  216    4105   USA    \n",
       "3  Cadillac      Large   34.7  206    3620   USA    \n",
       "4  Chevrolet     Large   18.8  214    3910   USA    \n",
       "5  Chrylser      Large   18.4  203    3515   USA    \n",
       "6  Chrysler      Large   29.5  203    3570   USA    \n",
       "7  Eagle         Large   19.3  202    3490   USA    \n",
       "8  Ford          Large   20.9  212    3950   USA    \n",
       "9  Lincoln       Large   36.1  219    4055   USA    \n",
       "10 Oldsmobile    Large   20.7  201    3470   USA    \n",
       "11 Pontiac       Large   24.4  177    3495   USA    \n",
       "12 Buick         Midsize 15.7  189    2880   USA    \n",
       "13 Buick         Midsize 26.3  198    3495   USA    \n",
       "14 Cadillac      Midsize 40.1  204    3935   USA    \n",
       "15 Chevrolet     Midsize 15.9  198    3195   USA    \n",
       "16 Dodge         Midsize 15.6  192    3080   USA    \n",
       "17 Ford          Midsize 20.2  192    3325   USA    \n",
       "18 Lincoln       Midsize 34.3  205    3695   USA    \n",
       "19 Mercury       Midsize 14.9  199    3610   USA    \n",
       "20 Oldsmobile    Midsize 16.3  190    2890   USA    \n",
       "21 Pontiac       Midsize 18.5  195    3450   USA    \n",
       "22 NA            Large     NA   NA      NA   non-USA\n",
       "23 Acura         Midsize 33.9  195    3560   non-USA\n",
       "24 Audi          Midsize 37.7  193    3405   non-USA\n",
       "25 BMW           Midsize 30.0  186    3640   non-USA\n",
       "26 Hyundai       Midsize 13.9  184    2885   non-USA\n",
       "27 Infiniti      Midsize 47.9  200    4000   non-USA\n",
       "28 Lexus         Midsize 28.0  188    3510   non-USA\n",
       "29 Lexus         Midsize 35.2  191    3515   non-USA\n",
       "30 Mercedes-Benz Midsize 61.9  187    3525   non-USA\n",
       "31 Mitsubishi    Midsize 26.1  190    3730   non-USA\n",
       "32 Nissan        Midsize 21.5  188    3200   non-USA\n",
       "33 Toyota        Midsize 18.2  188    3030   non-USA\n",
       "34 Volvo         Midsize 26.7  184    3245   non-USA"
      ]
     },
     "metadata": {},
     "output_type": "display_data"
    }
   ],
   "source": [
    "setkey(x3, Origin, Type)\n",
    "key(x3)\n",
    "x3[J(\"USA\", c(\"Large\", \"Midsize\"))]   # 用J函數呼叫多個key\n",
    "x3[J(\"Large\", \"USA\")]                 # 順序有要求\n",
    "x3[\"USA\"]                             # 如果不呼叫全部的key, 則會依序處理, 此處適用的key是Origin\n",
    "x3[\"Large\"]                           # 變數Origin並沒有Large這個元素\n",
    "x3[J(c(\"non-USA\", \"USA\"), c(\"Midsize\", \"Large\"))]    # 2種組合\n",
    "x3[CJ(c(\"USA\", \"non-USA\"), c(\"Large\", \"Midsize\"))]   # cross join: 4種組合"
   ]
  },
  {
   "cell_type": "code",
   "execution_count": 40,
   "metadata": {},
   "outputs": [],
   "source": []
  },
  {
   "cell_type": "code",
   "execution_count": null,
   "metadata": {},
   "outputs": [],
   "source": []
  }
 ],
 "metadata": {
  "kernelspec": {
   "display_name": "R",
   "language": "R",
   "name": "ir"
  },
  "language_info": {
   "codemirror_mode": "r",
   "file_extension": ".r",
   "mimetype": "text/x-r-source",
   "name": "R",
   "pygments_lexer": "r",
   "version": "3.5.1"
  }
 },
 "nbformat": 4,
 "nbformat_minor": 2
}
